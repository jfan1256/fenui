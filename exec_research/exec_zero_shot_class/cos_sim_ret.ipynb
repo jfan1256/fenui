{
 "cells": [
  {
   "cell_type": "markdown",
   "id": "f2aebf7e-ddb4-47d3-a128-725f3f640827",
   "metadata": {},
   "source": [
    "### Import Package"
   ]
  },
  {
   "cell_type": "code",
   "execution_count": 1,
   "id": "21cd494f-b748-4e68-870c-1b4b75979136",
   "metadata": {},
   "outputs": [
    {
     "name": "stderr",
     "output_type": "stream",
     "text": [
      "[nltk_data] Downloading package punkt to\n",
      "[nltk_data]     C:\\Users\\weigfan\\AppData\\Roaming\\nltk_data...\n",
      "[nltk_data]   Package punkt is already up-to-date!\n"
     ]
    },
    {
     "name": "stdout",
     "output_type": "stream",
     "text": [
      "WARNING:tensorflow:From C:\\Users\\weigfan\\AppData\\Local\\anaconda3\\envs\\narrativezoo\\lib\\site-packages\\keras\\src\\losses.py:2976: The name tf.losses.sparse_softmax_cross_entropy is deprecated. Please use tf.compat.v1.losses.sparse_softmax_cross_entropy instead.\n",
      "\n"
     ]
    }
   ],
   "source": [
    "import pandas as pd\n",
    "import os\n",
    "import time\n",
    "import requests \n",
    "import tiktoken\n",
    "import numpy as np\n",
    "import ray\n",
    "import matplotlib.pyplot as plt\n",
    "import plotly.express as px\n",
    "import nltk\n",
    "nltk.download('punkt')\n",
    "\n",
    "from nltk.tokenize import sent_tokenize\n",
    "from jupyter_dash import JupyterDash\n",
    "from dash import dcc, html\n",
    "from dash.dependencies import Input, Output\n",
    "from openai import OpenAI\n",
    "from sklearn.metrics import PrecisionRecallDisplay\n",
    "\n",
    "from utils.system import *\n",
    "from class_data.data import Data\n",
    "from class_model.model import Model\n",
    "\n",
    "import warnings\n",
    "warnings.filterwarnings('ignore')"
   ]
  },
  {
   "cell_type": "markdown",
   "id": "98e614f8-6d2f-4fbb-bb87-e3b051066e6d",
   "metadata": {},
   "source": [
    "#### Data"
   ]
  },
  {
   "cell_type": "code",
   "execution_count": 2,
   "id": "234f5282-7ff5-4781-b87f-7fbfaad99ced",
   "metadata": {},
   "outputs": [
    {
     "name": "stdout",
     "output_type": "stream",
     "text": [
      "(830899, 4)\n"
     ]
    }
   ],
   "source": [
    "# Multiple Articles per Day Data\n",
    "wsj_multiple = Data(folder_path=get_format_data() / 'token', file_pattern='wsj_tokens_*')\n",
    "wsj_multiple = wsj_multiple.concat_files()\n",
    "# Set limit to the exact same value used in embedding_similarity.ipynb to align indexes\n",
    "limit = 30\n",
    "count = wsj_multiple.groupby(wsj_multiple.index)['accession_number'].count()\n",
    "valid_dates_mask = count >= limit\n",
    "wsj_multiple = wsj_multiple[wsj_multiple.index.isin(count[valid_dates_mask].index)]\n",
    "print(wsj_multiple.shape)"
   ]
  },
  {
   "cell_type": "code",
   "execution_count": 3,
   "id": "10bea4e0-1538-4b20-8a25-4cf05acada27",
   "metadata": {},
   "outputs": [
    {
     "name": "stdout",
     "output_type": "stream",
     "text": [
      "(830899, 1)\n"
     ]
    }
   ],
   "source": [
    "cosine_sim = pd.read_parquet(get_format_data() / 'cosine_sim' / 'wsj_cosine_sim.parquet.brotli')\n",
    "print(cosine_sim.shape)"
   ]
  },
  {
   "cell_type": "markdown",
   "id": "0308cc01-5139-4a41-b1ea-8a7827675436",
   "metadata": {},
   "source": [
    "#### Retrieve Largest Cosine Similarity Article Per Date"
   ]
  },
  {
   "cell_type": "code",
   "execution_count": 16,
   "id": "da23def5-c4b6-4c16-97ee-672c7d04afc5",
   "metadata": {},
   "outputs": [],
   "source": [
    "cosine_sim_label = [f'cosine_sim_{i}' for i, label in enumerate(labels)]\n",
    "cosine_sim_change = [f'relu_cosine_sim_{i}' for i, label in enumerate(labels)]\n",
    "combine = pd.concat([cosine_sim, wsj_multiple], axis=1)\n",
    "combine[cosine_sim_change] = np.maximum(0, cosine_sim[cosine_sim_label] - 0.75)\n",
    "combine['cosine_sim_sum'] = combine[cosine_sim_change].sum(axis=1).to_frame()\n",
    "combine.index.names = ['date']"
   ]
  },
  {
   "cell_type": "code",
   "execution_count": 17,
   "id": "d3635532-9c1a-4454-90ce-8286d89fd604",
   "metadata": {},
   "outputs": [],
   "source": [
    "max_cosine_sim_sum = combine.groupby('date')['cosine_sim_sum'].transform('max')\n",
    "mask = combine['cosine_sim_sum'] == max_cosine_sim_sum\n",
    "max_article = combine[mask]"
   ]
  },
  {
   "cell_type": "markdown",
   "id": "87847ef0-5840-4941-9bd5-b769209b4354",
   "metadata": {},
   "source": [
    "#### Interactive Plot"
   ]
  },
  {
   "cell_type": "code",
   "execution_count": 18,
   "id": "61e0f63b-dbb8-44f5-94f6-bc92a71e9dd2",
   "metadata": {},
   "outputs": [
    {
     "data": {
      "text/html": [
       "\n",
       "        <iframe\n",
       "            width=\"100%\"\n",
       "            height=\"650\"\n",
       "            src=\"http://127.0.0.1:8050/\"\n",
       "            frameborder=\"0\"\n",
       "            allowfullscreen\n",
       "            \n",
       "        ></iframe>\n",
       "        "
      ],
      "text/plain": [
       "<IPython.lib.display.IFrame at 0x19e65cc1b40>"
      ]
     },
     "metadata": {},
     "output_type": "display_data"
    },
    {
     "name": "stdout",
     "output_type": "stream",
     "text": [
      "Dash app running on http://127.0.0.1:8050/\n"
     ]
    }
   ],
   "source": [
    "app = JupyterDash(__name__)\n",
    "\n",
    "app.layout = html.Div([\n",
    "    dcc.Graph(id='timeseries-plot', figure=px.line(max_article, x=max_article.index, y='cosine_sim_sum', title='Cosine Similarity Timeseries')),\n",
    "    html.Div(id='text-output')\n",
    "])\n",
    "\n",
    "@app.callback(\n",
    "    Output('text-output', 'children'),\n",
    "    [Input('timeseries-plot', 'clickData')]\n",
    ")\n",
    "def display_click_data(clickData):\n",
    "    if clickData is not None:\n",
    "        date_str = clickData['points'][0]['x']\n",
    "        article_text = max_article.loc[date_str, 'body_txt']\n",
    "        article_headline = max_article.loc[date_str, 'headline']\n",
    "        return html.Div([\n",
    "            html.H4(f\"Date: {date_str}\"),\n",
    "            html.H4(f\"Headline: {article_headline}\", style={'font-weight': 'bold'}),\n",
    "            html.P(article_text)\n",
    "        ])\n",
    "    return \"Click on a point to see the article details.\"\n",
    "\n",
    "app.run_server(mode='external')"
   ]
  },
  {
   "cell_type": "code",
   "execution_count": null,
   "id": "c0be865c-cc74-45d1-8570-73c55a424b2c",
   "metadata": {},
   "outputs": [],
   "source": []
  }
 ],
 "metadata": {
  "kernelspec": {
   "display_name": "narrativezoo",
   "language": "python",
   "name": "narrativezoo"
  },
  "language_info": {
   "codemirror_mode": {
    "name": "ipython",
    "version": 3
   },
   "file_extension": ".py",
   "mimetype": "text/x-python",
   "name": "python",
   "nbconvert_exporter": "python",
   "pygments_lexer": "ipython3",
   "version": "3.10.13"
  }
 },
 "nbformat": 4,
 "nbformat_minor": 5
}
