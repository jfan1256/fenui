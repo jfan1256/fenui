{
 "cells": [
  {
   "cell_type": "markdown",
   "id": "65d49cca-05f7-422e-8546-876df594fda9",
   "metadata": {},
   "source": [
    "#### Import Packages"
   ]
  },
  {
   "cell_type": "code",
   "execution_count": 1,
   "id": "6ade1ad6-7abd-4dfc-ba45-5a78f66662ea",
   "metadata": {},
   "outputs": [],
   "source": [
    "import pandas as pd\n",
    "import pickle\n",
    "import json\n",
    "import numpy as np\n",
    "\n",
    "from openai import OpenAI\n",
    "from sklearn.metrics.pairwise import cosine_similarity\n",
    "\n",
    "from utils.system import *\n",
    "from class_data.data import Data\n",
    "from class_generate.gen_count import GenCount\n",
    "\n",
    "import warnings\n",
    "warnings.filterwarnings('ignore')"
   ]
  },
  {
   "cell_type": "markdown",
   "id": "209852d9-da17-4e41-88a2-7cb1acb170e4",
   "metadata": {},
   "source": [
    "#### Load Data"
   ]
  },
  {
   "cell_type": "code",
   "execution_count": 2,
   "id": "bae7a8cf-4a69-4004-87cc-59ba876146f9",
   "metadata": {},
   "outputs": [],
   "source": [
    "# Load articles\n",
    "wsj_art = Data(folder_path=get_format_data() / 'token', file_pattern='wsj_tokens_*')\n",
    "wsj_art = wsj_art.concat_files()"
   ]
  },
  {
   "cell_type": "markdown",
   "id": "88701705-4fec-4a6f-b141-6fdbba901ebe",
   "metadata": {},
   "source": [
    "#### Count Plot"
   ]
  },
  {
   "cell_type": "code",
   "execution_count": 3,
   "id": "37cfc6c7-c4f7-469f-8e31-a98c6f55cb24",
   "metadata": {},
   "outputs": [],
   "source": [
    "# Params\n",
    "preprocess_column = 'body_txt'\n",
    "interval = 'M'"
   ]
  },
  {
   "cell_type": "code",
   "execution_count": null,
   "id": "dc7aeee6-daf3-4294-8c2b-70c99c77ee46",
   "metadata": {},
   "outputs": [],
   "source": [
    "query = 'Generate an index with label ESG from 1984-01-02 to 2021-12-31'\n",
    "generate = GenCount(query=query, preprocess_data=wsj_art, preprocess_column=preprocess_column, article_data=wsj_art, interval=interval)\n",
    "esg = generate.generate_count()\n",
    "esg.plot(figsize=(10,4))"
   ]
  }
 ],
 "metadata": {
  "kernelspec": {
   "display_name": "narrativezoo",
   "language": "python",
   "name": "narrativezoo"
  },
  "language_info": {
   "codemirror_mode": {
    "name": "ipython",
    "version": 3
   },
   "file_extension": ".py",
   "mimetype": "text/x-python",
   "name": "python",
   "nbconvert_exporter": "python",
   "pygments_lexer": "ipython3",
   "version": "3.10.13"
  }
 },
 "nbformat": 4,
 "nbformat_minor": 5
}
