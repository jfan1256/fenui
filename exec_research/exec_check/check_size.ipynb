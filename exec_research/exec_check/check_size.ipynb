{
 "cells": [
  {
   "cell_type": "markdown",
   "id": "8179b26d-a897-4c16-8b02-671647ae1adc",
   "metadata": {},
   "source": [
    "#### Import Packages"
   ]
  },
  {
   "cell_type": "code",
   "execution_count": 21,
   "id": "6df81c60-aba5-495a-8dbb-893b0307fd03",
   "metadata": {},
   "outputs": [],
   "source": [
    "import pandas as pd\n",
    "import numpy as np\n",
    "\n",
    "from numba import jit\n",
    "\n",
    "from utils.system import *\n",
    "from class_data.data import Data"
   ]
  },
  {
   "cell_type": "markdown",
   "id": "3266e162-7677-4460-a2d9-2eb2be9223b8",
   "metadata": {},
   "source": [
    "#### Data"
   ]
  },
  {
   "cell_type": "code",
   "execution_count": 38,
   "id": "9b9f3091-4c21-43f7-96a0-3a7e6e7755f6",
   "metadata": {},
   "outputs": [
    {
     "name": "stderr",
     "output_type": "stream",
     "text": [
      "Loading Data: 100%|████████████████████████████████████████████████████████████████████████████████████████████████████████████████████████████████████████████████████████████████████████████████████████████████████████████████████| 832/832 [00:10<00:00, 76.10it/s]\n",
      "Loading Data: 100%|████████████████████████████████████████████████████████████████████████████████████████████████████████████████████████████████████████████████████████████████████████████████████████████████████████████████████████| 8/8 [00:05<00:00,  1.57it/s]\n"
     ]
    }
   ],
   "source": [
    "# Load openai embeddings\n",
    "wsj_openai = Data(folder_path=get_format_data() / 'openai', file_pattern='wsj_emb_textemb3small_*')\n",
    "wsj_openai = wsj_openai.concat_files()\n",
    "\n",
    "# Load articles\n",
    "wsj_art = Data(folder_path=get_format_data() / 'token', file_pattern='wsj_tokens_*')\n",
    "wsj_art = wsj_art.concat_files()"
   ]
  },
  {
   "cell_type": "code",
   "execution_count": 35,
   "id": "c6625e5f-14f8-4f53-a678-1138b20e8977",
   "metadata": {},
   "outputs": [
    {
     "name": "stderr",
     "output_type": "stream",
     "text": [
      "Loading Data: 100%|██████████████████████████████████████████████████████████████████████████████████████████████████████████████████████████████████████████████████████████████████████████████████████████████████████████████████████| 50/50 [00:12<00:00,  4.15it/s]\n"
     ]
    }
   ],
   "source": [
    "# Load all\n",
    "wsj_all = Data(folder_path=get_format_data() / 'web', file_pattern='wsj_all_*')\n",
    "wsj_all = wsj_all.concat_files()"
   ]
  },
  {
   "cell_type": "markdown",
   "id": "e2b03a27-f424-4c29-8328-e8b6fc662538",
   "metadata": {},
   "source": [
    "#### Get word count"
   ]
  },
  {
   "cell_type": "code",
   "execution_count": null,
   "id": "6ddf3af8-aebe-4aad-8318-f5e20638dc19",
   "metadata": {
    "scrolled": true
   },
   "outputs": [],
   "source": [
    "@jit\n",
    "def fast_word_count(texts):\n",
    "    counts = np.zeros(len(texts), dtype=np.int32)\n",
    "    for i, text in enumerate(texts):\n",
    "        counts[i] = len(text.split())\n",
    "    return counts\n",
    "\n",
    "wsj_art['word_count'] = fast_word_count(wsj_art['body_txt'].values)"
   ]
  },
  {
   "cell_type": "markdown",
   "id": "34185a68-dc66-4bde-b178-41842c38a6c5",
   "metadata": {},
   "source": [
    "#### Stats"
   ]
  },
  {
   "cell_type": "code",
   "execution_count": 32,
   "id": "0a18f611-9e33-4e70-bddd-d5eef1c80ad2",
   "metadata": {},
   "outputs": [
    {
     "name": "stdout",
     "output_type": "stream",
     "text": [
      "Number of articles: 831077\n"
     ]
    }
   ],
   "source": [
    "print(f\"Number of articles: {len(wsj_openai)}\")"
   ]
  },
  {
   "cell_type": "code",
   "execution_count": 16,
   "id": "9f62c2b1-f616-4864-8770-015caa5d7c0d",
   "metadata": {},
   "outputs": [
    {
     "name": "stdout",
     "output_type": "stream",
     "text": [
      "Min Tokens: 109\n",
      "Max Tokens: 7999\n",
      "Mean Tokens: 688.352247745997\n",
      "STD Tokens: 480.1343586650534\n"
     ]
    }
   ],
   "source": [
    "print(f\"Min Tokens: {wsj_art.n_tokens.min()}\")\n",
    "print(f\"Max Tokens: {wsj_art.n_tokens.max()}\")\n",
    "print(f\"Mean Tokens: {wsj_art.n_tokens.mean()}\")\n",
    "print(f\"STD Tokens: {wsj_art.n_tokens.std()}\")"
   ]
  },
  {
   "cell_type": "code",
   "execution_count": 24,
   "id": "c0f0c5c8-769a-48be-b757-a3edab2d6613",
   "metadata": {},
   "outputs": [
    {
     "name": "stdout",
     "output_type": "stream",
     "text": [
      "Min Words: 100\n",
      "Max Words: 6779\n",
      "Mean Words: 564.9563686637941\n",
      "STD Words: 395.35693104213937\n"
     ]
    }
   ],
   "source": [
    "print(f\"Min Words: {wsj_art.word_count.min()}\")\n",
    "print(f\"Max Words: {wsj_art.word_count.max()}\")\n",
    "print(f\"Mean Words: {wsj_art.word_count.mean()}\")\n",
    "print(f\"STD Words: {wsj_art.word_count.std()}\")"
   ]
  }
 ],
 "metadata": {
  "kernelspec": {
   "display_name": "narrativezoo",
   "language": "python",
   "name": "narrativezoo"
  },
  "language_info": {
   "codemirror_mode": {
    "name": "ipython",
    "version": 3
   },
   "file_extension": ".py",
   "mimetype": "text/x-python",
   "name": "python",
   "nbconvert_exporter": "python",
   "pygments_lexer": "ipython3",
   "version": "3.10.13"
  }
 },
 "nbformat": 4,
 "nbformat_minor": 5
}
