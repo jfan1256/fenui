{
 "cells": [
  {
   "cell_type": "markdown",
   "id": "8179b26d-a897-4c16-8b02-671647ae1adc",
   "metadata": {},
   "source": [
    "#### Import Packages"
   ]
  },
  {
   "cell_type": "code",
   "execution_count": 1,
   "id": "6df81c60-aba5-495a-8dbb-893b0307fd03",
   "metadata": {},
   "outputs": [],
   "source": [
    "import pandas as pd\n",
    "import numpy as np\n",
    "\n",
    "from numba import jit\n",
    "\n",
    "from utils.system import *\n",
    "from class_data.data import Data"
   ]
  },
  {
   "cell_type": "markdown",
   "id": "3266e162-7677-4460-a2d9-2eb2be9223b8",
   "metadata": {},
   "source": [
    "#### Data"
   ]
  },
  {
   "cell_type": "code",
   "execution_count": 44,
   "id": "9b9f3091-4c21-43f7-96a0-3a7e6e7755f6",
   "metadata": {},
   "outputs": [
    {
     "name": "stderr",
     "output_type": "stream",
     "text": [
      "Loading Data: 100%|████████████████████████████████████████████████████████████████████████████████████████████████████████████████████████████████████████████████████████████████████████████████████████████████████████████████████| 832/832 [00:19<00:00, 43.50it/s]\n",
      "Loading Data: 100%|████████████████████████████████████████████████████████████████████████████████████████████████████████████████████████████████████████████████████████████████████████████████████████████████████████████████████████| 8/8 [00:13<00:00,  1.74s/it]\n"
     ]
    }
   ],
   "source": [
    "# Load openai embeddings\n",
    "wsj_openai = Data(folder_path=get_format_data() / 'openai', file_pattern='wsj_emb_textemb3small_*')\n",
    "wsj_openai = wsj_openai.concat_files()\n",
    "\n",
    "# Load articles\n",
    "wsj_art = Data(folder_path=get_format_data() / 'token', file_pattern='wsj_tokens_*')\n",
    "wsj_art = wsj_art.concat_files()"
   ]
  },
  {
   "cell_type": "code",
   "execution_count": 2,
   "id": "a37aeac9-7653-424d-bb5b-bfd8fd9a8424",
   "metadata": {},
   "outputs": [
    {
     "name": "stderr",
     "output_type": "stream",
     "text": [
      "Loading Data: 100%|████████████████████████████████████████████████████████████████████████████████████████████████████████████████████████████████████████████████████████████████████████████████████████████████████████████████████| 832/832 [00:18<00:00, 46.15it/s]\n"
     ]
    }
   ],
   "source": [
    "# Load openai embeddings\n",
    "wsj_openai = Data(folder_path=get_format_data() / 'openai', file_pattern='wsj_emb_textemb3small_*')\n",
    "wsj_openai = wsj_openai.concat_files()"
   ]
  },
  {
   "cell_type": "code",
   "execution_count": 5,
   "id": "d2fabba5-86fc-47c5-94b7-9c1d7d520e1a",
   "metadata": {},
   "outputs": [
    {
     "data": {
      "text/html": [
       "<div>\n",
       "<style scoped>\n",
       "    .dataframe tbody tr th:only-of-type {\n",
       "        vertical-align: middle;\n",
       "    }\n",
       "\n",
       "    .dataframe tbody tr th {\n",
       "        vertical-align: top;\n",
       "    }\n",
       "\n",
       "    .dataframe thead th {\n",
       "        text-align: right;\n",
       "    }\n",
       "</style>\n",
       "<table border=\"1\" class=\"dataframe\">\n",
       "  <thead>\n",
       "    <tr style=\"text-align: right;\">\n",
       "      <th></th>\n",
       "      <th>ada_embedding</th>\n",
       "    </tr>\n",
       "  </thead>\n",
       "  <tbody>\n",
       "    <tr>\n",
       "      <th>2014-01-09</th>\n",
       "      <td>[0.020726215094327927, 0.00799638032913208, 0....</td>\n",
       "    </tr>\n",
       "    <tr>\n",
       "      <th>2014-01-09</th>\n",
       "      <td>[0.009102221578359604, -0.03386571630835533, -...</td>\n",
       "    </tr>\n",
       "    <tr>\n",
       "      <th>2014-01-09</th>\n",
       "      <td>[0.028019029647111893, -0.0021907102782279253,...</td>\n",
       "    </tr>\n",
       "    <tr>\n",
       "      <th>2014-01-09</th>\n",
       "      <td>[0.047034163028001785, -0.009355587884783745, ...</td>\n",
       "    </tr>\n",
       "    <tr>\n",
       "      <th>2014-01-09</th>\n",
       "      <td>[0.02972198650240898, 0.03132281079888344, 0.0...</td>\n",
       "    </tr>\n",
       "    <tr>\n",
       "      <th>...</th>\n",
       "      <td>...</td>\n",
       "    </tr>\n",
       "    <tr>\n",
       "      <th>2014-01-09</th>\n",
       "      <td>[0.018027562648057938, 0.0247644055634737, 0.0...</td>\n",
       "    </tr>\n",
       "    <tr>\n",
       "      <th>2014-01-09</th>\n",
       "      <td>[0.027128957211971283, 0.03402486443519592, 0....</td>\n",
       "    </tr>\n",
       "    <tr>\n",
       "      <th>2014-01-09</th>\n",
       "      <td>[0.03846384584903717, 0.013295426964759827, 0....</td>\n",
       "    </tr>\n",
       "    <tr>\n",
       "      <th>2014-01-09</th>\n",
       "      <td>[0.0037596754264086485, 0.04038145765662193, 0...</td>\n",
       "    </tr>\n",
       "    <tr>\n",
       "      <th>2014-01-09</th>\n",
       "      <td>[0.0743507519364357, -0.005191616248339415, 0....</td>\n",
       "    </tr>\n",
       "  </tbody>\n",
       "</table>\n",
       "<p>73 rows × 1 columns</p>\n",
       "</div>"
      ],
      "text/plain": [
       "                                                ada_embedding\n",
       "2014-01-09  [0.020726215094327927, 0.00799638032913208, 0....\n",
       "2014-01-09  [0.009102221578359604, -0.03386571630835533, -...\n",
       "2014-01-09  [0.028019029647111893, -0.0021907102782279253,...\n",
       "2014-01-09  [0.047034163028001785, -0.009355587884783745, ...\n",
       "2014-01-09  [0.02972198650240898, 0.03132281079888344, 0.0...\n",
       "...                                                       ...\n",
       "2014-01-09  [0.018027562648057938, 0.0247644055634737, 0.0...\n",
       "2014-01-09  [0.027128957211971283, 0.03402486443519592, 0....\n",
       "2014-01-09  [0.03846384584903717, 0.013295426964759827, 0....\n",
       "2014-01-09  [0.0037596754264086485, 0.04038145765662193, 0...\n",
       "2014-01-09  [0.0743507519364357, -0.005191616248339415, 0....\n",
       "\n",
       "[73 rows x 1 columns]"
      ]
     },
     "execution_count": 5,
     "metadata": {},
     "output_type": "execute_result"
    }
   ],
   "source": [
    "wsj_openai.loc[wsj_openai.index == '2014-01-09']"
   ]
  },
  {
   "cell_type": "code",
   "execution_count": 35,
   "id": "c6625e5f-14f8-4f53-a678-1138b20e8977",
   "metadata": {},
   "outputs": [
    {
     "name": "stderr",
     "output_type": "stream",
     "text": [
      "Loading Data: 100%|██████████████████████████████████████████████████████████████████████████████████████████████████████████████████████████████████████████████████████████████████████████████████████████████████████████████████████| 50/50 [00:12<00:00,  4.15it/s]\n"
     ]
    }
   ],
   "source": [
    "# Load all\n",
    "wsj_all = Data(folder_path=get_format_data() / 'web', file_pattern='wsj_all_*')\n",
    "wsj_all = wsj_all.concat_files()"
   ]
  },
  {
   "cell_type": "markdown",
   "id": "e2b03a27-f424-4c29-8328-e8b6fc662538",
   "metadata": {},
   "source": [
    "#### Get word count"
   ]
  },
  {
   "cell_type": "code",
   "execution_count": null,
   "id": "6ddf3af8-aebe-4aad-8318-f5e20638dc19",
   "metadata": {
    "scrolled": true
   },
   "outputs": [],
   "source": [
    "@jit\n",
    "def fast_word_count(texts):\n",
    "    counts = np.zeros(len(texts), dtype=np.int32)\n",
    "    for i, text in enumerate(texts):\n",
    "        counts[i] = len(text.split())\n",
    "    return counts\n",
    "\n",
    "wsj_art['word_count'] = fast_word_count(wsj_art['body_txt'].values)"
   ]
  },
  {
   "cell_type": "markdown",
   "id": "34185a68-dc66-4bde-b178-41842c38a6c5",
   "metadata": {},
   "source": [
    "#### Stats"
   ]
  },
  {
   "cell_type": "code",
   "execution_count": 32,
   "id": "0a18f611-9e33-4e70-bddd-d5eef1c80ad2",
   "metadata": {},
   "outputs": [
    {
     "name": "stdout",
     "output_type": "stream",
     "text": [
      "Number of articles: 831077\n"
     ]
    }
   ],
   "source": [
    "print(f\"Number of articles: {len(wsj_openai)}\")"
   ]
  },
  {
   "cell_type": "code",
   "execution_count": 16,
   "id": "9f62c2b1-f616-4864-8770-015caa5d7c0d",
   "metadata": {},
   "outputs": [
    {
     "name": "stdout",
     "output_type": "stream",
     "text": [
      "Min Tokens: 109\n",
      "Max Tokens: 7999\n",
      "Mean Tokens: 688.352247745997\n",
      "STD Tokens: 480.1343586650534\n"
     ]
    }
   ],
   "source": [
    "print(f\"Min Tokens: {wsj_art.n_tokens.min()}\")\n",
    "print(f\"Max Tokens: {wsj_art.n_tokens.max()}\")\n",
    "print(f\"Mean Tokens: {wsj_art.n_tokens.mean()}\")\n",
    "print(f\"STD Tokens: {wsj_art.n_tokens.std()}\")"
   ]
  },
  {
   "cell_type": "code",
   "execution_count": 24,
   "id": "c0f0c5c8-769a-48be-b757-a3edab2d6613",
   "metadata": {},
   "outputs": [
    {
     "name": "stdout",
     "output_type": "stream",
     "text": [
      "Min Words: 100\n",
      "Max Words: 6779\n",
      "Mean Words: 564.9563686637941\n",
      "STD Words: 395.35693104213937\n"
     ]
    }
   ],
   "source": [
    "print(f\"Min Words: {wsj_art.word_count.min()}\")\n",
    "print(f\"Max Words: {wsj_art.word_count.max()}\")\n",
    "print(f\"Mean Words: {wsj_art.word_count.mean()}\")\n",
    "print(f\"STD Words: {wsj_art.word_count.std()}\")"
   ]
  }
 ],
 "metadata": {
  "kernelspec": {
   "display_name": "narrativezoo",
   "language": "python",
   "name": "narrativezoo"
  },
  "language_info": {
   "codemirror_mode": {
    "name": "ipython",
    "version": 3
   },
   "file_extension": ".py",
   "mimetype": "text/x-python",
   "name": "python",
   "nbconvert_exporter": "python",
   "pygments_lexer": "ipython3",
   "version": "3.10.13"
  }
 },
 "nbformat": 4,
 "nbformat_minor": 5
}
