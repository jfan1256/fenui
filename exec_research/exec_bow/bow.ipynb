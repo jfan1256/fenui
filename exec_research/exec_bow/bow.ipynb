{
 "cells": [
  {
   "cell_type": "markdown",
   "id": "f4adfebb-06e4-48b5-94fb-ec6490bbaa5f",
   "metadata": {},
   "source": [
    "#### Import Package"
   ]
  },
  {
   "cell_type": "code",
   "execution_count": 45,
   "id": "c0b46e2f-8e5a-407f-bef4-6ec7e45173ca",
   "metadata": {},
   "outputs": [
    {
     "name": "stderr",
     "output_type": "stream",
     "text": [
      "[nltk_data] Downloading package punkt to\n",
      "[nltk_data]     C:\\Users\\weigfan\\AppData\\Roaming\\nltk_data...\n",
      "[nltk_data]   Package punkt is already up-to-date!\n",
      "[nltk_data] Downloading package stopwords to\n",
      "[nltk_data]     C:\\Users\\weigfan\\AppData\\Roaming\\nltk_data...\n",
      "[nltk_data]   Package stopwords is already up-to-date!\n"
     ]
    }
   ],
   "source": [
    "import pandas as pd\n",
    "import dask.dataframe as dd\n",
    "import swifter\n",
    "import os\n",
    "import cupy as cp\n",
    "import string\n",
    "import time\n",
    "import json\n",
    "import requests \n",
    "import tiktoken\n",
    "import numpy as np\n",
    "import ray\n",
    "import matplotlib.pyplot as plt\n",
    "import plotly.express as px\n",
    "import nltk\n",
    "import openai\n",
    "nltk.download('punkt')\n",
    "nltk.download('stopwords')\n",
    "\n",
    "from scipy.sparse import csr_matrix\n",
    "from tqdm import tqdm\n",
    "from nltk.corpus import stopwords\n",
    "from nltk.tokenize import word_tokenize\n",
    "from nltk.tokenize import sent_tokenize\n",
    "from sklearn.feature_extraction.text import TfidfVectorizer\n",
    "from sklearn.metrics.pairwise import cosine_similarity\n",
    "from jupyter_dash import JupyterDash\n",
    "from dash import dcc, html\n",
    "from dash.dependencies import Input, Output\n",
    "from openai import OpenAI\n",
    "from sklearn.metrics import PrecisionRecallDisplay\n",
    "from scipy.cluster import hierarchy as sch\n",
    "from nltk.stem import PorterStemmer\n",
    "from bertopic import BERTopic\n",
    "\n",
    "from utils.system import *\n",
    "from class_data.data import Data\n",
    "from class_model.model import Model\n",
    "\n",
    "import warnings\n",
    "warnings.filterwarnings('ignore')"
   ]
  },
  {
   "cell_type": "markdown",
   "id": "f21573a3-c573-4ce0-b76d-9e8c57c4ef7f",
   "metadata": {},
   "source": [
    "#### Data"
   ]
  },
  {
   "cell_type": "code",
   "execution_count": 2,
   "id": "2e55efc3-af23-4b44-aa2a-d601fe5febfa",
   "metadata": {},
   "outputs": [
    {
     "name": "stdout",
     "output_type": "stream",
     "text": [
      "(830899, 4)\n"
     ]
    }
   ],
   "source": [
    "# Multiple Articles per Day Data\n",
    "wsj_multiple = Data(folder_path=get_format_data() / 'token', file_pattern='wsj_tokens_*')\n",
    "wsj_multiple = wsj_multiple.concat_files()\n",
    "# Set limit to the exact same value used in embedding_similarity.ipynb to align indexes\n",
    "limit = 30\n",
    "count = wsj_multiple.groupby(wsj_multiple.index)['accession_number'].count()\n",
    "valid_dates_mask = count >= limit\n",
    "wsj_multiple = wsj_multiple[wsj_multiple.index.isin(count[valid_dates_mask].index)]\n",
    "print(wsj_multiple.shape)"
   ]
  },
  {
   "cell_type": "markdown",
   "id": "1bf7cfee-e54d-4687-a624-a57f11276a4b",
   "metadata": {},
   "source": [
    "#### Extract "
   ]
  },
  {
   "cell_type": "code",
   "execution_count": 12,
   "id": "834343f5-e76d-4e40-82f9-7d5df26c876a",
   "metadata": {},
   "outputs": [],
   "source": [
    "api_key = json.load(open(get_config() / 'api.json'))['openai_api_key']\n",
    "\n",
    "def gpt_ngram(input):\n",
    "    client = OpenAI(api_key=api_key)\n",
    "    response = client.chat.completions.create(\n",
    "        model=\"gpt-4\",\n",
    "        messages=[\n",
    "            {\"role\": \"user\", \"content\": f\"Here is the input: {input}\" +\n",
    "                                        \"\\n\\n :: \" +\n",
    "                                        \"Enhance the input by extending it so that it still retains the input's meaning fully and DO NO OUTPUT THIS!!! \" +\n",
    "                                        \"Next, create three different lists that store 5 unigrams, 5 bigrams, and 5 trigrams respectively in all lowercase. \" +\n",
    "                                        \"\\n\\n Your output should not contain any additional comments or add-ons. YOU MUST ONLY OUTPUT THIS: \" +\n",
    "                                        \"{\\\"unigram\\\": [\\\"(unigram1)\\\", ... , \\\"(unigram5)\\\"], \" + \n",
    "                                        \"\\\"bigram\\\": [\\\"(bigram1)\\\", ... , \\\"(bigram5)\\\"], \" +\n",
    "                                        \"\\\"trigram\\\": [\\\"(trigram1)\\\", ... , \\\"(trigram5)\\\"]} \"\n",
    "            }\n",
    "        ]\n",
    "    )\n",
    "    summary = response.choices[0].message.content.strip()\n",
    "    start_index = summary.find('{')\n",
    "    summary = summary[start_index:]\n",
    "    data = json.loads(summary)\n",
    "    return data"
   ]
  },
  {
   "cell_type": "code",
   "execution_count": 13,
   "id": "dd2946c6-a292-41e4-9816-51bc42936652",
   "metadata": {
    "scrolled": true
   },
   "outputs": [],
   "source": [
    "# User Input\n",
    "input = \"ESG\"\n",
    "# Extract ngram\n",
    "ngram = gpt_ngram(input)"
   ]
  },
  {
   "cell_type": "markdown",
   "id": "95251825-f3aa-4fa5-b71f-a5ac053c59d9",
   "metadata": {},
   "source": [
    "#### Preprocess"
   ]
  },
  {
   "cell_type": "code",
   "execution_count": 203,
   "id": "ead6bad7-7b98-4b90-82e3-bb31b3bb307d",
   "metadata": {},
   "outputs": [],
   "source": [
    "@ray.remote\n",
    "def preprocess(text):\n",
    "    # Convert text to lowercase\n",
    "    text = text.lower()\n",
    "    # Remove punctuation\n",
    "    text = text.translate(str.maketrans('', '', string.punctuation))\n",
    "    # Tokenize text\n",
    "    tokens = word_tokenize(text)\n",
    "    # Remove stopwords\n",
    "    filtered_tokens = [word for word in tokens if word not in stop_words]\n",
    "    return ' '.join(filtered_tokens)\n",
    "\n",
    "def preprocess_in_batches(df, new_column_name, column_name, batch_size):\n",
    "    stop_words = set(stopwords.words('english'))\n",
    "    num_batches = np.ceil(len(df) / batch_size)\n",
    "    all_preprocess = []\n",
    "    for i in tqdm(range(int(num_batches)), desc=\"Processing Batches...\"):\n",
    "        start_index = i * batch_size\n",
    "        end_index = min(start_index + batch_size, len(df))\n",
    "        batch = df[column_name][start_index:end_index]\n",
    "        \n",
    "        # Start asynchronous tasks for the batch\n",
    "        futures = [preprocess.remote(text) for text in batch]\n",
    "        preprocess_text = ray.get(futures)\n",
    "\n",
    "        # Update lists\n",
    "        all_preprocess.extend(preprocess_text)\n",
    "\n",
    "    df[new_column_name] = all_preprocess\n",
    "    return df"
   ]
  },
  {
   "cell_type": "code",
   "execution_count": 204,
   "id": "3631e5e8-c862-48d6-bf5a-d72f3ec3d30d",
   "metadata": {},
   "outputs": [],
   "source": [
    "wsj_articles = wsj_multiple[['body_txt']].copy(deep=True)"
   ]
  },
  {
   "cell_type": "code",
   "execution_count": 205,
   "id": "4cc80ebd-968a-4ef6-b134-abb57b911f81",
   "metadata": {
    "scrolled": true
   },
   "outputs": [
    {
     "name": "stderr",
     "output_type": "stream",
     "text": [
      "2024-01-24 16:47:40,867\tINFO worker.py:1507 -- Calling ray.init() again after it has already been called.\n",
      "Processing Batches...: 100%|████████████████████████████████████████████████████████████████████████████████████████████████████████████████████████████████████████████████████| 167/167 [06:02<00:00,  2.17s/it]\n"
     ]
    }
   ],
   "source": [
    "ray.init(num_cpus=16, ignore_reinit_error=True)\n",
    "wsj_preprocess = preprocess_in_batches(wsj_articles, 'preprocess', 'body_txt', 5000)\n",
    "ray.shutdown()"
   ]
  },
  {
   "cell_type": "code",
   "execution_count": 213,
   "id": "a47c6036-a36f-4386-894e-b96e56aaedad",
   "metadata": {},
   "outputs": [],
   "source": [
    "wsj_preprocess = wsj_preprocess[['preprocess']]"
   ]
  },
  {
   "cell_type": "code",
   "execution_count": 214,
   "id": "d4f01151-0acf-4e50-a121-4f0e3db90473",
   "metadata": {
    "scrolled": true
   },
   "outputs": [
    {
     "name": "stdout",
     "output_type": "stream",
     "text": [
      "1\n",
      "2\n",
      "3\n",
      "4\n",
      "5\n",
      "6\n",
      "7\n",
      "8\n",
      "9\n",
      "10\n",
      "11\n",
      "12\n",
      "13\n",
      "14\n",
      "15\n",
      "16\n",
      "17\n",
      "18\n",
      "19\n",
      "20\n",
      "21\n",
      "22\n",
      "23\n",
      "24\n",
      "25\n",
      "26\n",
      "27\n",
      "28\n",
      "29\n",
      "30\n",
      "31\n",
      "32\n",
      "33\n",
      "34\n",
      "35\n",
      "36\n",
      "37\n",
      "38\n",
      "39\n",
      "40\n",
      "41\n",
      "42\n",
      "43\n",
      "44\n",
      "45\n",
      "46\n",
      "47\n",
      "48\n",
      "49\n",
      "50\n"
     ]
    }
   ],
   "source": [
    "# Export Data\n",
    "chunks = np.array_split(wsj_preprocess, 50)\n",
    "for i, df in enumerate(chunks, 1):\n",
    "    print(i)\n",
    "    df.to_parquet(get_format_data() / 'preprocess' / f'wsj_preprocess_{i}.parquet.brotli', compression='brotli')"
   ]
  },
  {
   "cell_type": "markdown",
   "id": "e973c37f-7baf-41bb-ac49-21259d526ffa",
   "metadata": {},
   "source": [
    "#### TF-IDF"
   ]
  },
  {
   "cell_type": "code",
   "execution_count": 2,
   "id": "20c64259-9819-46e4-a733-31f884984bac",
   "metadata": {},
   "outputs": [],
   "source": [
    "wsj_preprocess = Data(folder_path=get_format_data() / 'preprocess', file_pattern='wsj_preprocess_*')\n",
    "wsj_preprocess = wsj_preprocess.concat_files()"
   ]
  },
  {
   "cell_type": "code",
   "execution_count": 3,
   "id": "6798b468-ca14-407c-8ac7-19d22d06660b",
   "metadata": {},
   "outputs": [
    {
     "data": {
      "text/html": [
       "<style>#sk-container-id-1 {color: black;}#sk-container-id-1 pre{padding: 0;}#sk-container-id-1 div.sk-toggleable {background-color: white;}#sk-container-id-1 label.sk-toggleable__label {cursor: pointer;display: block;width: 100%;margin-bottom: 0;padding: 0.3em;box-sizing: border-box;text-align: center;}#sk-container-id-1 label.sk-toggleable__label-arrow:before {content: \"▸\";float: left;margin-right: 0.25em;color: #696969;}#sk-container-id-1 label.sk-toggleable__label-arrow:hover:before {color: black;}#sk-container-id-1 div.sk-estimator:hover label.sk-toggleable__label-arrow:before {color: black;}#sk-container-id-1 div.sk-toggleable__content {max-height: 0;max-width: 0;overflow: hidden;text-align: left;background-color: #f0f8ff;}#sk-container-id-1 div.sk-toggleable__content pre {margin: 0.2em;color: black;border-radius: 0.25em;background-color: #f0f8ff;}#sk-container-id-1 input.sk-toggleable__control:checked~div.sk-toggleable__content {max-height: 200px;max-width: 100%;overflow: auto;}#sk-container-id-1 input.sk-toggleable__control:checked~label.sk-toggleable__label-arrow:before {content: \"▾\";}#sk-container-id-1 div.sk-estimator input.sk-toggleable__control:checked~label.sk-toggleable__label {background-color: #d4ebff;}#sk-container-id-1 div.sk-label input.sk-toggleable__control:checked~label.sk-toggleable__label {background-color: #d4ebff;}#sk-container-id-1 input.sk-hidden--visually {border: 0;clip: rect(1px 1px 1px 1px);clip: rect(1px, 1px, 1px, 1px);height: 1px;margin: -1px;overflow: hidden;padding: 0;position: absolute;width: 1px;}#sk-container-id-1 div.sk-estimator {font-family: monospace;background-color: #f0f8ff;border: 1px dotted black;border-radius: 0.25em;box-sizing: border-box;margin-bottom: 0.5em;}#sk-container-id-1 div.sk-estimator:hover {background-color: #d4ebff;}#sk-container-id-1 div.sk-parallel-item::after {content: \"\";width: 100%;border-bottom: 1px solid gray;flex-grow: 1;}#sk-container-id-1 div.sk-label:hover label.sk-toggleable__label {background-color: #d4ebff;}#sk-container-id-1 div.sk-serial::before {content: \"\";position: absolute;border-left: 1px solid gray;box-sizing: border-box;top: 0;bottom: 0;left: 50%;z-index: 0;}#sk-container-id-1 div.sk-serial {display: flex;flex-direction: column;align-items: center;background-color: white;padding-right: 0.2em;padding-left: 0.2em;position: relative;}#sk-container-id-1 div.sk-item {position: relative;z-index: 1;}#sk-container-id-1 div.sk-parallel {display: flex;align-items: stretch;justify-content: center;background-color: white;position: relative;}#sk-container-id-1 div.sk-item::before, #sk-container-id-1 div.sk-parallel-item::before {content: \"\";position: absolute;border-left: 1px solid gray;box-sizing: border-box;top: 0;bottom: 0;left: 50%;z-index: -1;}#sk-container-id-1 div.sk-parallel-item {display: flex;flex-direction: column;z-index: 1;position: relative;background-color: white;}#sk-container-id-1 div.sk-parallel-item:first-child::after {align-self: flex-end;width: 50%;}#sk-container-id-1 div.sk-parallel-item:last-child::after {align-self: flex-start;width: 50%;}#sk-container-id-1 div.sk-parallel-item:only-child::after {width: 0;}#sk-container-id-1 div.sk-dashed-wrapped {border: 1px dashed gray;margin: 0 0.4em 0.5em 0.4em;box-sizing: border-box;padding-bottom: 0.4em;background-color: white;}#sk-container-id-1 div.sk-label label {font-family: monospace;font-weight: bold;display: inline-block;line-height: 1.2em;}#sk-container-id-1 div.sk-label-container {text-align: center;}#sk-container-id-1 div.sk-container {/* jupyter's `normalize.less` sets `[hidden] { display: none; }` but bootstrap.min.css set `[hidden] { display: none !important; }` so we also need the `!important` here to be able to override the default hidden behavior on the sphinx rendered scikit-learn.org. See: https://github.com/scikit-learn/scikit-learn/issues/21755 */display: inline-block !important;position: relative;}#sk-container-id-1 div.sk-text-repr-fallback {display: none;}</style><div id=\"sk-container-id-1\" class=\"sk-top-container\"><div class=\"sk-text-repr-fallback\"><pre>TfidfVectorizer(max_features=1000)</pre><b>In a Jupyter environment, please rerun this cell to show the HTML representation or trust the notebook. <br />On GitHub, the HTML representation is unable to render, please try loading this page with nbviewer.org.</b></div><div class=\"sk-container\" hidden><div class=\"sk-item\"><div class=\"sk-estimator sk-toggleable\"><input class=\"sk-toggleable__control sk-hidden--visually\" id=\"sk-estimator-id-1\" type=\"checkbox\" checked><label for=\"sk-estimator-id-1\" class=\"sk-toggleable__label sk-toggleable__label-arrow\">TfidfVectorizer</label><div class=\"sk-toggleable__content\"><pre>TfidfVectorizer(max_features=1000)</pre></div></div></div></div></div>"
      ],
      "text/plain": [
       "TfidfVectorizer(max_features=1000)"
      ]
     },
     "execution_count": 3,
     "metadata": {},
     "output_type": "execute_result"
    }
   ],
   "source": [
    "# Fit tfidf\n",
    "tfidf_vectorizer = TfidfVectorizer(max_features=1000)\n",
    "tfidf_vectorizer.fit(wsj_preprocess['preprocess'])"
   ]
  },
  {
   "cell_type": "code",
   "execution_count": 4,
   "id": "f46c6bbf-3274-4bfe-a41b-826b1a5de94f",
   "metadata": {},
   "outputs": [],
   "source": [
    "@ray.remote\n",
    "def get_tfidf(sub_batch, vectorizer):\n",
    "    transformed = vectorizer.transform(sub_batch)\n",
    "    return transformed\n",
    "\n",
    "def get_tfidf_in_batches(df, vectorizer, new_column_name, column_name, batch_size, sub_batch_size):\n",
    "    num_batches = np.ceil(len(df) / batch_size)\n",
    "    collect = []\n",
    "\n",
    "    for i in tqdm(range(int(num_batches)), desc=\"Processing Batches...\"):\n",
    "        start_index = i * batch_size\n",
    "        end_index = min(start_index + batch_size, len(df))\n",
    "        batch = df[column_name][start_index:end_index]\n",
    "\n",
    "        # Split the batch into sub-batches\n",
    "        sub_batches = [batch.iloc[j:j+sub_batch_size] for j in range(0, len(batch), sub_batch_size)]\n",
    "        \n",
    "        # Start asynchronous tasks for each sub-batch\n",
    "        futures = [get_tfidf.remote(sub_batch, vectorizer) for sub_batch in sub_batches]\n",
    "        sub_batch_results = ray.get(futures)\n",
    "\n",
    "        # Flatten the results and update the collect list\n",
    "        for result in sub_batch_results:\n",
    "            collect.extend(result.toarray()) \n",
    "\n",
    "    df[new_column_name] = collect\n",
    "    return df"
   ]
  },
  {
   "cell_type": "code",
   "execution_count": 5,
   "id": "6305ce0f-bf2a-4ed9-8043-98fb92e44da5",
   "metadata": {},
   "outputs": [
    {
     "name": "stderr",
     "output_type": "stream",
     "text": [
      "2024-01-24 20:50:50,444\tINFO worker.py:1673 -- Started a local Ray instance.\n",
      "Processing Batches...: 100%|████████████████████████████████████████████████████████████████████████████████████████████████████████████████████████████████████████████████████| 831/831 [11:43<00:00,  1.18it/s]\n"
     ]
    }
   ],
   "source": [
    "ray.init(num_cpus=16, ignore_reinit_error=True)\n",
    "wsj_tfidf = get_tfidf_in_batches(wsj_preprocess, tfidf_vectorizer, 'tfidf', 'preprocess', 1000, 50000)\n",
    "ray.shutdown()"
   ]
  },
  {
   "cell_type": "code",
   "execution_count": 6,
   "id": "2595d05d-c7c3-4b36-a853-828415de8729",
   "metadata": {},
   "outputs": [],
   "source": [
    "wsj_tfidf = wsj_tfidf[['tfidf']]"
   ]
  },
  {
   "cell_type": "code",
   "execution_count": 7,
   "id": "041c93eb-599a-4b8b-935e-381e2248b8d9",
   "metadata": {
    "scrolled": true
   },
   "outputs": [
    {
     "name": "stdout",
     "output_type": "stream",
     "text": [
      "1\n",
      "2\n",
      "3\n",
      "4\n",
      "5\n",
      "6\n",
      "7\n",
      "8\n",
      "9\n",
      "10\n",
      "11\n",
      "12\n",
      "13\n",
      "14\n",
      "15\n",
      "16\n",
      "17\n",
      "18\n",
      "19\n",
      "20\n",
      "21\n",
      "22\n",
      "23\n",
      "24\n",
      "25\n",
      "26\n",
      "27\n",
      "28\n",
      "29\n",
      "30\n",
      "31\n",
      "32\n",
      "33\n",
      "34\n",
      "35\n",
      "36\n",
      "37\n",
      "38\n",
      "39\n",
      "40\n",
      "41\n",
      "42\n",
      "43\n",
      "44\n",
      "45\n",
      "46\n",
      "47\n",
      "48\n",
      "49\n",
      "50\n"
     ]
    }
   ],
   "source": [
    "# Export Data\n",
    "chunks = np.array_split(wsj_tfidf, 50)\n",
    "for i, df in enumerate(chunks, 1):\n",
    "    print(i)\n",
    "    df.to_parquet(get_format_data() / 'tfidf' / f'wsj_tfidf_{i}.parquet.brotli', compression='brotli')"
   ]
  },
  {
   "cell_type": "markdown",
   "id": "3e205769-b07c-4575-b935-312af4a54737",
   "metadata": {},
   "source": [
    "#### Get Score"
   ]
  },
  {
   "cell_type": "code",
   "execution_count": 50,
   "id": "e57a03ad-a5a5-46ce-ac24-9c0283d0636f",
   "metadata": {},
   "outputs": [],
   "source": [
    "wsj_tfidf = Data(folder_path=get_format_data() / 'tfidf', file_pattern='wsj_tfidf_*')\n",
    "wsj_tfidf = wsj_tfidf.concat_files()"
   ]
  },
  {
   "cell_type": "code",
   "execution_count": 56,
   "id": "43b994e2-b613-4467-a9a5-6f91aa24b3cd",
   "metadata": {},
   "outputs": [],
   "source": [
    "def get_cos_sim_batch(computation, tfidf_vectorizer, tfidf_data, col, ngram, batch_size):\n",
    "    data = tfidf_data.copy(deep=True)\n",
    "    count = 0\n",
    "    for key in ngram.keys():\n",
    "        for input in ngram[key]:\n",
    "            print(f\"Input: {input}\")\n",
    "            # Transform the input string\n",
    "            input_tfidf = tfidf_vectorizer.transform([input])\n",
    "            \n",
    "            # Split the data[col] into batches without stacking\n",
    "            num_batches = len(data) // batch_size + 1\n",
    "            comp_batches = []\n",
    "            \n",
    "            for batch_num in tqdm(range(num_batches)):\n",
    "                start_idx = batch_num * batch_size\n",
    "                end_idx = min((batch_num + 1) * batch_size, len(data))\n",
    "                matrix_batch = np.stack(data[col][start_idx:end_idx].values)\n",
    "\n",
    "                if computation == 'mult':\n",
    "                    # Compute matrix multiplication\n",
    "                    comp_batch = np.dot(input_tfidf, matrix_batch.T)\n",
    "                    comp_batches.append(comp_batch)\n",
    "                elif computation == 'cos_sim':\n",
    "                    # Compute cosine similarity\n",
    "                    comp_batch = cosine_similarity(input_tfidf, matrix_batch)\n",
    "                    comp_batches.append(comp_batch)\n",
    "            \n",
    "            # Concatenate the cosine similarity batches\n",
    "            score = np.concatenate([arr[0] for arr in comp_batches])\n",
    "            \n",
    "            # Create column name with key\n",
    "            column_name = f'score_{count}'\n",
    "            data[column_name] = score\n",
    "            count+=1\n",
    "    return data"
   ]
  },
  {
   "cell_type": "code",
   "execution_count": 57,
   "id": "2e1a2d08-5b95-4b67-852b-22a8641c6fd4",
   "metadata": {
    "scrolled": true
   },
   "outputs": [
    {
     "name": "stdout",
     "output_type": "stream",
     "text": [
      "Input: environmental\n"
     ]
    },
    {
     "name": "stderr",
     "output_type": "stream",
     "text": [
      "  0%|▎                                                                                                                                                                        | 16/8309 [00:51<7:20:49,  3.19s/it]\n"
     ]
    },
    {
     "ename": "KeyboardInterrupt",
     "evalue": "",
     "output_type": "error",
     "traceback": [
      "\u001b[1;31m---------------------------------------------------------------------------\u001b[0m",
      "\u001b[1;31mKeyboardInterrupt\u001b[0m                         Traceback (most recent call last)",
      "Cell \u001b[1;32mIn[57], line 1\u001b[0m\n\u001b[1;32m----> 1\u001b[0m cos_sim \u001b[38;5;241m=\u001b[39m \u001b[43mget_cos_sim_batch\u001b[49m\u001b[43m(\u001b[49m\u001b[38;5;124;43m'\u001b[39;49m\u001b[38;5;124;43mmult\u001b[39;49m\u001b[38;5;124;43m'\u001b[39;49m\u001b[43m,\u001b[49m\u001b[43m \u001b[49m\u001b[43mtfidf_vectorizer\u001b[49m\u001b[43m,\u001b[49m\u001b[43m \u001b[49m\u001b[43mwsj_tfidf\u001b[49m\u001b[43m,\u001b[49m\u001b[43m \u001b[49m\u001b[38;5;124;43m'\u001b[39;49m\u001b[38;5;124;43mtfidf\u001b[39;49m\u001b[38;5;124;43m'\u001b[39;49m\u001b[43m,\u001b[49m\u001b[43m \u001b[49m\u001b[43mngram\u001b[49m\u001b[43m,\u001b[49m\u001b[43m \u001b[49m\u001b[38;5;241;43m100\u001b[39;49m\u001b[43m)\u001b[49m\n",
      "Cell \u001b[1;32mIn[42], line 21\u001b[0m, in \u001b[0;36mget_cos_sim_batch\u001b[1;34m(computation, tfidf_vectorizer, tfidf_data, col, ngram, batch_size)\u001b[0m\n\u001b[0;32m     17\u001b[0m matrix_batch \u001b[38;5;241m=\u001b[39m np\u001b[38;5;241m.\u001b[39mstack(data[col][start_idx:end_idx]\u001b[38;5;241m.\u001b[39mvalues)\n\u001b[0;32m     19\u001b[0m \u001b[38;5;28;01mif\u001b[39;00m computation \u001b[38;5;241m==\u001b[39m \u001b[38;5;124m'\u001b[39m\u001b[38;5;124mmult\u001b[39m\u001b[38;5;124m'\u001b[39m:\n\u001b[0;32m     20\u001b[0m     \u001b[38;5;66;03m# Compute matrix multiplication\u001b[39;00m\n\u001b[1;32m---> 21\u001b[0m     comp_batch \u001b[38;5;241m=\u001b[39m \u001b[43mnp\u001b[49m\u001b[38;5;241;43m.\u001b[39;49m\u001b[43mdot\u001b[49m\u001b[43m(\u001b[49m\u001b[43minput_tfidf\u001b[49m\u001b[43m,\u001b[49m\u001b[43m \u001b[49m\u001b[43mmatrix_batch\u001b[49m\u001b[38;5;241;43m.\u001b[39;49m\u001b[43mT\u001b[49m\u001b[43m)\u001b[49m\n\u001b[0;32m     22\u001b[0m     comp_batches\u001b[38;5;241m.\u001b[39mappend(comp_batch)\n\u001b[0;32m     23\u001b[0m \u001b[38;5;28;01melif\u001b[39;00m computation \u001b[38;5;241m==\u001b[39m \u001b[38;5;124m'\u001b[39m\u001b[38;5;124mcos_sim\u001b[39m\u001b[38;5;124m'\u001b[39m:\n\u001b[0;32m     24\u001b[0m     \u001b[38;5;66;03m# Compute cosine similarity\u001b[39;00m\n",
      "File \u001b[1;32m~\\AppData\\Local\\anaconda3\\envs\\narrativezoo\\lib\\site-packages\\scipy\\sparse\\_matrix.py:48\u001b[0m, in \u001b[0;36mspmatrix.__mul__\u001b[1;34m(self, other)\u001b[0m\n\u001b[0;32m     47\u001b[0m \u001b[38;5;28;01mdef\u001b[39;00m \u001b[38;5;21m__mul__\u001b[39m(\u001b[38;5;28mself\u001b[39m, other):\n\u001b[1;32m---> 48\u001b[0m     \u001b[38;5;28;01mreturn\u001b[39;00m \u001b[38;5;28;43mself\u001b[39;49m\u001b[38;5;241;43m.\u001b[39;49m\u001b[43m_mul_dispatch\u001b[49m\u001b[43m(\u001b[49m\u001b[43mother\u001b[49m\u001b[43m)\u001b[49m\n",
      "File \u001b[1;32m~\\AppData\\Local\\anaconda3\\envs\\narrativezoo\\lib\\site-packages\\scipy\\sparse\\_base.py:530\u001b[0m, in \u001b[0;36m_spbase._mul_dispatch\u001b[1;34m(self, other)\u001b[0m\n\u001b[0;32m    526\u001b[0m         \u001b[38;5;28;01mreturn\u001b[39;00m \u001b[38;5;28mself\u001b[39m\u001b[38;5;241m.\u001b[39m_mul_multivector(other)\n\u001b[0;32m    528\u001b[0m \u001b[38;5;28;01mif\u001b[39;00m isscalarlike(other):\n\u001b[0;32m    529\u001b[0m     \u001b[38;5;66;03m# scalar value\u001b[39;00m\n\u001b[1;32m--> 530\u001b[0m     \u001b[38;5;28;01mreturn\u001b[39;00m \u001b[38;5;28;43mself\u001b[39;49m\u001b[38;5;241;43m.\u001b[39;49m\u001b[43m_mul_scalar\u001b[49m\u001b[43m(\u001b[49m\u001b[43mother\u001b[49m\u001b[43m)\u001b[49m\n\u001b[0;32m    532\u001b[0m \u001b[38;5;28;01mif\u001b[39;00m issparse(other):\n\u001b[0;32m    533\u001b[0m     \u001b[38;5;28;01mif\u001b[39;00m \u001b[38;5;28mself\u001b[39m\u001b[38;5;241m.\u001b[39mshape[\u001b[38;5;241m1\u001b[39m] \u001b[38;5;241m!=\u001b[39m other\u001b[38;5;241m.\u001b[39mshape[\u001b[38;5;241m0\u001b[39m]:\n",
      "File \u001b[1;32m~\\AppData\\Local\\anaconda3\\envs\\narrativezoo\\lib\\site-packages\\scipy\\sparse\\_data.py:139\u001b[0m, in \u001b[0;36m_data_matrix._mul_scalar\u001b[1;34m(self, other)\u001b[0m\n\u001b[0;32m    138\u001b[0m \u001b[38;5;28;01mdef\u001b[39;00m \u001b[38;5;21m_mul_scalar\u001b[39m(\u001b[38;5;28mself\u001b[39m, other):\n\u001b[1;32m--> 139\u001b[0m     \u001b[38;5;28;01mreturn\u001b[39;00m \u001b[38;5;28;43mself\u001b[39;49m\u001b[38;5;241;43m.\u001b[39;49m\u001b[43m_with_data\u001b[49m\u001b[43m(\u001b[49m\u001b[38;5;28;43mself\u001b[39;49m\u001b[38;5;241;43m.\u001b[39;49m\u001b[43mdata\u001b[49m\u001b[43m \u001b[49m\u001b[38;5;241;43m*\u001b[39;49m\u001b[43m \u001b[49m\u001b[43mother\u001b[49m\u001b[43m)\u001b[49m\n",
      "File \u001b[1;32m~\\AppData\\Local\\anaconda3\\envs\\narrativezoo\\lib\\site-packages\\scipy\\sparse\\_compressed.py:1229\u001b[0m, in \u001b[0;36m_cs_matrix._with_data\u001b[1;34m(self, data, copy)\u001b[0m\n\u001b[0;32m   1224\u001b[0m \u001b[38;5;250m\u001b[39m\u001b[38;5;124;03m\"\"\"Returns a matrix with the same sparsity structure as self,\u001b[39;00m\n\u001b[0;32m   1225\u001b[0m \u001b[38;5;124;03mbut with different data.  By default the structure arrays\u001b[39;00m\n\u001b[0;32m   1226\u001b[0m \u001b[38;5;124;03m(i.e. .indptr and .indices) are copied.\u001b[39;00m\n\u001b[0;32m   1227\u001b[0m \u001b[38;5;124;03m\"\"\"\u001b[39;00m\n\u001b[0;32m   1228\u001b[0m \u001b[38;5;28;01mif\u001b[39;00m copy:\n\u001b[1;32m-> 1229\u001b[0m     \u001b[38;5;28;01mreturn\u001b[39;00m \u001b[38;5;28mself\u001b[39m\u001b[38;5;241m.\u001b[39m\u001b[38;5;18m__class__\u001b[39m((data, \u001b[38;5;28;43mself\u001b[39;49m\u001b[38;5;241;43m.\u001b[39;49m\u001b[43mindices\u001b[49m\u001b[38;5;241;43m.\u001b[39;49m\u001b[43mcopy\u001b[49m\u001b[43m(\u001b[49m\u001b[43m)\u001b[49m,\n\u001b[0;32m   1230\u001b[0m                            \u001b[38;5;28mself\u001b[39m\u001b[38;5;241m.\u001b[39mindptr\u001b[38;5;241m.\u001b[39mcopy()),\n\u001b[0;32m   1231\u001b[0m                           shape\u001b[38;5;241m=\u001b[39m\u001b[38;5;28mself\u001b[39m\u001b[38;5;241m.\u001b[39mshape,\n\u001b[0;32m   1232\u001b[0m                           dtype\u001b[38;5;241m=\u001b[39mdata\u001b[38;5;241m.\u001b[39mdtype)\n\u001b[0;32m   1233\u001b[0m \u001b[38;5;28;01melse\u001b[39;00m:\n\u001b[0;32m   1234\u001b[0m     \u001b[38;5;28;01mreturn\u001b[39;00m \u001b[38;5;28mself\u001b[39m\u001b[38;5;241m.\u001b[39m\u001b[38;5;18m__class__\u001b[39m((data, \u001b[38;5;28mself\u001b[39m\u001b[38;5;241m.\u001b[39mindices, \u001b[38;5;28mself\u001b[39m\u001b[38;5;241m.\u001b[39mindptr),\n\u001b[0;32m   1235\u001b[0m                           shape\u001b[38;5;241m=\u001b[39m\u001b[38;5;28mself\u001b[39m\u001b[38;5;241m.\u001b[39mshape, dtype\u001b[38;5;241m=\u001b[39mdata\u001b[38;5;241m.\u001b[39mdtype)\n",
      "\u001b[1;31mKeyboardInterrupt\u001b[0m: "
     ]
    }
   ],
   "source": [
    "cos_sim = get_cos_sim_batch('mult', tfidf_vectorizer, wsj_tfidf, 'tfidf', ngram, 100)"
   ]
  },
  {
   "cell_type": "code",
   "execution_count": 34,
   "id": "aacb76ab-4b3c-46b7-901d-10e345f4cf38",
   "metadata": {},
   "outputs": [],
   "source": [
    "cos_sim_filter = cos_sim[cos_sim.columns[1:]]"
   ]
  },
  {
   "cell_type": "code",
   "execution_count": 35,
   "id": "73a1746e-da88-49c2-abc3-99bd1ba51671",
   "metadata": {},
   "outputs": [
    {
     "data": {
      "text/html": [
       "<div>\n",
       "<style scoped>\n",
       "    .dataframe tbody tr th:only-of-type {\n",
       "        vertical-align: middle;\n",
       "    }\n",
       "\n",
       "    .dataframe tbody tr th {\n",
       "        vertical-align: top;\n",
       "    }\n",
       "\n",
       "    .dataframe thead th {\n",
       "        text-align: right;\n",
       "    }\n",
       "</style>\n",
       "<table border=\"1\" class=\"dataframe\">\n",
       "  <thead>\n",
       "    <tr style=\"text-align: right;\">\n",
       "      <th></th>\n",
       "      <th>cosine_sim_0</th>\n",
       "      <th>cosine_sim_1</th>\n",
       "      <th>cosine_sim_2</th>\n",
       "      <th>cosine_sim_3</th>\n",
       "      <th>cosine_sim_4</th>\n",
       "      <th>cosine_sim_5</th>\n",
       "      <th>cosine_sim_6</th>\n",
       "      <th>cosine_sim_7</th>\n",
       "      <th>cosine_sim_8</th>\n",
       "      <th>cosine_sim_9</th>\n",
       "      <th>cosine_sim_10</th>\n",
       "      <th>cosine_sim_11</th>\n",
       "      <th>cosine_sim_12</th>\n",
       "      <th>cosine_sim_13</th>\n",
       "      <th>cosine_sim_14</th>\n",
       "    </tr>\n",
       "    <tr>\n",
       "      <th>date</th>\n",
       "      <th></th>\n",
       "      <th></th>\n",
       "      <th></th>\n",
       "      <th></th>\n",
       "      <th></th>\n",
       "      <th></th>\n",
       "      <th></th>\n",
       "      <th></th>\n",
       "      <th></th>\n",
       "      <th></th>\n",
       "      <th></th>\n",
       "      <th></th>\n",
       "      <th></th>\n",
       "      <th></th>\n",
       "      <th></th>\n",
       "    </tr>\n",
       "  </thead>\n",
       "  <tbody>\n",
       "    <tr>\n",
       "      <th>1984-01-02</th>\n",
       "      <td>0.0</td>\n",
       "      <td>0.0</td>\n",
       "      <td>0.0</td>\n",
       "      <td>0.0</td>\n",
       "      <td>0.0</td>\n",
       "      <td>0.0</td>\n",
       "      <td>0.0</td>\n",
       "      <td>0.0</td>\n",
       "      <td>0.0</td>\n",
       "      <td>0.0</td>\n",
       "      <td>0.0</td>\n",
       "      <td>0.0</td>\n",
       "      <td>0.0</td>\n",
       "      <td>0.0</td>\n",
       "      <td>0.0</td>\n",
       "    </tr>\n",
       "    <tr>\n",
       "      <th>1984-01-02</th>\n",
       "      <td>0.0</td>\n",
       "      <td>0.0</td>\n",
       "      <td>0.0</td>\n",
       "      <td>0.0</td>\n",
       "      <td>0.0</td>\n",
       "      <td>0.0</td>\n",
       "      <td>0.0</td>\n",
       "      <td>0.0</td>\n",
       "      <td>0.0</td>\n",
       "      <td>0.0</td>\n",
       "      <td>0.0</td>\n",
       "      <td>0.0</td>\n",
       "      <td>0.0</td>\n",
       "      <td>0.0</td>\n",
       "      <td>0.0</td>\n",
       "    </tr>\n",
       "    <tr>\n",
       "      <th>1984-01-02</th>\n",
       "      <td>0.0</td>\n",
       "      <td>0.0</td>\n",
       "      <td>0.0</td>\n",
       "      <td>0.0</td>\n",
       "      <td>0.0</td>\n",
       "      <td>0.0</td>\n",
       "      <td>0.0</td>\n",
       "      <td>0.0</td>\n",
       "      <td>0.0</td>\n",
       "      <td>0.0</td>\n",
       "      <td>0.0</td>\n",
       "      <td>0.0</td>\n",
       "      <td>0.0</td>\n",
       "      <td>0.0</td>\n",
       "      <td>0.0</td>\n",
       "    </tr>\n",
       "    <tr>\n",
       "      <th>1984-01-02</th>\n",
       "      <td>0.0</td>\n",
       "      <td>0.0</td>\n",
       "      <td>0.0</td>\n",
       "      <td>0.0</td>\n",
       "      <td>0.0</td>\n",
       "      <td>0.0</td>\n",
       "      <td>0.0</td>\n",
       "      <td>0.0</td>\n",
       "      <td>0.0</td>\n",
       "      <td>0.0</td>\n",
       "      <td>0.0</td>\n",
       "      <td>0.0</td>\n",
       "      <td>0.0</td>\n",
       "      <td>0.0</td>\n",
       "      <td>0.0</td>\n",
       "    </tr>\n",
       "    <tr>\n",
       "      <th>1984-01-02</th>\n",
       "      <td>0.0</td>\n",
       "      <td>0.0</td>\n",
       "      <td>0.0</td>\n",
       "      <td>0.0</td>\n",
       "      <td>0.0</td>\n",
       "      <td>0.0</td>\n",
       "      <td>0.0</td>\n",
       "      <td>0.0</td>\n",
       "      <td>0.0</td>\n",
       "      <td>0.0</td>\n",
       "      <td>0.0</td>\n",
       "      <td>0.0</td>\n",
       "      <td>0.0</td>\n",
       "      <td>0.0</td>\n",
       "      <td>0.0</td>\n",
       "    </tr>\n",
       "    <tr>\n",
       "      <th>...</th>\n",
       "      <td>...</td>\n",
       "      <td>...</td>\n",
       "      <td>...</td>\n",
       "      <td>...</td>\n",
       "      <td>...</td>\n",
       "      <td>...</td>\n",
       "      <td>...</td>\n",
       "      <td>...</td>\n",
       "      <td>...</td>\n",
       "      <td>...</td>\n",
       "      <td>...</td>\n",
       "      <td>...</td>\n",
       "      <td>...</td>\n",
       "      <td>...</td>\n",
       "      <td>...</td>\n",
       "    </tr>\n",
       "    <tr>\n",
       "      <th>2021-12-31</th>\n",
       "      <td>0.0</td>\n",
       "      <td>0.0</td>\n",
       "      <td>0.0</td>\n",
       "      <td>0.0</td>\n",
       "      <td>0.0</td>\n",
       "      <td>0.0</td>\n",
       "      <td>0.0</td>\n",
       "      <td>0.0</td>\n",
       "      <td>0.0</td>\n",
       "      <td>0.0</td>\n",
       "      <td>0.0</td>\n",
       "      <td>0.0</td>\n",
       "      <td>0.0</td>\n",
       "      <td>0.0</td>\n",
       "      <td>0.0</td>\n",
       "    </tr>\n",
       "    <tr>\n",
       "      <th>2021-12-31</th>\n",
       "      <td>0.0</td>\n",
       "      <td>0.0</td>\n",
       "      <td>0.0</td>\n",
       "      <td>0.0</td>\n",
       "      <td>0.0</td>\n",
       "      <td>0.0</td>\n",
       "      <td>0.0</td>\n",
       "      <td>0.0</td>\n",
       "      <td>0.0</td>\n",
       "      <td>0.0</td>\n",
       "      <td>0.0</td>\n",
       "      <td>0.0</td>\n",
       "      <td>0.0</td>\n",
       "      <td>0.0</td>\n",
       "      <td>0.0</td>\n",
       "    </tr>\n",
       "    <tr>\n",
       "      <th>2021-12-31</th>\n",
       "      <td>0.0</td>\n",
       "      <td>0.0</td>\n",
       "      <td>0.0</td>\n",
       "      <td>0.0</td>\n",
       "      <td>0.0</td>\n",
       "      <td>0.0</td>\n",
       "      <td>0.0</td>\n",
       "      <td>0.0</td>\n",
       "      <td>0.0</td>\n",
       "      <td>0.0</td>\n",
       "      <td>0.0</td>\n",
       "      <td>0.0</td>\n",
       "      <td>0.0</td>\n",
       "      <td>0.0</td>\n",
       "      <td>0.0</td>\n",
       "    </tr>\n",
       "    <tr>\n",
       "      <th>2021-12-31</th>\n",
       "      <td>0.0</td>\n",
       "      <td>0.0</td>\n",
       "      <td>0.0</td>\n",
       "      <td>0.0</td>\n",
       "      <td>0.0</td>\n",
       "      <td>0.0</td>\n",
       "      <td>0.0</td>\n",
       "      <td>0.0</td>\n",
       "      <td>0.0</td>\n",
       "      <td>0.0</td>\n",
       "      <td>0.0</td>\n",
       "      <td>0.0</td>\n",
       "      <td>0.0</td>\n",
       "      <td>0.0</td>\n",
       "      <td>0.0</td>\n",
       "    </tr>\n",
       "    <tr>\n",
       "      <th>2021-12-31</th>\n",
       "      <td>0.0</td>\n",
       "      <td>0.0</td>\n",
       "      <td>0.0</td>\n",
       "      <td>0.0</td>\n",
       "      <td>0.0</td>\n",
       "      <td>0.0</td>\n",
       "      <td>0.0</td>\n",
       "      <td>0.0</td>\n",
       "      <td>0.0</td>\n",
       "      <td>0.0</td>\n",
       "      <td>0.0</td>\n",
       "      <td>0.0</td>\n",
       "      <td>0.0</td>\n",
       "      <td>0.0</td>\n",
       "      <td>0.0</td>\n",
       "    </tr>\n",
       "  </tbody>\n",
       "</table>\n",
       "<p>830899 rows × 15 columns</p>\n",
       "</div>"
      ],
      "text/plain": [
       "            cosine_sim_0  cosine_sim_1  cosine_sim_2  cosine_sim_3  \\\n",
       "date                                                                 \n",
       "1984-01-02           0.0           0.0           0.0           0.0   \n",
       "1984-01-02           0.0           0.0           0.0           0.0   \n",
       "1984-01-02           0.0           0.0           0.0           0.0   \n",
       "1984-01-02           0.0           0.0           0.0           0.0   \n",
       "1984-01-02           0.0           0.0           0.0           0.0   \n",
       "...                  ...           ...           ...           ...   \n",
       "2021-12-31           0.0           0.0           0.0           0.0   \n",
       "2021-12-31           0.0           0.0           0.0           0.0   \n",
       "2021-12-31           0.0           0.0           0.0           0.0   \n",
       "2021-12-31           0.0           0.0           0.0           0.0   \n",
       "2021-12-31           0.0           0.0           0.0           0.0   \n",
       "\n",
       "            cosine_sim_4  cosine_sim_5  cosine_sim_6  cosine_sim_7  \\\n",
       "date                                                                 \n",
       "1984-01-02           0.0           0.0           0.0           0.0   \n",
       "1984-01-02           0.0           0.0           0.0           0.0   \n",
       "1984-01-02           0.0           0.0           0.0           0.0   \n",
       "1984-01-02           0.0           0.0           0.0           0.0   \n",
       "1984-01-02           0.0           0.0           0.0           0.0   \n",
       "...                  ...           ...           ...           ...   \n",
       "2021-12-31           0.0           0.0           0.0           0.0   \n",
       "2021-12-31           0.0           0.0           0.0           0.0   \n",
       "2021-12-31           0.0           0.0           0.0           0.0   \n",
       "2021-12-31           0.0           0.0           0.0           0.0   \n",
       "2021-12-31           0.0           0.0           0.0           0.0   \n",
       "\n",
       "            cosine_sim_8  cosine_sim_9  cosine_sim_10  cosine_sim_11  \\\n",
       "date                                                                   \n",
       "1984-01-02           0.0           0.0            0.0            0.0   \n",
       "1984-01-02           0.0           0.0            0.0            0.0   \n",
       "1984-01-02           0.0           0.0            0.0            0.0   \n",
       "1984-01-02           0.0           0.0            0.0            0.0   \n",
       "1984-01-02           0.0           0.0            0.0            0.0   \n",
       "...                  ...           ...            ...            ...   \n",
       "2021-12-31           0.0           0.0            0.0            0.0   \n",
       "2021-12-31           0.0           0.0            0.0            0.0   \n",
       "2021-12-31           0.0           0.0            0.0            0.0   \n",
       "2021-12-31           0.0           0.0            0.0            0.0   \n",
       "2021-12-31           0.0           0.0            0.0            0.0   \n",
       "\n",
       "            cosine_sim_12  cosine_sim_13  cosine_sim_14  \n",
       "date                                                     \n",
       "1984-01-02            0.0            0.0            0.0  \n",
       "1984-01-02            0.0            0.0            0.0  \n",
       "1984-01-02            0.0            0.0            0.0  \n",
       "1984-01-02            0.0            0.0            0.0  \n",
       "1984-01-02            0.0            0.0            0.0  \n",
       "...                   ...            ...            ...  \n",
       "2021-12-31            0.0            0.0            0.0  \n",
       "2021-12-31            0.0            0.0            0.0  \n",
       "2021-12-31            0.0            0.0            0.0  \n",
       "2021-12-31            0.0            0.0            0.0  \n",
       "2021-12-31            0.0            0.0            0.0  \n",
       "\n",
       "[830899 rows x 15 columns]"
      ]
     },
     "execution_count": 35,
     "metadata": {},
     "output_type": "execute_result"
    }
   ],
   "source": [
    "cos_sim_filter"
   ]
  },
  {
   "cell_type": "code",
   "execution_count": null,
   "id": "f623153e-ac56-4b53-9aaf-3f7b6dccc214",
   "metadata": {},
   "outputs": [],
   "source": []
  }
 ],
 "metadata": {
  "kernelspec": {
   "display_name": "narrativezoo",
   "language": "python",
   "name": "narrativezoo"
  },
  "language_info": {
   "codemirror_mode": {
    "name": "ipython",
    "version": 3
   },
   "file_extension": ".py",
   "mimetype": "text/x-python",
   "name": "python",
   "nbconvert_exporter": "python",
   "pygments_lexer": "ipython3",
   "version": "3.10.13"
  }
 },
 "nbformat": 4,
 "nbformat_minor": 5
}
