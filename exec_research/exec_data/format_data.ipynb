{
 "cells": [
  {
   "cell_type": "markdown",
   "id": "66f70430-51cc-4d1d-bc9c-44bed295f16f",
   "metadata": {},
   "source": [
    "#### Import Package"
   ]
  },
  {
   "cell_type": "code",
   "execution_count": 1,
   "id": "3956cd05-6a35-47a4-bdcf-fc5800f4c618",
   "metadata": {},
   "outputs": [],
   "source": [
    "import pandas as pd\n",
    "import numpy as np\n",
    "\n",
    "from class_data.data import Data\n",
    "from utils.system import *\n",
    "\n",
    "import warnings\n",
    "warnings.filterwarnings('ignore')"
   ]
  },
  {
   "cell_type": "markdown",
   "id": "338b62bc-4149-44b3-9626-d85423d9d38f",
   "metadata": {},
   "source": [
    "#### Format Data"
   ]
  },
  {
   "cell_type": "code",
   "execution_count": 2,
   "id": "4da610e3-3d7f-4a62-a872-42037386feaf",
   "metadata": {},
   "outputs": [
    {
     "name": "stdout",
     "output_type": "stream",
     "text": [
      "Loading in US Daily News Index...\n"
     ]
    }
   ],
   "source": [
    "# US Daily News Index\n",
    "print(\"Loading in US Daily News Index...\")\n",
    "us_news_data = pd.read_csv(get_data() / 'All_Daily_Policy_Data.csv')\n",
    "# Format Daily US News Index\n",
    "us_news = Data(data=us_news_data, name='daily_us_news_index')\n",
    "us_news = us_news.format_dep()\n",
    "# Export Data\n",
    "us_news.to_parquet(get_format_data() / 'us_news.parquet.brotli', compression='brotli')"
   ]
  },
  {
   "cell_type": "code",
   "execution_count": 2,
   "id": "d59a879c-2b37-41a5-be2b-46aeb95a8070",
   "metadata": {},
   "outputs": [
    {
     "name": "stdout",
     "output_type": "stream",
     "text": [
      "Loading in 5-Year Breakeven Inflation Rate Index...\n"
     ]
    }
   ],
   "source": [
    "# 5-Year Breakeven Inflation Rate\n",
    "print(\"Loading in 5-Year Breakeven Inflation Rate Index...\")\n",
    "ir_data = pd.read_csv(get_data() / 'T5YIE.csv')\n",
    "# Format Daily US News Index\n",
    "ir = Data(data=ir_data, name='ir')\n",
    "ir = ir.format_dep()\n",
    "# Export Data\n",
    "ir.to_parquet(get_format_data() / 'ir.parquet.brotli', compression='brotli')"
   ]
  },
  {
   "cell_type": "code",
   "execution_count": 2,
   "id": "89ddfcb8-e7de-489b-a36d-648861995da5",
   "metadata": {},
   "outputs": [
    {
     "name": "stdout",
     "output_type": "stream",
     "text": [
      "Loading in FSI Index...\n"
     ]
    }
   ],
   "source": [
    "# Financial Stress Index\n",
    "print(\"Loading in FSI Index...\")\n",
    "fsi_data = pd.read_csv(get_data() / 'fsi.csv')\n",
    "# Format Daily US News Index\n",
    "fsi = Data(data=fsi_data, name='fsi')\n",
    "fsi = fsi.format_dep()\n",
    "# Export Data\n",
    "fsi.to_parquet(get_format_data() / 'fsi.parquet.brotli', compression='brotli')"
   ]
  },
  {
   "cell_type": "code",
   "execution_count": 2,
   "id": "d9cc6454-d5b9-4b76-96d2-ad7518bfabcd",
   "metadata": {},
   "outputs": [
    {
     "name": "stdout",
     "output_type": "stream",
     "text": [
      "Loading in AI Google Trend...\n"
     ]
    }
   ],
   "source": [
    "# AI Google Trend Index\n",
    "print(\"Loading in AI Google Trend...\")\n",
    "ai_google_trend = pd.read_csv(get_data() / 'ai_google_trend.csv', skiprows=1)\n",
    "# Format AI Google Trend Index\n",
    "ai_google_trend = Data(data=ai_google_trend, name='ai_google_trend')\n",
    "ai_google_trend = ai_google_trend.format_dep()\n",
    "# Export Data\n",
    "ai_google_trend.to_parquet(get_format_data() / 'ai_google_trend.parquet.brotli', compression='brotli')"
   ]
  },
  {
   "cell_type": "code",
   "execution_count": 2,
   "id": "4e67c893-6340-4b4d-a33b-ed80a3703344",
   "metadata": {},
   "outputs": [
    {
     "name": "stdout",
     "output_type": "stream",
     "text": [
      "Loading in ESG Google Trend...\n"
     ]
    }
   ],
   "source": [
    "# ESG Google Trend Index\n",
    "print(\"Loading in ESG Google Trend...\")\n",
    "esg_google_trend = pd.read_csv(get_data() / 'esg_google_trend.csv', skiprows=1)\n",
    "# Format AI Google Trend Index\n",
    "esg_google_trend = Data(data=esg_google_trend, name='esg_google_trend')\n",
    "esg_google_trend = esg_google_trend.format_dep()\n",
    "# Export Data\n",
    "esg_google_trend.to_parquet(get_format_data() / 'esg_google_trend.parquet.brotli', compression='brotli')"
   ]
  },
  {
   "cell_type": "code",
   "execution_count": 3,
   "id": "7a0bd7bd-865c-43bd-8b16-65e7b2d07797",
   "metadata": {},
   "outputs": [
    {
     "name": "stdout",
     "output_type": "stream",
     "text": [
      "Loading in Recession Attention Index...\n"
     ]
    }
   ],
   "source": [
    "# Recession Attention Index\n",
    "print(\"Loading in Recession Attention Index...\")\n",
    "recession = pd.read_csv(get_data() / 'Recession_Attention.csv')\n",
    "# Format Recession Index\n",
    "recession = Data(data=recession, name='recession_attention')\n",
    "recession = recession.format_dep()\n",
    "# Export Data\n",
    "recession.to_parquet(get_format_data() / 'recession.parquet.brotli', compression='brotli')"
   ]
  },
  {
   "cell_type": "code",
   "execution_count": 2,
   "id": "0fbae1fe-aad8-41e8-98c0-e2d9eb655d77",
   "metadata": {},
   "outputs": [
    {
     "name": "stdout",
     "output_type": "stream",
     "text": [
      "Loading in EPU Data...\n"
     ]
    }
   ],
   "source": [
    "# EPU Data\n",
    "print(\"Loading in EPU Data...\")\n",
    "epu_data = pd.read_excel(get_data() / 'US_Policy_Uncertainty_Data.xlsx')\n",
    "# Format Categorical EPU Data\n",
    "epu = Data(data=epu_data, name='epu_data')\n",
    "epu = epu.format_dep()\n",
    "# Export Data\n",
    "epu.to_parquet(get_format_data() / 'epu.parquet.brotli', compression='brotli')"
   ]
  },
  {
   "cell_type": "code",
   "execution_count": 2,
   "id": "abb77f3a-a597-41cf-947b-73934a84ee73",
   "metadata": {},
   "outputs": [
    {
     "name": "stdout",
     "output_type": "stream",
     "text": [
      "Loading in Categorical EPU Data...\n"
     ]
    }
   ],
   "source": [
    "# Categorical EPU Data\n",
    "print(\"Loading in Categorical EPU Data...\")\n",
    "epu_cat_data = pd.read_excel(get_data() / 'Categorical_EPU_Data.xlsx')\n",
    "# Format Categorical EPU Data\n",
    "epu_cat = Data(data=epu_cat_data, name='categorical_epu_data')\n",
    "epu_cat = epu_cat.format_dep()\n",
    "# Export Data\n",
    "epu_cat.to_parquet(get_format_data() / 'epu_cat.parquet.brotli', compression='brotli')"
   ]
  },
  {
   "cell_type": "code",
   "execution_count": 2,
   "id": "479dd93b-4b49-4d00-87a8-fb5d8eec77d8",
   "metadata": {},
   "outputs": [
    {
     "name": "stdout",
     "output_type": "stream",
     "text": [
      "Loading in Biodiversity Index...\n"
     ]
    }
   ],
   "source": [
    "# Biodiversity Index\n",
    "print(\"Loading in Biodiversity Index...\")\n",
    "bio_data = pd.read_csv(get_data() / 'google_biodiversity_attention_index.csv')\n",
    "# Format Categorical EPU Data\n",
    "bio = Data(data=bio_data, name='biodiversity_index')\n",
    "bio = bio.format_dep()\n",
    "# Export Data\n",
    "bio.to_parquet(get_format_data() / 'bio_index.parquet.brotli', compression='brotli')"
   ]
  },
  {
   "cell_type": "code",
   "execution_count": 4,
   "id": "f93d663f-1f98-4ed3-9c66-7dfa88382d15",
   "metadata": {},
   "outputs": [
    {
     "name": "stdout",
     "output_type": "stream",
     "text": [
      "Loading in CC Embeddings...\n"
     ]
    }
   ],
   "source": [
    "# CC Embeddings\n",
    "print(\"Loading in CC Embeddings...\")\n",
    "cc_emb_data = pd.read_parquet(get_data() / 'cc' / 'doc.pq')\n",
    "# Format CC Embeddings\n",
    "cc_emb_format = Data(data=cc_emb_data, name='cc')\n",
    "cc_emb = cc_emb_format.format_emb()\n",
    "# Export Data\n",
    "cc_emb.to_parquet(get_format_data() / 'cc_emb.parquet.brotli', compression='brotli')"
   ]
  },
  {
   "cell_type": "code",
   "execution_count": 5,
   "id": "afc903d1-44c3-4ab9-aeb0-c968088df6df",
   "metadata": {},
   "outputs": [
    {
     "name": "stdout",
     "output_type": "stream",
     "text": [
      "Loading in NYT Embeddings...\n"
     ]
    }
   ],
   "source": [
    "# NYT Embeddings\n",
    "print(\"Loading in NYT Embeddings...\")\n",
    "nyt_emb_data = Data(folder_path=get_data() / 'nyt', file_pattern='doc_*')\n",
    "nyt_emb = nyt_emb_data.concat_files()\n",
    "# Format NYT Embeddings\n",
    "nyt_emb_format = Data(data=nyt_emb, name='nyt')\n",
    "nyt_emb = nyt_emb_format.format_emb()\n",
    "# Export data\n",
    "nyt_emb.to_parquet(get_format_data() / 'nyt_emb.parquet.brotli', compression='brotli')"
   ]
  },
  {
   "cell_type": "code",
   "execution_count": 2,
   "id": "aeb74b1b-330f-4287-9f7b-ae6b2aebd61a",
   "metadata": {},
   "outputs": [
    {
     "name": "stdout",
     "output_type": "stream",
     "text": [
      "Loading in Daily Topic Attention Data...\n"
     ]
    }
   ],
   "source": [
    "# Daily Topic Attention Data\n",
    "print(\"Loading in Daily Topic Attention Data...\")\n",
    "topic_attention_data = pd.read_csv(get_data() / 'Daily_Topic_Attention_Theta.csv')\n",
    "# Format Topic Attention Data\n",
    "topic_attention = Data(data=topic_attention_data, name='topic_attention')\n",
    "topic_attention = topic_attention.format_dep()\n",
    "# Export data\n",
    "topic_attention.to_parquet(get_format_data() / 'topic_attention.parquet.brotli', compression='brotli')"
   ]
  },
  {
   "cell_type": "code",
   "execution_count": 2,
   "id": "ced9b930-aff7-479e-a683-c766fa724b59",
   "metadata": {},
   "outputs": [
    {
     "name": "stdout",
     "output_type": "stream",
     "text": [
      "Loading in Daily WSJ Articles...\n",
      "1\n",
      "2\n",
      "3\n",
      "4\n",
      "5\n"
     ]
    }
   ],
   "source": [
    "# Daily Multiple WSJ Articles\n",
    "print(\"Loading in Daily WSJ Articles...\")\n",
    "wsj_art_data = Data(folder_path=get_data() / 'wsj_multiple', file_pattern='doc_*')\n",
    "wsj_art = wsj_art_data.concat_files()\n",
    "# Format WSJ Embeddings\n",
    "wsj_art_format = Data(data=wsj_art, name='wsj')\n",
    "wsj_art = wsj_art_format.format_article()\n",
    "# Export Data\n",
    "chunks = np.array_split(wsj_art, 5)\n",
    "for i, df in enumerate(chunks, 1):\n",
    "    print(i)\n",
    "    df.to_parquet(get_format_data() / 'art' / f'wsj_art_{i}.parquet.brotli', compression='brotli')"
   ]
  }
 ],
 "metadata": {
  "kernelspec": {
   "display_name": "narrativezoo",
   "language": "python",
   "name": "narrativezoo"
  },
  "language_info": {
   "codemirror_mode": {
    "name": "ipython",
    "version": 3
   },
   "file_extension": ".py",
   "mimetype": "text/x-python",
   "name": "python",
   "nbconvert_exporter": "python",
   "pygments_lexer": "ipython3",
   "version": "3.10.13"
  }
 },
 "nbformat": 4,
 "nbformat_minor": 5
}
