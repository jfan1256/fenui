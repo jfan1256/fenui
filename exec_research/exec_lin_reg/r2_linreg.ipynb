{
 "cells": [
  {
   "cell_type": "markdown",
   "id": "9a44afe4-f0a1-42bd-9bff-aad78bcefc9c",
   "metadata": {},
   "source": [
    "## Import Package"
   ]
  },
  {
   "cell_type": "code",
   "execution_count": null,
   "id": "91d7eb1a-3d95-4da1-a076-8ccd249949ea",
   "metadata": {
    "ExecuteTime": {
     "end_time": "2023-12-09T01:31:33.995515300Z",
     "start_time": "2023-12-09T01:31:24.012294Z"
    }
   },
   "outputs": [],
   "source": [
    "import pandas as pd\n",
    "import os\n",
    "import logging\n",
    "logging.getLogger('ray').setLevel(logging.ERROR)\n",
    "os.environ['TF_CPP_MIN_LOG_LEVEL'] = '2'\n",
    "\n",
    "from class_model.model import Model\n",
    "from utils.system import *\n",
    "\n",
    "import warnings\n",
    "warnings.filterwarnings('ignore')"
   ]
  },
  {
   "cell_type": "markdown",
   "id": "5765d69d-51f0-43d4-9a20-6ab29dcf5081",
   "metadata": {},
   "source": [
    "## Load Data"
   ]
  },
  {
   "cell_type": "markdown",
   "id": "37e30b1e-5e84-4afc-8ef7-38429535a174",
   "metadata": {},
   "source": [
    "#### Daily Index"
   ]
  },
  {
   "cell_type": "code",
   "execution_count": 104,
   "id": "bf5cd6e6-8363-4b19-8d5f-6d8587f1393e",
   "metadata": {},
   "outputs": [],
   "source": [
    "# Read in Formatted NYT Embeddings\n",
    "nyt_emb = pd.read_parquet(get_format_data() / 'nyt_emb.parquet.brotli')\n",
    "# Read in Formatted WSJ Embeddings\n",
    "wsj_emb = pd.read_parquet(get_format_data() / 'wsj_emb.parquet.brotli')\n",
    "# Read in Formatted US News\n",
    "us_news = pd.read_parquet(get_format_data() / 'us_news.parquet.brotli')\n",
    "# Read in Formatted Topic Attention\n",
    "topic_attention = pd.read_parquet(get_format_data() / 'topic_attention.parquet.brotli')"
   ]
  },
  {
   "cell_type": "code",
   "execution_count": 105,
   "id": "51767b71-74ce-469b-bae5-4eb6019a15d0",
   "metadata": {},
   "outputs": [],
   "source": [
    "# Merge NYT embeddings with daily EPU\n",
    "nyt_merge_d = pd.merge(us_news, nyt_emb, left_index=True, right_index=True, how='left').dropna()\n",
    "nyt_merge_d = pd.merge(topic_attention, nyt_merge_d, left_index=True, right_index=True, how='left').dropna()\n",
    "# Merge WSJ embeddings with daily EPU\n",
    "wsj_merge_d = pd.merge(us_news, wsj_emb, left_index=True, right_index=True, how='left').dropna()\n",
    "wsj_merge_d = pd.merge(topic_attention, wsj_merge_d, left_index=True, right_index=True, how='left').dropna()"
   ]
  },
  {
   "cell_type": "markdown",
   "id": "0347bb77-9cab-460d-8a7f-8e120a5355aa",
   "metadata": {},
   "source": [
    "#### Monthly Index"
   ]
  },
  {
   "cell_type": "code",
   "execution_count": 88,
   "id": "3f82daba-7aa8-486c-b7fd-b97a70452282",
   "metadata": {},
   "outputs": [],
   "source": [
    "# Read in Formatted Topic Attention\n",
    "epu_cat = pd.read_parquet(get_format_data() / 'epu_cat.parquet.brotli')\n",
    "# Read in Formatted Biodiversity Index\n",
    "bio_index = pd.read_parquet(get_format_data() / 'bio_index.parquet.brotli')"
   ]
  },
  {
   "cell_type": "code",
   "execution_count": 89,
   "id": "4352ec1d-24b4-4724-8507-2f23cde2da29",
   "metadata": {},
   "outputs": [],
   "source": [
    "# Merge NYT embeddings with daily EPU\n",
    "nyt_emb_m = nyt_emb.resample('M').mean()\n",
    "wsj_emb_m = wsj_emb.resample('M').mean()\n",
    "nyt_merge_m = pd.merge(epu_cat, nyt_emb_m, left_index=True, right_index=True, how='left').dropna()\n",
    "nyt_merge_m = pd.merge(bio_index, nyt_merge_m, left_index=True, right_index=True, how='left').dropna()\n",
    "# Merge WSJ embeddings with daily EPU\n",
    "wsj_merge_m = pd.merge(epu_cat, wsj_emb_m, left_index=True, right_index=True, how='left').dropna()\n",
    "wsj_merge_m = pd.merge(bio_index, wsj_merge_m, left_index=True, right_index=True, how='left').dropna()"
   ]
  },
  {
   "cell_type": "markdown",
   "id": "6bae12f8-6810-40d5-a61e-2ba013dbfe04",
   "metadata": {},
   "source": [
    "## Parallelized Linear Regression Experiments (X-Variable = Embedding, Y-Variable = Index)"
   ]
  },
  {
   "cell_type": "code",
   "execution_count": 4,
   "id": "6984e600-0ba0-49b0-9256-9c66842410f0",
   "metadata": {},
   "outputs": [],
   "source": [
    "# Alpha grid from 0 to 30.5\n",
    "grid = [0, 1e-5, 1e-4, 1e-3, 1e-2, 1e-1] + [0.5 * i for i in range(1, int(30 / 0.5) + 2)]"
   ]
  },
  {
   "cell_type": "markdown",
   "id": "7938f596-1e5a-43bc-8ca9-3f61e8882c5d",
   "metadata": {},
   "source": [
    "#### NYT (Daily Index)"
   ]
  },
  {
   "cell_type": "code",
   "execution_count": 5,
   "id": "9c59b897-583c-4eb9-9873-86f0de1d9698",
   "metadata": {
    "scrolled": true
   },
   "outputs": [
    {
     "name": "stderr",
     "output_type": "stream",
     "text": [
      "2023-12-08 21:05:10,987\tINFO worker.py:1673 -- Started a local Ray instance.\n",
      "\u001b[36m(pid=11096)\u001b[0m WARNING:tensorflow:From C:\\Users\\weigfan\\AppData\\Local\\anaconda3\\envs\\narrativezoo\\lib\\site-packages\\keras\\src\\losses.py:2976: The name tf.losses.sparse_softmax_cross_entropy is deprecated. Please use tf.compat.v1.losses.sparse_softmax_cross_entropy instead.\n",
      "\u001b[36m(pid=11096)\u001b[0m \n",
      "\u001b[36m(process_column pid=11096)\u001b[0m C:\\Users\\weigfan\\AppData\\Local\\anaconda3\\envs\\narrativezoo\\lib\\site-packages\\sklearn\\linear_model\\_ridge.py:200: LinAlgWarning: Ill-conditioned matrix (rcond=1.90962e-17): result may not be accurate.\n",
      "\u001b[36m(process_column pid=11096)\u001b[0m   return linalg.solve(A, Xy, assume_a=\"pos\", overwrite_a=True).T\n",
      "\u001b[36m(pid=24436)\u001b[0m WARNING:tensorflow:From C:\\Users\\weigfan\\AppData\\Local\\anaconda3\\envs\\narrativezoo\\lib\\site-packages\\keras\\src\\losses.py:2976: The name tf.losses.sparse_softmax_cross_entropy is deprecated. Please use tf.compat.v1.losses.sparse_softmax_cross_entropy instead.\u001b[32m [repeated 15x across cluster] (Ray deduplicates logs by default. Set RAY_DEDUP_LOGS=0 to disable log deduplication, or see https://docs.ray.io/en/master/ray-observability/ray-logging.html#log-deduplication for more options.)\u001b[0m\n",
      "\u001b[36m(pid=24436)\u001b[0m \u001b[32m [repeated 15x across cluster]\u001b[0m\n",
      "\u001b[36m(process_column pid=27960)\u001b[0m C:\\Users\\weigfan\\AppData\\Local\\anaconda3\\envs\\narrativezoo\\lib\\site-packages\\sklearn\\linear_model\\_ridge.py:200: LinAlgWarning: Ill-conditioned matrix (rcond=1.90962e-17): result may not be accurate.\u001b[32m [repeated 16x across cluster]\u001b[0m\n",
      "\u001b[36m(process_column pid=27960)\u001b[0m   return linalg.solve(A, Xy, assume_a=\"pos\", overwrite_a=True).T\u001b[32m [repeated 16x across cluster]\u001b[0m\n",
      "\u001b[36m(process_column pid=9948)\u001b[0m C:\\Users\\weigfan\\AppData\\Local\\anaconda3\\envs\\narrativezoo\\lib\\site-packages\\sklearn\\linear_model\\_ridge.py:200: LinAlgWarning: Ill-conditioned matrix (rcond=1.90962e-17): result may not be accurate.\u001b[32m [repeated 16x across cluster]\u001b[0m\n",
      "\u001b[36m(process_column pid=9948)\u001b[0m   return linalg.solve(A, Xy, assume_a=\"pos\", overwrite_a=True).T\u001b[32m [repeated 16x across cluster]\u001b[0m\n",
      "\u001b[36m(process_column pid=236)\u001b[0m C:\\Users\\weigfan\\AppData\\Local\\anaconda3\\envs\\narrativezoo\\lib\\site-packages\\sklearn\\linear_model\\_ridge.py:200: LinAlgWarning: Ill-conditioned matrix (rcond=1.90962e-17): result may not be accurate.\u001b[32m [repeated 14x across cluster]\u001b[0m\n",
      "\u001b[36m(process_column pid=236)\u001b[0m   return linalg.solve(A, Xy, assume_a=\"pos\", overwrite_a=True).T\u001b[32m [repeated 14x across cluster]\u001b[0m\n",
      "\u001b[36m(process_column pid=9948)\u001b[0m C:\\Users\\weigfan\\AppData\\Local\\anaconda3\\envs\\narrativezoo\\lib\\site-packages\\sklearn\\linear_model\\_ridge.py:200: LinAlgWarning: Ill-conditioned matrix (rcond=1.90962e-17): result may not be accurate.\u001b[32m [repeated 2x across cluster]\u001b[0m\n",
      "\u001b[36m(process_column pid=9948)\u001b[0m   return linalg.solve(A, Xy, assume_a=\"pos\", overwrite_a=True).T\u001b[32m [repeated 2x across cluster]\u001b[0m\n",
      "\u001b[36m(process_column pid=11096)\u001b[0m C:\\Users\\weigfan\\AppData\\Local\\anaconda3\\envs\\narrativezoo\\lib\\site-packages\\sklearn\\linear_model\\_ridge.py:200: LinAlgWarning: Ill-conditioned matrix (rcond=1.90962e-17): result may not be accurate.\u001b[32m [repeated 9x across cluster]\u001b[0m\n",
      "\u001b[36m(process_column pid=11096)\u001b[0m   return linalg.solve(A, Xy, assume_a=\"pos\", overwrite_a=True).T\u001b[32m [repeated 9x across cluster]\u001b[0m\n",
      "\u001b[36m(process_column pid=9948)\u001b[0m C:\\Users\\weigfan\\AppData\\Local\\anaconda3\\envs\\narrativezoo\\lib\\site-packages\\sklearn\\linear_model\\_ridge.py:200: LinAlgWarning: Ill-conditioned matrix (rcond=1.90962e-17): result may not be accurate.\u001b[32m [repeated 7x across cluster]\u001b[0m\n",
      "\u001b[36m(process_column pid=9948)\u001b[0m   return linalg.solve(A, Xy, assume_a=\"pos\", overwrite_a=True).T\u001b[32m [repeated 7x across cluster]\u001b[0m\n",
      "\u001b[36m(process_column pid=24436)\u001b[0m C:\\Users\\weigfan\\AppData\\Local\\anaconda3\\envs\\narrativezoo\\lib\\site-packages\\sklearn\\linear_model\\_ridge.py:200: LinAlgWarning: Ill-conditioned matrix (rcond=1.90962e-17): result may not be accurate.\u001b[32m [repeated 9x across cluster]\u001b[0m\n",
      "\u001b[36m(process_column pid=24436)\u001b[0m   return linalg.solve(A, Xy, assume_a=\"pos\", overwrite_a=True).T\u001b[32m [repeated 9x across cluster]\u001b[0m\n",
      "\u001b[36m(process_column pid=9948)\u001b[0m C:\\Users\\weigfan\\AppData\\Local\\anaconda3\\envs\\narrativezoo\\lib\\site-packages\\sklearn\\linear_model\\_ridge.py:200: LinAlgWarning: Ill-conditioned matrix (rcond=1.90962e-17): result may not be accurate.\u001b[32m [repeated 7x across cluster]\u001b[0m\n",
      "\u001b[36m(process_column pid=9948)\u001b[0m   return linalg.solve(A, Xy, assume_a=\"pos\", overwrite_a=True).T\u001b[32m [repeated 7x across cluster]\u001b[0m\n",
      "\u001b[36m(process_column pid=10836)\u001b[0m C:\\Users\\weigfan\\AppData\\Local\\anaconda3\\envs\\narrativezoo\\lib\\site-packages\\sklearn\\linear_model\\_ridge.py:200: LinAlgWarning: Ill-conditioned matrix (rcond=1.90962e-17): result may not be accurate.\u001b[32m [repeated 9x across cluster]\u001b[0m\n",
      "\u001b[36m(process_column pid=10836)\u001b[0m   return linalg.solve(A, Xy, assume_a=\"pos\", overwrite_a=True).T\u001b[32m [repeated 9x across cluster]\u001b[0m\n",
      "\u001b[36m(process_column pid=9948)\u001b[0m C:\\Users\\weigfan\\AppData\\Local\\anaconda3\\envs\\narrativezoo\\lib\\site-packages\\sklearn\\linear_model\\_ridge.py:200: LinAlgWarning: Ill-conditioned matrix (rcond=1.90962e-17): result may not be accurate.\u001b[32m [repeated 7x across cluster]\u001b[0m\n",
      "\u001b[36m(process_column pid=9948)\u001b[0m   return linalg.solve(A, Xy, assume_a=\"pos\", overwrite_a=True).T\u001b[32m [repeated 7x across cluster]\u001b[0m\n",
      "\u001b[36m(process_column pid=29956)\u001b[0m C:\\Users\\weigfan\\AppData\\Local\\anaconda3\\envs\\narrativezoo\\lib\\site-packages\\sklearn\\linear_model\\_ridge.py:200: LinAlgWarning: Ill-conditioned matrix (rcond=1.90962e-17): result may not be accurate.\u001b[32m [repeated 9x across cluster]\u001b[0m\n",
      "\u001b[36m(process_column pid=29956)\u001b[0m   return linalg.solve(A, Xy, assume_a=\"pos\", overwrite_a=True).T\u001b[32m [repeated 9x across cluster]\u001b[0m\n",
      "\u001b[36m(process_column pid=9948)\u001b[0m C:\\Users\\weigfan\\AppData\\Local\\anaconda3\\envs\\narrativezoo\\lib\\site-packages\\sklearn\\linear_model\\_ridge.py:200: LinAlgWarning: Ill-conditioned matrix (rcond=1.90962e-17): result may not be accurate.\u001b[32m [repeated 7x across cluster]\u001b[0m\n",
      "\u001b[36m(process_column pid=9948)\u001b[0m   return linalg.solve(A, Xy, assume_a=\"pos\", overwrite_a=True).T\u001b[32m [repeated 7x across cluster]\u001b[0m\n",
      "\u001b[36m(process_column pid=15200)\u001b[0m C:\\Users\\weigfan\\AppData\\Local\\anaconda3\\envs\\narrativezoo\\lib\\site-packages\\sklearn\\linear_model\\_ridge.py:200: LinAlgWarning: Ill-conditioned matrix (rcond=1.90962e-17): result may not be accurate.\u001b[32m [repeated 10x across cluster]\u001b[0m\n",
      "\u001b[36m(process_column pid=15200)\u001b[0m   return linalg.solve(A, Xy, assume_a=\"pos\", overwrite_a=True).T\u001b[32m [repeated 10x across cluster]\u001b[0m\n",
      "\u001b[36m(process_column pid=9948)\u001b[0m C:\\Users\\weigfan\\AppData\\Local\\anaconda3\\envs\\narrativezoo\\lib\\site-packages\\sklearn\\linear_model\\_ridge.py:200: LinAlgWarning: Ill-conditioned matrix (rcond=1.90962e-17): result may not be accurate.\u001b[32m [repeated 6x across cluster]\u001b[0m\n",
      "\u001b[36m(process_column pid=9948)\u001b[0m   return linalg.solve(A, Xy, assume_a=\"pos\", overwrite_a=True).T\u001b[32m [repeated 6x across cluster]\u001b[0m\n",
      "\u001b[36m(process_column pid=2588)\u001b[0m C:\\Users\\weigfan\\AppData\\Local\\anaconda3\\envs\\narrativezoo\\lib\\site-packages\\sklearn\\linear_model\\_ridge.py:200: LinAlgWarning: Ill-conditioned matrix (rcond=1.90962e-17): result may not be accurate.\u001b[32m [repeated 13x across cluster]\u001b[0m\n",
      "\u001b[36m(process_column pid=2588)\u001b[0m   return linalg.solve(A, Xy, assume_a=\"pos\", overwrite_a=True).T\u001b[32m [repeated 13x across cluster]\u001b[0m\n",
      "\u001b[36m(process_column pid=9948)\u001b[0m C:\\Users\\weigfan\\AppData\\Local\\anaconda3\\envs\\narrativezoo\\lib\\site-packages\\sklearn\\linear_model\\_ridge.py:200: LinAlgWarning: Ill-conditioned matrix (rcond=1.90962e-17): result may not be accurate.\u001b[32m [repeated 3x across cluster]\u001b[0m\n",
      "\u001b[36m(process_column pid=9948)\u001b[0m   return linalg.solve(A, Xy, assume_a=\"pos\", overwrite_a=True).T\u001b[32m [repeated 3x across cluster]\u001b[0m\n",
      "\u001b[36m(process_column pid=27960)\u001b[0m C:\\Users\\weigfan\\AppData\\Local\\anaconda3\\envs\\narrativezoo\\lib\\site-packages\\sklearn\\linear_model\\_ridge.py:200: LinAlgWarning: Ill-conditioned matrix (rcond=1.90962e-17): result may not be accurate.\u001b[32m [repeated 9x across cluster]\u001b[0m\n",
      "\u001b[36m(process_column pid=27960)\u001b[0m   return linalg.solve(A, Xy, assume_a=\"pos\", overwrite_a=True).T\u001b[32m [repeated 9x across cluster]\u001b[0m\n",
      "\u001b[36m(process_column pid=9948)\u001b[0m C:\\Users\\weigfan\\AppData\\Local\\anaconda3\\envs\\narrativezoo\\lib\\site-packages\\sklearn\\linear_model\\_ridge.py:200: LinAlgWarning: Ill-conditioned matrix (rcond=1.90962e-17): result may not be accurate.\u001b[32m [repeated 7x across cluster]\u001b[0m\n",
      "\u001b[36m(process_column pid=9948)\u001b[0m   return linalg.solve(A, Xy, assume_a=\"pos\", overwrite_a=True).T\u001b[32m [repeated 7x across cluster]\u001b[0m\n",
      "\u001b[36m(process_column pid=11096)\u001b[0m C:\\Users\\weigfan\\AppData\\Local\\anaconda3\\envs\\narrativezoo\\lib\\site-packages\\sklearn\\linear_model\\_ridge.py:200: LinAlgWarning: Ill-conditioned matrix (rcond=1.90962e-17): result may not be accurate.\u001b[32m [repeated 7x across cluster]\u001b[0m\n",
      "\u001b[36m(process_column pid=11096)\u001b[0m   return linalg.solve(A, Xy, assume_a=\"pos\", overwrite_a=True).T\u001b[32m [repeated 7x across cluster]\u001b[0m\n",
      "\u001b[36m(process_column pid=9948)\u001b[0m C:\\Users\\weigfan\\AppData\\Local\\anaconda3\\envs\\narrativezoo\\lib\\site-packages\\sklearn\\linear_model\\_ridge.py:200: LinAlgWarning: Ill-conditioned matrix (rcond=1.90962e-17): result may not be accurate.\u001b[32m [repeated 9x across cluster]\u001b[0m\n",
      "\u001b[36m(process_column pid=9948)\u001b[0m   return linalg.solve(A, Xy, assume_a=\"pos\", overwrite_a=True).T\u001b[32m [repeated 9x across cluster]\u001b[0m\n",
      "\u001b[36m(process_column pid=21924)\u001b[0m C:\\Users\\weigfan\\AppData\\Local\\anaconda3\\envs\\narrativezoo\\lib\\site-packages\\sklearn\\linear_model\\_ridge.py:200: LinAlgWarning: Ill-conditioned matrix (rcond=1.90962e-17): result may not be accurate.\u001b[32m [repeated 4x across cluster]\u001b[0m\n",
      "\u001b[36m(process_column pid=21924)\u001b[0m   return linalg.solve(A, Xy, assume_a=\"pos\", overwrite_a=True).T\u001b[32m [repeated 4x across cluster]\u001b[0m\n"
     ]
    }
   ],
   "source": [
    "# Tune OOS L2 OLS NYT\n",
    "nyt_beta_col = nyt_merge_d.filter(regex='^nyt').columns\n",
    "y_col = us_news.columns.tolist() + topic_attention.columns.tolist()\n",
    "\n",
    "nyt_model = Model(data=nyt_merge_d, d_to_m=True, beta_col=nyt_beta_col, y_col=y_col, split=0.5, alpha_tune=grid)\n",
    "nyt_col_result = nyt_model.tune_multiple_y('oos_l2_ols')"
   ]
  },
  {
   "cell_type": "code",
   "execution_count": 6,
   "id": "c84c9445-625e-4dca-ab27-4259def82066",
   "metadata": {},
   "outputs": [],
   "source": [
    "nyt_table_d = nyt_model.table_multiple_y(nyt_col_result)"
   ]
  },
  {
   "cell_type": "code",
   "execution_count": 7,
   "id": "3132d26e-37bb-4704-8479-eebe58804ed9",
   "metadata": {},
   "outputs": [],
   "source": [
    "nyt_table_d.to_csv(get_reports() / 'results' / 'nyt_emb_results_d.csv', index=False)"
   ]
  },
  {
   "cell_type": "code",
   "execution_count": 8,
   "id": "ab682c7a-dee1-4057-ba8d-9202e0c1c861",
   "metadata": {},
   "outputs": [],
   "source": [
    "nyt_table_d = pd.read_csv(get_reports() / 'results' / 'nyt_emb_d_results.csv')"
   ]
  },
  {
   "cell_type": "markdown",
   "id": "da9e6861-7639-4a0e-93df-cfbeb1630e0f",
   "metadata": {},
   "source": [
    "#### Analyze Result and Statistics"
   ]
  },
  {
   "cell_type": "code",
   "execution_count": 20,
   "id": "f716a194-aa50-4a8f-aec8-d61be8a6bbd4",
   "metadata": {},
   "outputs": [
    {
     "data": {
      "text/html": [
       "<div>\n",
       "<style scoped>\n",
       "    .dataframe tbody tr th:only-of-type {\n",
       "        vertical-align: middle;\n",
       "    }\n",
       "\n",
       "    .dataframe tbody tr th {\n",
       "        vertical-align: top;\n",
       "    }\n",
       "\n",
       "    .dataframe thead th {\n",
       "        text-align: right;\n",
       "    }\n",
       "</style>\n",
       "<table border=\"1\" class=\"dataframe\">\n",
       "  <thead>\n",
       "    <tr style=\"text-align: right;\">\n",
       "      <th></th>\n",
       "      <th>Y Variable</th>\n",
       "      <th>alpha</th>\n",
       "      <th>is_r2</th>\n",
       "      <th>oos_r2</th>\n",
       "    </tr>\n",
       "  </thead>\n",
       "  <tbody>\n",
       "    <tr>\n",
       "      <th>0</th>\n",
       "      <td>daily_pol</td>\n",
       "      <td>30.5</td>\n",
       "      <td>0.547236</td>\n",
       "      <td>0.0</td>\n",
       "    </tr>\n",
       "  </tbody>\n",
       "</table>\n",
       "</div>"
      ],
      "text/plain": [
       "  Y Variable  alpha     is_r2  oos_r2\n",
       "0  daily_pol   30.5  0.547236     0.0"
      ]
     },
     "execution_count": 20,
     "metadata": {},
     "output_type": "execute_result"
    }
   ],
   "source": [
    "nyt_daily_pol_table = nyt_table_d.loc[nyt_table_d['Y Variable'].isin(us_news.columns.tolist())]\n",
    "nyt_daily_pol_table"
   ]
  },
  {
   "cell_type": "code",
   "execution_count": 21,
   "id": "4f202c7f-189d-4b82-9979-8d4bea83ac05",
   "metadata": {},
   "outputs": [],
   "source": [
    "nyt_topic_table = nyt_table_d.loc[nyt_table_d['Y Variable'].isin(topic_attention.columns.tolist())]"
   ]
  },
  {
   "cell_type": "code",
   "execution_count": 46,
   "id": "740f0f0e-5f08-4948-8dad-97ae26a77b03",
   "metadata": {},
   "outputs": [
    {
     "name": "stdout",
     "output_type": "stream",
     "text": [
      "pct is_r2 > 0: 100.0\n",
      "pct oos_r2 > 0: 22.78\n",
      "mean is_r2: 52.52\n",
      "mean oos_r2: 2.76\n"
     ]
    }
   ],
   "source": [
    "# pct is_r2 > 0 and oos_r2 > 0\n",
    "nyt_topic_is_pct = round(len(nyt_topic_table.loc[nyt_topic_table['is_r2'] > 0]) / len(nyt_topic_table) * 100, 2)\n",
    "nyt_topic_oos_pct = round(len(nyt_topic_table.loc[nyt_topic_table['oos_r2'] > 0]) / len(nyt_topic_table) * 100, 2)\n",
    "print(f\"pct is_r2 > 0: {nyt_topic_is_pct}\")\n",
    "print(f\"pct oos_r2 > 0: {nyt_topic_oos_pct}\")\n",
    "# mean is_r2 and oos_r2\n",
    "nyt_topic_is_r2 = round(nyt_topic_table['is_r2'].mean()*100, 2)\n",
    "nyt_topic_oos_r2 = round(nyt_topic_table['oos_r2'].mean()*100, 2)\n",
    "print(f\"mean is_r2: {nyt_topic_is_r2}\")\n",
    "print(f\"mean oos_r2: {nyt_topic_oos_r2}\")"
   ]
  },
  {
   "cell_type": "markdown",
   "id": "985a3c76-de86-4f3f-ab40-7e0bc883c744",
   "metadata": {},
   "source": [
    "#### NYT (Monthly Index)"
   ]
  },
  {
   "cell_type": "code",
   "execution_count": 90,
   "id": "346f375e-d234-466c-8fe4-029dbaaf5fbb",
   "metadata": {},
   "outputs": [
    {
     "name": "stderr",
     "output_type": "stream",
     "text": [
      "2023-12-10 19:42:33,527\tINFO worker.py:1673 -- Started a local Ray instance.\n",
      "\u001b[36m(pid=13380)\u001b[0m WARNING:tensorflow:From C:\\Users\\weigfan\\AppData\\Local\\anaconda3\\envs\\narrativezoo\\lib\\site-packages\\keras\\src\\losses.py:2976: The name tf.losses.sparse_softmax_cross_entropy is deprecated. Please use tf.compat.v1.losses.sparse_softmax_cross_entropy instead.\n",
      "\u001b[36m(pid=13380)\u001b[0m \n",
      "\u001b[36m(process_column pid=34820)\u001b[0m C:\\Users\\weigfan\\AppData\\Local\\anaconda3\\envs\\narrativezoo\\lib\\site-packages\\sklearn\\linear_model\\_ridge.py:239: UserWarning: Singular matrix in solving dual problem. Using least-squares solution instead.\n",
      "\u001b[36m(process_column pid=34820)\u001b[0m   warnings.warn(\n",
      "\u001b[36m(pid=24112)\u001b[0m WARNING:tensorflow:From C:\\Users\\weigfan\\AppData\\Local\\anaconda3\\envs\\narrativezoo\\lib\\site-packages\\keras\\src\\losses.py:2976: The name tf.losses.sparse_softmax_cross_entropy is deprecated. Please use tf.compat.v1.losses.sparse_softmax_cross_entropy instead.\u001b[32m [repeated 12x across cluster]\u001b[0m\n",
      "\u001b[36m(pid=24112)\u001b[0m \u001b[32m [repeated 12x across cluster]\u001b[0m\n",
      "\u001b[36m(process_column pid=24112)\u001b[0m C:\\Users\\weigfan\\AppData\\Local\\anaconda3\\envs\\narrativezoo\\lib\\site-packages\\sklearn\\linear_model\\_ridge.py:239: UserWarning: Singular matrix in solving dual problem. Using least-squares solution instead.\u001b[32m [repeated 12x across cluster]\u001b[0m\n",
      "\u001b[36m(process_column pid=24112)\u001b[0m   warnings.warn(\u001b[32m [repeated 12x across cluster]\u001b[0m\n"
     ]
    }
   ],
   "source": [
    "# Tune OOS L2 OLS NYT\n",
    "nyt_beta_col = nyt_merge_m.filter(regex='^nyt').columns\n",
    "y_col = epu_cat.columns.tolist() + bio_index.columns.tolist()\n",
    "\n",
    "nyt_model = Model(data=nyt_merge_m, d_to_m=False, beta_col=nyt_beta_col, y_col=y_col, split=0.5, alpha_tune=grid)\n",
    "nyt_col_result = nyt_model.tune_multiple_y('oos_l2_ols')"
   ]
  },
  {
   "cell_type": "code",
   "execution_count": 91,
   "id": "dae00324-7ef1-4f71-88ff-607e702f4feb",
   "metadata": {},
   "outputs": [],
   "source": [
    "nyt_table_m = nyt_model.table_multiple_y(nyt_col_result)"
   ]
  },
  {
   "cell_type": "code",
   "execution_count": 92,
   "id": "de9190c4-ab3d-477d-b828-fda8a3cf6547",
   "metadata": {},
   "outputs": [],
   "source": [
    "nyt_table_m.to_csv(get_reports() / 'results' / 'nyt_emb_m_results.csv', index=False)"
   ]
  },
  {
   "cell_type": "code",
   "execution_count": 93,
   "id": "d47bc928-7b41-4781-8079-215749d35ede",
   "metadata": {},
   "outputs": [],
   "source": [
    "nyt_table_m = pd.read_csv(get_reports() / 'results' / 'nyt_emb_m_results.csv')"
   ]
  },
  {
   "cell_type": "markdown",
   "id": "c5751301-f3e9-4165-8de7-8214ab69a408",
   "metadata": {},
   "source": [
    "#### Analyze Result and Statistics"
   ]
  },
  {
   "cell_type": "code",
   "execution_count": 94,
   "id": "71f0b5ed-77cf-434b-8c20-2e37bd6adb74",
   "metadata": {},
   "outputs": [
    {
     "data": {
      "text/html": [
       "<div>\n",
       "<style scoped>\n",
       "    .dataframe tbody tr th:only-of-type {\n",
       "        vertical-align: middle;\n",
       "    }\n",
       "\n",
       "    .dataframe tbody tr th {\n",
       "        vertical-align: top;\n",
       "    }\n",
       "\n",
       "    .dataframe thead th {\n",
       "        text-align: right;\n",
       "    }\n",
       "</style>\n",
       "<table border=\"1\" class=\"dataframe\">\n",
       "  <thead>\n",
       "    <tr style=\"text-align: right;\">\n",
       "      <th></th>\n",
       "      <th>Y Variable</th>\n",
       "      <th>alpha</th>\n",
       "      <th>is_r2</th>\n",
       "      <th>oos_r2</th>\n",
       "    </tr>\n",
       "  </thead>\n",
       "  <tbody>\n",
       "    <tr>\n",
       "      <th>12</th>\n",
       "      <td>bio</td>\n",
       "      <td>0.5</td>\n",
       "      <td>0.238194</td>\n",
       "      <td>0.152328</td>\n",
       "    </tr>\n",
       "  </tbody>\n",
       "</table>\n",
       "</div>"
      ],
      "text/plain": [
       "   Y Variable  alpha     is_r2    oos_r2\n",
       "12        bio    0.5  0.238194  0.152328"
      ]
     },
     "execution_count": 94,
     "metadata": {},
     "output_type": "execute_result"
    }
   ],
   "source": [
    "nyt_bio_index_table = nyt_table_m.loc[nyt_table_m['Y Variable'].isin(bio_index.columns.tolist())]\n",
    "nyt_bio_index_table"
   ]
  },
  {
   "cell_type": "code",
   "execution_count": 95,
   "id": "d56afe8e-9db5-4309-8226-23f8a39bbf12",
   "metadata": {},
   "outputs": [],
   "source": [
    "nyt_epu_cat_table = nyt_table_m.loc[nyt_table_m['Y Variable'].isin(epu_cat.columns.tolist())]"
   ]
  },
  {
   "cell_type": "code",
   "execution_count": 96,
   "id": "32fe0241-e609-4bac-96c8-3f48e3576353",
   "metadata": {},
   "outputs": [
    {
     "name": "stdout",
     "output_type": "stream",
     "text": [
      "pct is_r2 > 0: 100.0\n",
      "pct oos_r2 > 0: 58.33\n",
      "mean is_r2: 70.75\n",
      "mean oos_r2: 14.45\n"
     ]
    }
   ],
   "source": [
    "# pct is_r2 > 0 and oos_r2 > 0\n",
    "nyt_epu_cat_is_pct = round(len(nyt_epu_cat_table.loc[nyt_epu_cat_table['is_r2'] > 0]) / len(nyt_epu_cat_table) * 100, 2)\n",
    "nyt_epu_cat_oos_pct = round(len(nyt_epu_cat_table.loc[nyt_epu_cat_table['oos_r2'] > 0]) / len(nyt_epu_cat_table) * 100, 2)\n",
    "print(f\"pct is_r2 > 0: {nyt_epu_cat_is_pct}\")\n",
    "print(f\"pct oos_r2 > 0: {nyt_epu_cat_oos_pct}\")\n",
    "# mean is_r2 and oos_r2\n",
    "nyt_epu_cat_is_r2 = round(nyt_epu_cat_table['is_r2'].mean()*100, 2)\n",
    "nyt_epu_cat_oos_r2 = round(nyt_epu_cat_table['oos_r2'].mean()*100, 2)\n",
    "print(f\"mean is_r2: {nyt_epu_cat_is_r2}\")\n",
    "print(f\"mean oos_r2: {nyt_epu_cat_oos_r2}\")"
   ]
  },
  {
   "cell_type": "markdown",
   "id": "6bc1f24a-7c5d-4947-bb43-33eea84ac31a",
   "metadata": {},
   "source": [
    "#### WSJ (Daily Index)"
   ]
  },
  {
   "cell_type": "code",
   "execution_count": 10,
   "id": "a64ba930-5b8b-4e48-9cea-4d54f0341670",
   "metadata": {},
   "outputs": [
    {
     "name": "stderr",
     "output_type": "stream",
     "text": [
      "2023-12-08 21:11:00,095\tINFO worker.py:1673 -- Started a local Ray instance.\n",
      "\u001b[36m(pid=35500)\u001b[0m WARNING:tensorflow:From C:\\Users\\weigfan\\AppData\\Local\\anaconda3\\envs\\narrativezoo\\lib\\site-packages\\keras\\src\\losses.py:2976: The name tf.losses.sparse_softmax_cross_entropy is deprecated. Please use tf.compat.v1.losses.sparse_softmax_cross_entropy instead.\n",
      "\u001b[36m(pid=35500)\u001b[0m \n",
      "\u001b[36m(pid=18936)\u001b[0m WARNING:tensorflow:From C:\\Users\\weigfan\\AppData\\Local\\anaconda3\\envs\\narrativezoo\\lib\\site-packages\\keras\\src\\losses.py:2976: The name tf.losses.sparse_softmax_cross_entropy is deprecated. Please use tf.compat.v1.losses.sparse_softmax_cross_entropy instead.\u001b[32m [repeated 15x across cluster]\u001b[0m\n",
      "\u001b[36m(pid=18936)\u001b[0m \u001b[32m [repeated 15x across cluster]\u001b[0m\n"
     ]
    }
   ],
   "source": [
    "# Tune OOS L2 OLS WSJ\n",
    "wsj_beta_col = wsj_merge_d.filter(regex='^wsj').columns\n",
    "y_col = us_news.columns.tolist() + topic_attention.columns.tolist()\n",
    "\n",
    "wsj_model = Model(data=wsj_merge_d, d_to_m=True, beta_col=wsj_beta_col, y_col=y_col, split=0.5, alpha_tune=grid)\n",
    "wsj_col_result = wsj_model.tune_multiple_y('oos_l2_ols')"
   ]
  },
  {
   "cell_type": "code",
   "execution_count": 11,
   "id": "096f078c-b1fb-46ee-afc9-d0743113367e",
   "metadata": {},
   "outputs": [],
   "source": [
    "wsj_table_d = wsj_model.table_multiple_y(wsj_col_result)"
   ]
  },
  {
   "cell_type": "code",
   "execution_count": 12,
   "id": "93832376-8e4a-49d6-a7d5-92db41d3c132",
   "metadata": {},
   "outputs": [],
   "source": [
    "wsj_table_d.to_csv(get_reports() / 'results' / 'wsj_emb_d_results.csv', index=False)"
   ]
  },
  {
   "cell_type": "code",
   "execution_count": 13,
   "id": "c659764a-ed62-468b-97e8-9573ef678a3f",
   "metadata": {},
   "outputs": [],
   "source": [
    "wsj_table_d = pd.read_csv(get_reports() / 'results' / 'wsj_emb_d_results.csv')"
   ]
  },
  {
   "cell_type": "markdown",
   "id": "5a7a1362-cd45-48c0-ba35-e719feefc576",
   "metadata": {},
   "source": [
    "#### Analyze Result and Statistics"
   ]
  },
  {
   "cell_type": "code",
   "execution_count": 39,
   "id": "1f577437-afc8-42d4-bdd4-154d3b621319",
   "metadata": {},
   "outputs": [
    {
     "data": {
      "text/html": [
       "<div>\n",
       "<style scoped>\n",
       "    .dataframe tbody tr th:only-of-type {\n",
       "        vertical-align: middle;\n",
       "    }\n",
       "\n",
       "    .dataframe tbody tr th {\n",
       "        vertical-align: top;\n",
       "    }\n",
       "\n",
       "    .dataframe thead th {\n",
       "        text-align: right;\n",
       "    }\n",
       "</style>\n",
       "<table border=\"1\" class=\"dataframe\">\n",
       "  <thead>\n",
       "    <tr style=\"text-align: right;\">\n",
       "      <th></th>\n",
       "      <th>Y Variable</th>\n",
       "      <th>alpha</th>\n",
       "      <th>is_r2</th>\n",
       "      <th>oos_r2</th>\n",
       "    </tr>\n",
       "  </thead>\n",
       "  <tbody>\n",
       "    <tr>\n",
       "      <th>0</th>\n",
       "      <td>daily_pol</td>\n",
       "      <td>1.0</td>\n",
       "      <td>0.662995</td>\n",
       "      <td>0.395172</td>\n",
       "    </tr>\n",
       "  </tbody>\n",
       "</table>\n",
       "</div>"
      ],
      "text/plain": [
       "  Y Variable  alpha     is_r2    oos_r2\n",
       "0  daily_pol    1.0  0.662995  0.395172"
      ]
     },
     "execution_count": 39,
     "metadata": {},
     "output_type": "execute_result"
    }
   ],
   "source": [
    "wsj_daily_pol_table = wsj_table_d.loc[wsj_table_d['Y Variable'].isin(us_news.columns.tolist())]\n",
    "wsj_daily_pol_table"
   ]
  },
  {
   "cell_type": "code",
   "execution_count": 40,
   "id": "21147bb0-cf86-4f30-b368-0ac4bca8212e",
   "metadata": {},
   "outputs": [],
   "source": [
    "wsj_topic_table = wsj_table_d.loc[wsj_table_d['Y Variable'].isin(topic_attention.columns.tolist())]"
   ]
  },
  {
   "cell_type": "code",
   "execution_count": 48,
   "id": "f2a5632a-f01f-4a9e-a4ae-41dcb3d1cf0d",
   "metadata": {},
   "outputs": [
    {
     "name": "stdout",
     "output_type": "stream",
     "text": [
      "pct is_r2 > 0: 100.0\n",
      "pct oos_r2 > 0: 78.89\n",
      "mean is_r2: 75.79\n",
      "mean oos_r2: 36.11\n"
     ]
    }
   ],
   "source": [
    "# pct is_r2 > 0 and oos_r2 > 0\n",
    "wsj_topic_is_pct = round(len(wsj_topic_table.loc[wsj_topic_table['is_r2'] > 0]) / len(wsj_topic_table) * 100, 2)\n",
    "wsj_topic_oos_pct = round(len(wsj_topic_table.loc[wsj_topic_table['oos_r2'] > 0]) / len(wsj_topic_table) * 100, 2)\n",
    "print(f\"pct is_r2 > 0: {wsj_topic_is_pct}\")\n",
    "print(f\"pct oos_r2 > 0: {wsj_topic_oos_pct}\")\n",
    "\n",
    "# mean is_r2 and oos_r2\n",
    "wsj_topic_is_r2 = round(wsj_topic_table['is_r2'].mean()*100, 2)\n",
    "wsj_topic_oos_r2 = round(wsj_topic_table['oos_r2'].mean()*100, 2)\n",
    "print(f\"mean is_r2: {wsj_topic_is_r2}\")\n",
    "print(f\"mean oos_r2: {wsj_topic_oos_r2}\")"
   ]
  },
  {
   "cell_type": "markdown",
   "id": "5d93e8df-4d31-4b26-befc-1a5959605e68",
   "metadata": {},
   "source": [
    "#### WSJ (Monthly Index)"
   ]
  },
  {
   "cell_type": "code",
   "execution_count": 97,
   "id": "a8cdf857-bb96-4c36-bc81-db692efbc5f9",
   "metadata": {},
   "outputs": [
    {
     "name": "stderr",
     "output_type": "stream",
     "text": [
      "2023-12-10 19:42:57,420\tINFO worker.py:1673 -- Started a local Ray instance.\n",
      "\u001b[36m(pid=32588)\u001b[0m WARNING:tensorflow:From C:\\Users\\weigfan\\AppData\\Local\\anaconda3\\envs\\narrativezoo\\lib\\site-packages\\keras\\src\\losses.py:2976: The name tf.losses.sparse_softmax_cross_entropy is deprecated. Please use tf.compat.v1.losses.sparse_softmax_cross_entropy instead.\n",
      "\u001b[36m(pid=32588)\u001b[0m \n",
      "\u001b[36m(process_column pid=32588)\u001b[0m C:\\Users\\weigfan\\AppData\\Local\\anaconda3\\envs\\narrativezoo\\lib\\site-packages\\sklearn\\linear_model\\_ridge.py:237: LinAlgWarning: Ill-conditioned matrix (rcond=7.96546e-19): result may not be accurate.\n",
      "\u001b[36m(process_column pid=32588)\u001b[0m   dual_coef = linalg.solve(K, y, assume_a=\"pos\", overwrite_a=False)\n",
      "\u001b[36m(pid=24016)\u001b[0m WARNING:tensorflow:From C:\\Users\\weigfan\\AppData\\Local\\anaconda3\\envs\\narrativezoo\\lib\\site-packages\\keras\\src\\losses.py:2976: The name tf.losses.sparse_softmax_cross_entropy is deprecated. Please use tf.compat.v1.losses.sparse_softmax_cross_entropy instead.\u001b[32m [repeated 12x across cluster]\u001b[0m\n",
      "\u001b[36m(pid=24016)\u001b[0m \u001b[32m [repeated 12x across cluster]\u001b[0m\n",
      "\u001b[36m(process_column pid=24016)\u001b[0m C:\\Users\\weigfan\\AppData\\Local\\anaconda3\\envs\\narrativezoo\\lib\\site-packages\\sklearn\\linear_model\\_ridge.py:237: LinAlgWarning: Ill-conditioned matrix (rcond=7.96546e-19): result may not be accurate.\u001b[32m [repeated 12x across cluster]\u001b[0m\n",
      "\u001b[36m(process_column pid=24016)\u001b[0m   dual_coef = linalg.solve(K, y, assume_a=\"pos\", overwrite_a=False)\u001b[32m [repeated 12x across cluster]\u001b[0m\n"
     ]
    }
   ],
   "source": [
    "# Tune OOS L2 OLS WSJ\n",
    "wsj_beta_col = wsj_merge_m.filter(regex='^wsj').columns\n",
    "y_col = epu_cat.columns.tolist() + bio_index.columns.tolist()\n",
    "\n",
    "wsj_model = Model(data=wsj_merge_m, d_to_m=False, beta_col=wsj_beta_col, y_col=y_col, split=0.5, alpha_tune=grid)\n",
    "wsj_col_result = wsj_model.tune_multiple_y('oos_l2_ols')"
   ]
  },
  {
   "cell_type": "code",
   "execution_count": 98,
   "id": "45f25bd3-9ec5-4729-a5be-ca62acfd66f7",
   "metadata": {},
   "outputs": [],
   "source": [
    "wsj_table_m = wsj_model.table_multiple_y(wsj_col_result)"
   ]
  },
  {
   "cell_type": "code",
   "execution_count": 99,
   "id": "82addc50-452d-4934-8250-a20c16015a35",
   "metadata": {},
   "outputs": [],
   "source": [
    "wsj_table_m.to_csv(get_reports() / 'results' / 'wsj_emb_m_results.csv', index=False)"
   ]
  },
  {
   "cell_type": "code",
   "execution_count": 100,
   "id": "9bb8af19-63e9-4e36-9123-8df4951bfe29",
   "metadata": {},
   "outputs": [],
   "source": [
    "wsj_table_m = pd.read_csv(get_reports() / 'results' / 'wsj_emb_m_results.csv')"
   ]
  },
  {
   "cell_type": "markdown",
   "id": "d68680be-b1b4-422f-8936-331874290d62",
   "metadata": {},
   "source": [
    "#### Analyze Result and Statistics"
   ]
  },
  {
   "cell_type": "code",
   "execution_count": 101,
   "id": "915ee04d-8a28-41b6-9b7d-2a57427e1f44",
   "metadata": {},
   "outputs": [
    {
     "data": {
      "text/html": [
       "<div>\n",
       "<style scoped>\n",
       "    .dataframe tbody tr th:only-of-type {\n",
       "        vertical-align: middle;\n",
       "    }\n",
       "\n",
       "    .dataframe tbody tr th {\n",
       "        vertical-align: top;\n",
       "    }\n",
       "\n",
       "    .dataframe thead th {\n",
       "        text-align: right;\n",
       "    }\n",
       "</style>\n",
       "<table border=\"1\" class=\"dataframe\">\n",
       "  <thead>\n",
       "    <tr style=\"text-align: right;\">\n",
       "      <th></th>\n",
       "      <th>Y Variable</th>\n",
       "      <th>alpha</th>\n",
       "      <th>is_r2</th>\n",
       "      <th>oos_r2</th>\n",
       "    </tr>\n",
       "  </thead>\n",
       "  <tbody>\n",
       "    <tr>\n",
       "      <th>12</th>\n",
       "      <td>bio</td>\n",
       "      <td>0.001</td>\n",
       "      <td>0.957615</td>\n",
       "      <td>0.0</td>\n",
       "    </tr>\n",
       "  </tbody>\n",
       "</table>\n",
       "</div>"
      ],
      "text/plain": [
       "   Y Variable  alpha     is_r2  oos_r2\n",
       "12        bio  0.001  0.957615     0.0"
      ]
     },
     "execution_count": 101,
     "metadata": {},
     "output_type": "execute_result"
    }
   ],
   "source": [
    "wsj_bio_index_table = wsj_table_m.loc[wsj_table_m['Y Variable'].isin(bio_index.columns.tolist())]\n",
    "wsj_bio_index_table"
   ]
  },
  {
   "cell_type": "code",
   "execution_count": 102,
   "id": "344f3d9d-7893-404f-8ad9-18d1dc10a2cc",
   "metadata": {},
   "outputs": [],
   "source": [
    "wsj_epu_cat_table = wsj_table_m.loc[wsj_table_m['Y Variable'].isin(epu_cat.columns.tolist())]"
   ]
  },
  {
   "cell_type": "code",
   "execution_count": 103,
   "id": "c5bcb41c-7995-4e4c-bf23-ed17fd3e7275",
   "metadata": {},
   "outputs": [
    {
     "name": "stdout",
     "output_type": "stream",
     "text": [
      "pct is_r2 > 0: 100.0\n",
      "pct oos_r2 > 0: 58.33\n",
      "mean is_r2: 51.53\n",
      "mean oos_r2: 7.68\n"
     ]
    }
   ],
   "source": [
    "# pct is_r2 > 0 and oos_r2 > 0\n",
    "wsj_epu_cat_is_pct = round(len(wsj_epu_cat_table.loc[wsj_epu_cat_table['is_r2'] > 0]) / len(wsj_epu_cat_table) * 100, 2)\n",
    "wsj_epu_cat_oos_pct = round(len(wsj_epu_cat_table.loc[wsj_epu_cat_table['oos_r2'] > 0]) / len(wsj_epu_cat_table) * 100, 2)\n",
    "print(f\"pct is_r2 > 0: {wsj_epu_cat_is_pct}\")\n",
    "print(f\"pct oos_r2 > 0: {wsj_epu_cat_oos_pct}\")\n",
    "# mean is_r2 and oos_r2\n",
    "wsj_epu_cat_is_r2 = round(wsj_epu_cat_table['is_r2'].mean()*100, 2)\n",
    "wsj_epu_cat_oos_r2 = round(wsj_epu_cat_table['oos_r2'].mean()*100, 2)\n",
    "print(f\"mean is_r2: {wsj_epu_cat_is_r2}\")\n",
    "print(f\"mean oos_r2: {wsj_epu_cat_oos_r2}\")"
   ]
  },
  {
   "cell_type": "markdown",
   "id": "5b2db02c-2ebb-4907-8e76-c0c23f245873",
   "metadata": {},
   "source": [
    "## Parallelized Linear Regression Experiments (X-Variable = Embedding, Y-Variable = Index.diff())"
   ]
  },
  {
   "cell_type": "markdown",
   "id": "a762abc3-89a3-4385-a12d-8d5035aeca8f",
   "metadata": {},
   "source": [
    "#### NYT (Monthly Index)"
   ]
  },
  {
   "cell_type": "code",
   "execution_count": 116,
   "id": "d33040e6-c554-4f1d-be92-2dc9911bd2a9",
   "metadata": {
    "scrolled": true
   },
   "outputs": [
    {
     "name": "stderr",
     "output_type": "stream",
     "text": [
      "2023-12-10 19:57:06,434\tINFO worker.py:1673 -- Started a local Ray instance.\n",
      "\u001b[36m(pid=1924)\u001b[0m WARNING:tensorflow:From C:\\Users\\weigfan\\AppData\\Local\\anaconda3\\envs\\narrativezoo\\lib\\site-packages\\keras\\src\\losses.py:2976: The name tf.losses.sparse_softmax_cross_entropy is deprecated. Please use tf.compat.v1.losses.sparse_softmax_cross_entropy instead.\n",
      "\u001b[36m(pid=1924)\u001b[0m \n",
      "\u001b[36m(process_column pid=1924)\u001b[0m C:\\Users\\weigfan\\AppData\\Local\\anaconda3\\envs\\narrativezoo\\lib\\site-packages\\sklearn\\linear_model\\_ridge.py:239: UserWarning: Singular matrix in solving dual problem. Using least-squares solution instead.\n",
      "\u001b[36m(process_column pid=1924)\u001b[0m   warnings.warn(\n"
     ]
    }
   ],
   "source": [
    "# Tune OOS L2 OLS NYT \n",
    "nyt_beta_col = nyt_merge_d.filter(regex='^nyt').columns.tolist()\n",
    "y_col = us_news.columns.tolist()\n",
    "\n",
    "nyt_merge_diff_d = nyt_merge_d[nyt_beta_col + y_col]\n",
    "nyt_merge_diff_d = nyt_merge_diff_d.diff()\n",
    "nyt_merge_diff_d = nyt_merge_diff_d.dropna()\n",
    "nyt_merge_diff_d = nyt_merge_diff_d.resample('M').mean()\n",
    "\n",
    "nyt_model = Model(data=nyt_merge_diff_d, d_to_m=True, beta_col=nyt_beta_col, y_col=y_col, split=0.5, alpha_tune=grid)\n",
    "nyt_col_result = nyt_model.tune_multiple_y('oos_l2_ols')"
   ]
  },
  {
   "cell_type": "code",
   "execution_count": 117,
   "id": "c44f148b-ed4d-4d6c-97be-2aed28b9284a",
   "metadata": {},
   "outputs": [],
   "source": [
    "nyt_table_diff_d = nyt_model.table_multiple_y(nyt_col_result)"
   ]
  },
  {
   "cell_type": "code",
   "execution_count": 118,
   "id": "a4c440c3-924f-470b-8136-3f8e88e0032f",
   "metadata": {},
   "outputs": [
    {
     "data": {
      "text/html": [
       "<div>\n",
       "<style scoped>\n",
       "    .dataframe tbody tr th:only-of-type {\n",
       "        vertical-align: middle;\n",
       "    }\n",
       "\n",
       "    .dataframe tbody tr th {\n",
       "        vertical-align: top;\n",
       "    }\n",
       "\n",
       "    .dataframe thead th {\n",
       "        text-align: right;\n",
       "    }\n",
       "</style>\n",
       "<table border=\"1\" class=\"dataframe\">\n",
       "  <thead>\n",
       "    <tr style=\"text-align: right;\">\n",
       "      <th></th>\n",
       "      <th>Y Variable</th>\n",
       "      <th>alpha</th>\n",
       "      <th>is_r2</th>\n",
       "      <th>oos_r2</th>\n",
       "    </tr>\n",
       "  </thead>\n",
       "  <tbody>\n",
       "    <tr>\n",
       "      <th>0</th>\n",
       "      <td>daily_pol</td>\n",
       "      <td>0.1</td>\n",
       "      <td>0.07351</td>\n",
       "      <td>0.001542</td>\n",
       "    </tr>\n",
       "  </tbody>\n",
       "</table>\n",
       "</div>"
      ],
      "text/plain": [
       "  Y Variable  alpha    is_r2    oos_r2\n",
       "0  daily_pol    0.1  0.07351  0.001542"
      ]
     },
     "execution_count": 118,
     "metadata": {},
     "output_type": "execute_result"
    }
   ],
   "source": [
    "nyt_table_diff_d"
   ]
  },
  {
   "cell_type": "markdown",
   "id": "fdf9c590-bf14-41dd-8c5d-9441b1609cf8",
   "metadata": {},
   "source": [
    "#### WSJ (Monthly Index)"
   ]
  },
  {
   "cell_type": "code",
   "execution_count": 125,
   "id": "bf0086b6-2ca8-4eee-97d4-1566dfc5aced",
   "metadata": {},
   "outputs": [
    {
     "name": "stderr",
     "output_type": "stream",
     "text": [
      "2023-12-10 19:58:38,091\tINFO worker.py:1673 -- Started a local Ray instance.\n",
      "\u001b[36m(pid=19156)\u001b[0m WARNING:tensorflow:From C:\\Users\\weigfan\\AppData\\Local\\anaconda3\\envs\\narrativezoo\\lib\\site-packages\\keras\\src\\losses.py:2976: The name tf.losses.sparse_softmax_cross_entropy is deprecated. Please use tf.compat.v1.losses.sparse_softmax_cross_entropy instead.\n",
      "\u001b[36m(pid=19156)\u001b[0m \n",
      "\u001b[36m(process_column pid=19156)\u001b[0m C:\\Users\\weigfan\\AppData\\Local\\anaconda3\\envs\\narrativezoo\\lib\\site-packages\\sklearn\\linear_model\\_ridge.py:237: LinAlgWarning: Ill-conditioned matrix (rcond=4.65708e-19): result may not be accurate.\n",
      "\u001b[36m(process_column pid=19156)\u001b[0m   dual_coef = linalg.solve(K, y, assume_a=\"pos\", overwrite_a=False)\n"
     ]
    }
   ],
   "source": [
    "# Tune OOS L2 OLS WSJ \n",
    "wsj_beta_col = wsj_merge_d.filter(regex='^wsj').columns.tolist()\n",
    "y_col = us_news.columns.tolist()\n",
    "\n",
    "wsj_merge_diff_d = wsj_merge_d[wsj_beta_col + y_col]\n",
    "wsj_merge_diff_d = wsj_merge_diff_d.diff()\n",
    "wsj_merge_diff_d = wsj_merge_diff_d.dropna()\n",
    "wsj_merge_diff_d = wsj_merge_diff_d.resample('M').mean()\n",
    "\n",
    "wsj_model = Model(data=wsj_merge_diff_d, d_to_m=True, beta_col=wsj_beta_col, y_col=y_col, split=0.5, alpha_tune=grid)\n",
    "wsj_col_result = wsj_model.tune_multiple_y('oos_l2_ols')"
   ]
  },
  {
   "cell_type": "code",
   "execution_count": 126,
   "id": "1012b4ab-8d60-4dc9-a02f-8dff35850158",
   "metadata": {},
   "outputs": [],
   "source": [
    "wsj_table_diff_d = wsj_model.table_multiple_y(wsj_col_result)"
   ]
  },
  {
   "cell_type": "code",
   "execution_count": 127,
   "id": "217285e9-7224-4358-9b10-7f13e89343e7",
   "metadata": {},
   "outputs": [
    {
     "data": {
      "text/html": [
       "<div>\n",
       "<style scoped>\n",
       "    .dataframe tbody tr th:only-of-type {\n",
       "        vertical-align: middle;\n",
       "    }\n",
       "\n",
       "    .dataframe tbody tr th {\n",
       "        vertical-align: top;\n",
       "    }\n",
       "\n",
       "    .dataframe thead th {\n",
       "        text-align: right;\n",
       "    }\n",
       "</style>\n",
       "<table border=\"1\" class=\"dataframe\">\n",
       "  <thead>\n",
       "    <tr style=\"text-align: right;\">\n",
       "      <th></th>\n",
       "      <th>Y Variable</th>\n",
       "      <th>alpha</th>\n",
       "      <th>is_r2</th>\n",
       "      <th>oos_r2</th>\n",
       "    </tr>\n",
       "  </thead>\n",
       "  <tbody>\n",
       "    <tr>\n",
       "      <th>0</th>\n",
       "      <td>daily_pol</td>\n",
       "      <td>0.01</td>\n",
       "      <td>0.133132</td>\n",
       "      <td>0.01584</td>\n",
       "    </tr>\n",
       "  </tbody>\n",
       "</table>\n",
       "</div>"
      ],
      "text/plain": [
       "  Y Variable  alpha     is_r2   oos_r2\n",
       "0  daily_pol   0.01  0.133132  0.01584"
      ]
     },
     "execution_count": 127,
     "metadata": {},
     "output_type": "execute_result"
    }
   ],
   "source": [
    "wsj_table_diff_d"
   ]
  },
  {
   "cell_type": "markdown",
   "id": "7ca94f28-919d-41b1-9a96-a99f2a0f6a9d",
   "metadata": {},
   "source": [
    "## Parallelized Linear Regression Experiments (X-Variable = Embedding, Y-Variable = Index.shift())"
   ]
  },
  {
   "cell_type": "markdown",
   "id": "3017c000-ee0e-4eec-98ab-c2f743207e59",
   "metadata": {},
   "source": [
    "#### WSJ (Monthly Index)"
   ]
  },
  {
   "cell_type": "markdown",
   "id": "c6ba0815-8da6-41fd-b128-b29ba2643082",
   "metadata": {},
   "source": [
    "##### Shift Index One Day Forward"
   ]
  },
  {
   "cell_type": "code",
   "execution_count": 129,
   "id": "c01962c9-6222-45a2-83f6-3439b04e0055",
   "metadata": {},
   "outputs": [
    {
     "name": "stderr",
     "output_type": "stream",
     "text": [
      "2023-12-10 20:00:46,793\tINFO worker.py:1507 -- Calling ray.init() again after it has already been called.\n"
     ]
    }
   ],
   "source": [
    "# Tune OOS L2 OLS WSJ \n",
    "wsj_beta_col = wsj_merge_d.filter(regex='^wsj').columns.tolist()\n",
    "y_col = us_news.columns.tolist()\n",
    "\n",
    "wsj_merge_shiftf_d = wsj_merge_d[wsj_beta_col + y_col]\n",
    "wsj_merge_shiftf_d[wsj_beta_col] = wsj_merge_shiftf_d[wsj_beta_col].shift(1)\n",
    "wsj_merge_shiftf_d = wsj_merge_shiftf_d.dropna()\n",
    "\n",
    "wsj_model = Model(data=wsj_merge_shiftf_d, d_to_m=True, beta_col=wsj_beta_col, y_col=y_col, split=0.5, alpha_tune=grid)\n",
    "wsj_col_result = wsj_model.tune_multiple_y('oos_l2_ols')"
   ]
  },
  {
   "cell_type": "code",
   "execution_count": 130,
   "id": "14f7ac05-a419-47c7-9676-f59b5c881202",
   "metadata": {},
   "outputs": [],
   "source": [
    "wsj_table_shiftf_d = wsj_model.table_multiple_y(wsj_col_result)"
   ]
  },
  {
   "cell_type": "code",
   "execution_count": 131,
   "id": "fcbe7b94-b7fd-446c-8931-23a48e3b372e",
   "metadata": {},
   "outputs": [
    {
     "data": {
      "text/html": [
       "<div>\n",
       "<style scoped>\n",
       "    .dataframe tbody tr th:only-of-type {\n",
       "        vertical-align: middle;\n",
       "    }\n",
       "\n",
       "    .dataframe tbody tr th {\n",
       "        vertical-align: top;\n",
       "    }\n",
       "\n",
       "    .dataframe thead th {\n",
       "        text-align: right;\n",
       "    }\n",
       "</style>\n",
       "<table border=\"1\" class=\"dataframe\">\n",
       "  <thead>\n",
       "    <tr style=\"text-align: right;\">\n",
       "      <th></th>\n",
       "      <th>Y Variable</th>\n",
       "      <th>alpha</th>\n",
       "      <th>is_r2</th>\n",
       "      <th>oos_r2</th>\n",
       "    </tr>\n",
       "  </thead>\n",
       "  <tbody>\n",
       "    <tr>\n",
       "      <th>0</th>\n",
       "      <td>daily_pol</td>\n",
       "      <td>0.5</td>\n",
       "      <td>0.667285</td>\n",
       "      <td>0.308407</td>\n",
       "    </tr>\n",
       "  </tbody>\n",
       "</table>\n",
       "</div>"
      ],
      "text/plain": [
       "  Y Variable  alpha     is_r2    oos_r2\n",
       "0  daily_pol    0.5  0.667285  0.308407"
      ]
     },
     "execution_count": 131,
     "metadata": {},
     "output_type": "execute_result"
    }
   ],
   "source": [
    "wsj_table_shiftf_d"
   ]
  },
  {
   "cell_type": "markdown",
   "id": "ca419728-c4f7-45f5-9a72-bf84f39093aa",
   "metadata": {},
   "source": [
    "##### Shift Index One Day Back"
   ]
  },
  {
   "cell_type": "code",
   "execution_count": 133,
   "id": "16a69d90-c66c-4ddc-aa6d-9cf37c959093",
   "metadata": {},
   "outputs": [
    {
     "name": "stderr",
     "output_type": "stream",
     "text": [
      "2023-12-10 20:02:45,616\tINFO worker.py:1673 -- Started a local Ray instance.\n",
      "\u001b[36m(pid=23028)\u001b[0m WARNING:tensorflow:From C:\\Users\\weigfan\\AppData\\Local\\anaconda3\\envs\\narrativezoo\\lib\\site-packages\\keras\\src\\losses.py:2976: The name tf.losses.sparse_softmax_cross_entropy is deprecated. Please use tf.compat.v1.losses.sparse_softmax_cross_entropy instead.\n",
      "\u001b[36m(pid=23028)\u001b[0m \n"
     ]
    }
   ],
   "source": [
    "# Tune OOS L2 OLS WSJ \n",
    "wsj_beta_col = wsj_merge_d.filter(regex='^wsj').columns.tolist()\n",
    "y_col = us_news.columns.tolist()\n",
    "\n",
    "wsj_merge_shiftb_d = wsj_merge_d[wsj_beta_col + y_col]\n",
    "wsj_merge_shiftb_d[wsj_beta_col] = wsj_merge_shiftb_d[wsj_beta_col].shift(-1)\n",
    "wsj_merge_shiftb_d = wsj_merge_shiftb_d.dropna()\n",
    "\n",
    "wsj_model = Model(data=wsj_merge_shiftb_d, d_to_m=True, beta_col=wsj_beta_col, y_col=y_col, split=0.5, alpha_tune=grid)\n",
    "wsj_col_result = wsj_model.tune_multiple_y('oos_l2_ols')"
   ]
  },
  {
   "cell_type": "code",
   "execution_count": 134,
   "id": "0c5680d8-a511-405a-8c9e-73f380253ea8",
   "metadata": {},
   "outputs": [],
   "source": [
    "wsj_table_shiftb_d = wsj_model.table_multiple_y(wsj_col_result)"
   ]
  },
  {
   "cell_type": "code",
   "execution_count": 135,
   "id": "c0ea6bc3-ef58-48bd-88bf-c8b39da8cfde",
   "metadata": {},
   "outputs": [
    {
     "data": {
      "text/html": [
       "<div>\n",
       "<style scoped>\n",
       "    .dataframe tbody tr th:only-of-type {\n",
       "        vertical-align: middle;\n",
       "    }\n",
       "\n",
       "    .dataframe tbody tr th {\n",
       "        vertical-align: top;\n",
       "    }\n",
       "\n",
       "    .dataframe thead th {\n",
       "        text-align: right;\n",
       "    }\n",
       "</style>\n",
       "<table border=\"1\" class=\"dataframe\">\n",
       "  <thead>\n",
       "    <tr style=\"text-align: right;\">\n",
       "      <th></th>\n",
       "      <th>Y Variable</th>\n",
       "      <th>alpha</th>\n",
       "      <th>is_r2</th>\n",
       "      <th>oos_r2</th>\n",
       "    </tr>\n",
       "  </thead>\n",
       "  <tbody>\n",
       "    <tr>\n",
       "      <th>0</th>\n",
       "      <td>daily_pol</td>\n",
       "      <td>3.5</td>\n",
       "      <td>0.532906</td>\n",
       "      <td>0.168728</td>\n",
       "    </tr>\n",
       "  </tbody>\n",
       "</table>\n",
       "</div>"
      ],
      "text/plain": [
       "  Y Variable  alpha     is_r2    oos_r2\n",
       "0  daily_pol    3.5  0.532906  0.168728"
      ]
     },
     "execution_count": 135,
     "metadata": {},
     "output_type": "execute_result"
    }
   ],
   "source": [
    "wsj_table_shiftb_d"
   ]
  }
 ],
 "metadata": {
  "kernelspec": {
   "display_name": "narrativezoo",
   "language": "python",
   "name": "narrativezoo"
  },
  "language_info": {
   "codemirror_mode": {
    "name": "ipython",
    "version": 3
   },
   "file_extension": ".py",
   "mimetype": "text/x-python",
   "name": "python",
   "nbconvert_exporter": "python",
   "pygments_lexer": "ipython3",
   "version": "3.10.13"
  }
 },
 "nbformat": 4,
 "nbformat_minor": 5
}
