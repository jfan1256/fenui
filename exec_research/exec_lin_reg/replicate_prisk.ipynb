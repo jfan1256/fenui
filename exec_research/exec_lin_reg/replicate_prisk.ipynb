{
 "cells": [
  {
   "cell_type": "markdown",
   "id": "06a94060-f746-4d20-9841-0749748c98fa",
   "metadata": {},
   "source": [
    "### Import Packages"
   ]
  },
  {
   "cell_type": "code",
   "execution_count": 86,
   "id": "2727d6ca-06e9-463b-8535-be44d35d5af7",
   "metadata": {},
   "outputs": [],
   "source": [
    "import numpy as np\n",
    "import pandas as pd\n",
    "import statsmodels.api as sm\n",
    "\n",
    "from sklearn.metrics import r2_score\n",
    "from scipy.stats.mstats import winsorize\n",
    "from sklearn.linear_model import Lasso, Ridge\n",
    "\n",
    "from utils.system import *\n",
    "from class_data.data import *\n",
    "\n",
    "import warnings\n",
    "warnings.filterwarnings('ignore')"
   ]
  },
  {
   "cell_type": "markdown",
   "id": "99f1c553-5255-458d-b032-4fd4d975a964",
   "metadata": {},
   "source": [
    "### Load Data"
   ]
  },
  {
   "cell_type": "code",
   "execution_count": 69,
   "id": "d6e15e50-edf2-4db5-b2dc-9d1ceb3e00b9",
   "metadata": {
    "scrolled": true
   },
   "outputs": [
    {
     "name": "stdout",
     "output_type": "stream",
     "text": [
      "Length of PRisk GVKEY: 9478\n",
      "Data Columns: \n",
      "['cdateQ', 'Risk', 'PRisk', 'NPRisk', 'Sentiment', 'PSentiment', 'MISSINGsic', 'MISSINGsic2', 'MISSINGsue', 'MISSINGd2at', 'MISSINGlat', 'llobnewF', 'donation_total_nrF', 'hedgegroupF', 'ldonF', 'lcontractamount', 'PRiskMDA', 'Risk_std', 'PRisk_std', 'NPRisk_std', 'Sentiment_std', 'PSentiment_std', 'PRiskMDA_std', 'firm_id', 'aPRisk_std', 'PRisk_std_d2at', 'beta2_aPRisk_std', 'beta_aPRisk_std', 'beta_PRisk_aPRisk_std', 'beta2_PRisk_aPRisk_std', 'lcontractamount_aPRisk_std', 'MISSINGimpvol_w_std', 'MISSINGvolatility_w_std', 'capital_investm_w_100', 'MISSINGdeltasales_w_100', 'MISSINGpct_capex_guidance1_w_100', 'MISSINGav_retW_100']\n"
     ]
    }
   ],
   "source": [
    "# Load dataset\n",
    "prisk = pd.read_stata(get_data() / 'prisk_replication' / 'RestrictedReplication_FirmQuarter.dta')\n",
    "prisk.gvkey = prisk.gvkey.astype('int64')\n",
    "prisk_gvkey = prisk.gvkey.unique().tolist()\n",
    "prisk['date'] = pd.to_datetime(prisk['cdateQ']).dt.to_period('Q').dt.to_timestamp('Q')\n",
    "prisk = prisk.set_index(['gvkey', 'date'])\n",
    "prisk = prisk.sort_index(level=['gvkey', 'date'])\n",
    "print(f\"Length of PRisk GVKEY: {len(prisk_gvkey)}\")\n",
    "print(f\"Data Columns: \\n{prisk.columns.tolist()}\")"
   ]
  },
  {
   "cell_type": "code",
   "execution_count": 4,
   "id": "6410df91-b96f-4b00-8400-9dd25d76b5dd",
   "metadata": {},
   "outputs": [
    {
     "name": "stderr",
     "output_type": "stream",
     "text": [
      "Loading Data: 100%|███████████████████████████████████████████████████████████████████████████████████████████████████████████████████████████████████████████████████████████████| 50/50 [00:09<00:00,  5.02it/s]\n"
     ]
    },
    {
     "data": {
      "text/plain": [
       "(219492890, 6)"
      ]
     },
     "execution_count": 4,
     "metadata": {},
     "output_type": "execute_result"
    }
   ],
   "source": [
    "# Load JKP daily ret\n",
    "daily_ret = Data(folder_path=get_format_data() / 'jkp', file_pattern='daily_ret_*')\n",
    "daily_ret = daily_ret.concat_files()\n",
    "daily_ret.shape"
   ]
  },
  {
   "cell_type": "code",
   "execution_count": 5,
   "id": "24b7770f-9b5c-460d-bcd2-e931fa6d0f17",
   "metadata": {},
   "outputs": [
    {
     "name": "stderr",
     "output_type": "stream",
     "text": [
      "Loading Data: 100%|███████████████████████████████████████████████████████████████████████████████████████████████████████████████████████████████████████████████████████████████| 50/50 [00:08<00:00,  5.60it/s]\n"
     ]
    },
    {
     "data": {
      "text/plain": [
       "(3394206, 444)"
      ]
     },
     "execution_count": 5,
     "metadata": {},
     "output_type": "execute_result"
    }
   ],
   "source": [
    "# Load JKP daily ret\n",
    "characteristics = Data(folder_path=get_format_data() / 'jkp', file_pattern='characteristics_*')\n",
    "characteristics = characteristics.concat_files()\n",
    "characteristics = characteristics.dropna(subset='gvkey')\n",
    "characteristics['gvkey'] = characteristics['gvkey'].astype('int64')\n",
    "characteristics.shape"
   ]
  },
  {
   "cell_type": "markdown",
   "id": "66171e03-5dec-43a5-b4d5-8305a8d8dbab",
   "metadata": {},
   "source": [
    "### Format Data"
   ]
  },
  {
   "cell_type": "code",
   "execution_count": 35,
   "id": "be07fd1f-377e-4d90-a888-013a6a1ffbeb",
   "metadata": {},
   "outputs": [],
   "source": [
    "# Create asset dataframe\n",
    "asset = characteristics[['id', 'date', 'gvkey', 'assets']]\n",
    "asset['date'] = pd.to_datetime(asset['date'], format='%Y%m%d')"
   ]
  },
  {
   "cell_type": "code",
   "execution_count": 22,
   "id": "ae3c34f8-0851-47f1-8ecf-6acd39b8cf67",
   "metadata": {
    "scrolled": true
   },
   "outputs": [],
   "source": [
    "# Create id and gvkey map to join JKP datasets\n",
    "id_gvkey = characteristics[['id', 'gvkey']]\n",
    "id_gvkey = id_gvkey.drop_duplicates(subset='gvkey', keep='last')\n",
    "id_to_gvkey_mapping = id_gvkey.set_index('id')['gvkey'].to_dict()"
   ]
  },
  {
   "cell_type": "code",
   "execution_count": 24,
   "id": "25c958d0-839b-414d-8e26-7628ab730e55",
   "metadata": {},
   "outputs": [],
   "source": [
    "# Add gvkey to JKP dataset\n",
    "daily_ret['gvkey'] = daily_ret['id'].map(id_to_gvkey_mapping)\n",
    "daily_ret = daily_ret.dropna(subset='gvkey')\n",
    "daily_ret['gvkey'] = daily_ret['gvkey'].astype('int64')"
   ]
  },
  {
   "cell_type": "code",
   "execution_count": 37,
   "id": "2cd40cfc-36cf-4d87-b742-c33d118ed34d",
   "metadata": {},
   "outputs": [],
   "source": [
    "# Retrieve GVKEY data used in index\n",
    "daily_ret = daily_ret.loc[daily_ret.gvkey.isin(prisk_gvkey)]\n",
    "asset = asset.loc[asset.gvkey.isin(prisk_gvkey)]"
   ]
  },
  {
   "cell_type": "code",
   "execution_count": 41,
   "id": "41e54f7b-39fc-48a5-b2d0-edd8882d88d1",
   "metadata": {},
   "outputs": [],
   "source": [
    "# Change daily_ret date to datetime\n",
    "daily_ret['date'] = pd.to_datetime(daily_ret['date'], format='%Y%m%d')"
   ]
  },
  {
   "cell_type": "code",
   "execution_count": 44,
   "id": "967196de-63b1-4d27-8c85-58d82e770d4c",
   "metadata": {},
   "outputs": [],
   "source": [
    "# Set index\n",
    "daily_ret = daily_ret.set_index(['gvkey', 'date'])\n",
    "asset = asset.set_index(['gvkey', 'date'])"
   ]
  },
  {
   "cell_type": "code",
   "execution_count": 55,
   "id": "d599f3c4-a947-4105-b854-501151cbbe5b",
   "metadata": {
    "scrolled": true
   },
   "outputs": [],
   "source": [
    "# Calculate quarterly volatility\n",
    "vol_q = daily_ret.groupby('gvkey')[['ret']].resample('Q', level='date').std()\n",
    "vol_q.columns = ['vol']"
   ]
  },
  {
   "cell_type": "code",
   "execution_count": 75,
   "id": "875ce728-5632-47ce-8d3a-ff1aadd3d1b5",
   "metadata": {},
   "outputs": [],
   "source": [
    "# Get quarterly asset\n",
    "asset_q = asset.groupby('gvkey')[['assets']].resample('Q', level='date').last()"
   ]
  },
  {
   "cell_type": "code",
   "execution_count": 88,
   "id": "efde2c42-15f0-4fe9-b8d4-7741d03d9ebe",
   "metadata": {},
   "outputs": [],
   "source": [
    "# Join everything\n",
    "regress = prisk.join(vol_q)\n",
    "regress = regress.join(asset_q)\n",
    "regress = regress[['PRisk', 'vol', 'assets']]\n",
    "regress = regress.dropna()"
   ]
  },
  {
   "cell_type": "markdown",
   "id": "5913cdf6-c138-4e10-9728-2071b7c79def",
   "metadata": {},
   "source": [
    "### Regress"
   ]
  },
  {
   "cell_type": "code",
   "execution_count": 93,
   "id": "0a4c38d7-8f85-401e-a465-8835e3f0753b",
   "metadata": {
    "scrolled": true
   },
   "outputs": [],
   "source": [
    "# Winsorize\n",
    "regress['log_assets'] = np.log(regress['assets'])\n",
    "regress['log_assets'] = winsorize(regress['log_assets'], limits=[0.01, 0.01])\n",
    "regress['PRisk'] = winsorize(regress['PRisk'], limits=[0.01, 0.01])\n",
    "regress['vol'] = winsorize(regress['vol'], limits=[0.01, 0.01])"
   ]
  },
  {
   "cell_type": "code",
   "execution_count": 94,
   "id": "fe35d4a8-aa39-492b-b687-770e5c138a46",
   "metadata": {},
   "outputs": [],
   "source": [
    "# Standardize (divide by the standard deviation)\n",
    "std_devs = regress[['PRisk', 'log_assets', 'vol']].std()\n",
    "regress['PRisk_scaled'] = regress['PRisk'] / std_devs['PRisk']\n",
    "regress['log_assets_scaled'] = regress['log_assets'] / std_devs['log_assets']\n",
    "regress['vol_scaled'] = regress['vol'] / std_devs['vol']\n",
    "regress = regress.dropna()"
   ]
  },
  {
   "cell_type": "code",
   "execution_count": 98,
   "id": "7402b3c1-0abf-4b59-86c1-2f9ea15d724d",
   "metadata": {},
   "outputs": [
    {
     "name": "stdout",
     "output_type": "stream",
     "text": [
      "                            OLS Regression Results                            \n",
      "==============================================================================\n",
      "Dep. Variable:             vol_scaled   R-squared:                       0.155\n",
      "Model:                            OLS   Adj. R-squared:                  0.155\n",
      "Method:                 Least Squares   F-statistic:                 1.293e+04\n",
      "Date:                Thu, 02 May 2024   Prob (F-statistic):               0.00\n",
      "Time:                        00:56:46   Log-Likelihood:            -1.8879e+05\n",
      "No. Observations:              141418   AIC:                         3.776e+05\n",
      "Df Residuals:                  141415   BIC:                         3.776e+05\n",
      "Df Model:                           2                                         \n",
      "Covariance Type:            nonrobust                                         \n",
      "=====================================================================================\n",
      "                        coef    std err          t      P>|t|      [0.025      0.975]\n",
      "-------------------------------------------------------------------------------------\n",
      "const                 3.0136      0.009    333.644      0.000       2.996       3.031\n",
      "PRisk_scaled          0.0458      0.002     18.713      0.000       0.041       0.051\n",
      "log_assets_scaled    -0.3933      0.002   -160.576      0.000      -0.398      -0.389\n",
      "==============================================================================\n",
      "Omnibus:                    59794.757   Durbin-Watson:                   0.740\n",
      "Prob(Omnibus):                  0.000   Jarque-Bera (JB):           284386.744\n",
      "Skew:                           2.053   Prob(JB):                         0.00\n",
      "Kurtosis:                       8.604   Cond. No.                         14.7\n",
      "==============================================================================\n",
      "\n",
      "Notes:\n",
      "[1] Standard Errors assume that the covariance matrix of the errors is correctly specified.\n"
     ]
    }
   ],
   "source": [
    "# Alpha\n",
    "X = sm.add_constant(regress[['PRisk_scaled', 'log_assets_scaled']])\n",
    "y = regress['vol_scaled']\n",
    "\n",
    "# Create the regression model\n",
    "model = sm.OLS(y, X)\n",
    "results = model.fit()\n",
    "\n",
    "# Print out the regression results\n",
    "print(results.summary())"
   ]
  },
  {
   "cell_type": "code",
   "execution_count": null,
   "id": "8cfd0918-0b5b-4c8d-b091-1fcd86c66cd9",
   "metadata": {},
   "outputs": [],
   "source": []
  }
 ],
 "metadata": {
  "kernelspec": {
   "display_name": "narrativezoo",
   "language": "python",
   "name": "narrativezoo"
  },
  "language_info": {
   "codemirror_mode": {
    "name": "ipython",
    "version": 3
   },
   "file_extension": ".py",
   "mimetype": "text/x-python",
   "name": "python",
   "nbconvert_exporter": "python",
   "pygments_lexer": "ipython3",
   "version": "3.10.13"
  }
 },
 "nbformat": 4,
 "nbformat_minor": 5
}
