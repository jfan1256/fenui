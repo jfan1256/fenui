{
 "cells": [
  {
   "cell_type": "markdown",
   "id": "cda849b1-d029-4d73-9ac5-ed62b948c897",
   "metadata": {},
   "source": [
    "#### Import Package"
   ]
  },
  {
   "cell_type": "code",
   "execution_count": null,
   "id": "54dd638b-a761-46d4-80ad-03f7b229bee9",
   "metadata": {},
   "outputs": [],
   "source": [
    "from bertopic import BERTopic\n",
    "\n",
    "from class_data.data import Data\n",
    "from class_generate.gen_emb import GenEmb\n",
    "from utils.system import get_format_data"
   ]
  },
  {
   "cell_type": "markdown",
   "id": "8db56261-fc47-4af3-9bd3-05575217693e",
   "metadata": {},
   "source": [
    "#### Load Data"
   ]
  },
  {
   "cell_type": "code",
   "execution_count": null,
   "id": "d02f1ed1-c366-4b10-95a5-be3696cb3785",
   "metadata": {},
   "outputs": [],
   "source": [
    "# Load openai embeddings\n",
    "wsj_openai = Data(folder_path=get_format_data() / 'openai', file_pattern='wsj_emb_openai_*')\n",
    "wsj_openai = wsj_openai.concat_files()\n",
    "\n",
    "# Load articles\n",
    "wsj_art = Data(folder_path=get_format_data() / 'token', file_pattern='wsj_tokens_*')\n",
    "wsj_art = wsj_art.concat_files()"
   ]
  },
  {
   "cell_type": "markdown",
   "id": "43a65c55-b3cc-4b24-9a9c-28231a76e27d",
   "metadata": {},
   "source": [
    "#### Generate Index"
   ]
  },
  {
   "cell_type": "code",
   "execution_count": null,
   "id": "d9dcd04c-e8cf-42b7-b091-43591548ee47",
   "metadata": {},
   "outputs": [],
   "source": [
    "# Params\n",
    "type = 'embedding'\n",
    "vector_column = 'ada_embedding'\n",
    "interval = 'D'\n",
    "threshold = 0.77"
   ]
  },
  {
   "cell_type": "code",
   "execution_count": null,
   "id": "5a0ab81d-5b1f-49bf-a041-d0981f833c7a",
   "metadata": {},
   "outputs": [],
   "source": [
    "print(\"-\" * 120)\n",
    "query = 'Generate an index with label ESG from January 1st, 1984, to December 31st, 2021.'\n",
    "generate = GenEmb(query=query, vector_data=wsj_openai, vector_column=vector_column, article_data=wsj_art, interval=interval, threshold=threshold)\n",
    "index = generate.generate_emb()"
   ]
  },
  {
   "cell_type": "markdown",
   "id": "cb787dce-ebcf-49df-9f29-4db3baab7bce",
   "metadata": {},
   "source": [
    "#### Get Topics"
   ]
  },
  {
   "cell_type": "code",
   "execution_count": null,
   "id": "500ba59f-412d-416f-b510-381f933a6510",
   "metadata": {},
   "outputs": [],
   "source": [
    "topic = Topic(index=index, score_col='score', article_col='body_txt', top_n=100, n_topic=20, output=\"esg_index\")\n",
    "topic.get_topic()"
   ]
  }
 ],
 "metadata": {
  "kernelspec": {
   "display_name": "narrativezoo",
   "language": "python",
   "name": "narrativezoo"
  },
  "language_info": {
   "codemirror_mode": {
    "name": "ipython",
    "version": 3
   },
   "file_extension": ".py",
   "mimetype": "text/x-python",
   "name": "python",
   "nbconvert_exporter": "python",
   "pygments_lexer": "ipython3",
   "version": "3.10.13"
  }
 },
 "nbformat": 4,
 "nbformat_minor": 5
}
