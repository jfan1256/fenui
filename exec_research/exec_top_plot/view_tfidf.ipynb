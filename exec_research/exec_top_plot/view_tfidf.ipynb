{
 "cells": [
  {
   "cell_type": "markdown",
   "id": "fab7a4de-f103-43ee-b6f9-94b2c3b31cbc",
   "metadata": {},
   "source": [
    "#### Import Packages"
   ]
  },
  {
   "cell_type": "code",
   "execution_count": 1,
   "id": "a3917af5-c97c-478f-912e-2877cf5aaa73",
   "metadata": {},
   "outputs": [],
   "source": [
    "import pandas as pd\n",
    "import pickle\n",
    "import json\n",
    "import numpy as np\n",
    "\n",
    "from openai import OpenAI\n",
    "from sklearn.metrics.pairwise import cosine_similarity\n",
    "\n",
    "from utils.system import *\n",
    "from class_data.data import Data\n",
    "from class_generate.generate import Generate\n",
    "\n",
    "import warnings\n",
    "warnings.filterwarnings('ignore')"
   ]
  },
  {
   "cell_type": "markdown",
   "id": "b05dede8-dd9e-45a8-b78a-b1299130f674",
   "metadata": {},
   "source": [
    "#### Load Data"
   ]
  },
  {
   "cell_type": "code",
   "execution_count": 2,
   "id": "b28c366d-fdc1-49af-a536-69eb1b154492",
   "metadata": {},
   "outputs": [],
   "source": [
    "# Load tfidf\n",
    "path = get_root_dir() / 'exec_bow' / 'tfidf.pkl'\n",
    "with open(path, 'rb') as file:\n",
    "    tfidf_vectorizer = pickle.load(file)"
   ]
  },
  {
   "cell_type": "code",
   "execution_count": 3,
   "id": "fa0a2d00-8e51-4184-8c35-b94e76748366",
   "metadata": {
    "scrolled": true
   },
   "outputs": [],
   "source": [
    "# Load tfidf data\n",
    "wsj_tfidf = Data(folder_path=get_format_data() / 'tfidf', file_pattern='wsj_tfidf_*')\n",
    "wsj_tfidf = wsj_tfidf.concat_files()"
   ]
  },
  {
   "cell_type": "code",
   "execution_count": 4,
   "id": "4a436dd1-119c-44d7-aaf6-1102de956795",
   "metadata": {},
   "outputs": [],
   "source": [
    "# Load articles\n",
    "wsj_art = Data(folder_path=get_format_data() / 'token', file_pattern='wsj_tokens_*')\n",
    "wsj_art = wsj_art.concat_files()"
   ]
  },
  {
   "cell_type": "markdown",
   "id": "521188ad-a32d-41af-abb0-32aa6ba82df0",
   "metadata": {},
   "source": [
    "#### TFIDF Plot"
   ]
  },
  {
   "cell_type": "code",
   "execution_count": 5,
   "id": "0e3388c9-95d4-4159-826b-527528a1cb3d",
   "metadata": {},
   "outputs": [],
   "source": [
    "# Params\n",
    "type = 'tfidf'\n",
    "vector_column = 'tfidf'\n",
    "method = 'cos_sim'\n",
    "interval = 'M'"
   ]
  },
  {
   "cell_type": "code",
   "execution_count": 7,
   "id": "c6ec8de3-3edc-4fbd-b281-b282fadc9748",
   "metadata": {},
   "outputs": [
    {
     "name": "stdout",
     "output_type": "stream",
     "text": [
      "Here is the query: \n",
      "{'unigram': ['esg', 'environmental', 'governance'], 'bigram': ['environmental social', 'social governance', 'esg stands'], 'trigram': ['environmental social governance', 'esg stands for', 'financial performance and'], 'start_date': '1984-01-02', 'end_date': '2021-12-31', 'label': 'ESG stands for Environmental, Social, and Governance. These are the three key factors when measuring the sustainability and ethical impact of an investment in a company or business. ESG factors are a subset of non-financial performance indicators which include sustainable, ethical and corporate governance issues such as managing the company’s carbon footprint and ensuring there are systems in place to ensure accountability.'}\n",
      "------------------------------------------------------------\n",
      "Computing score...\n",
      "------------------------------------------------------------\n",
      "Processing ngram: esg\n"
     ]
    },
    {
     "name": "stderr",
     "output_type": "stream",
     "text": [
      "\n",
      "KeyboardInterrupt\n",
      "\n"
     ]
    }
   ],
   "source": [
    "query = 'Generate an index with label ESG from 1984-01-02 to 2021-12-31'\n",
    "generate = Generate(query=query, \n",
    "                    type=type, \n",
    "                    vector_data=wsj_tfidf, \n",
    "                    vector_column=vector_column, \n",
    "                    article_data=wsj_art, \n",
    "                    tfidf=tfidf_vectorizer,\n",
    "                    method=method,\n",
    "                    interval=interval)\n",
    "esg = generate.generate_tfidf()\n",
    "esg.plot(figsize=(30,10))"
   ]
  },
  {
   "cell_type": "code",
   "execution_count": null,
   "id": "a9e2757e-4372-4bfa-bc34-d0c69eca78e8",
   "metadata": {},
   "outputs": [],
   "source": [
    "query = 'Generate an index with label Economic Policy Uncertainty from 1984-01-02 to 2021-12-31'\n",
    "generate = Generate(query=query, \n",
    "                    type=type, \n",
    "                    vector_data=wsj_tfidf, \n",
    "                    vector_column=vector_column, \n",
    "                    article_data=wsj_art, \n",
    "                    tfidf=tfidf_vectorizer,\n",
    "                    method=method,\n",
    "                    interval=interval)\n",
    "epu = generate.generate_tfidf()\n",
    "epu.plot(figsize=(30,10))"
   ]
  },
  {
   "cell_type": "code",
   "execution_count": null,
   "id": "0644fcce-d4c6-4279-b4fa-dc4077e64878",
   "metadata": {},
   "outputs": [],
   "source": [
    "query = 'Generate an index with label US-China trade war from 1984-01-02 to 2021-12-31'\n",
    "generate = Generate(query=query, \n",
    "                    type=type, \n",
    "                    vector_data=wsj_tfidf, \n",
    "                    vector_column=vector_column, \n",
    "                    article_data=wsj_art, \n",
    "                    tfidf=tfidf_vectorizer,\n",
    "                    method=method,\n",
    "                    interval=interval)\n",
    "trade_war = generate.generate_tfidf()\n",
    "trade_war.plot(figsize=(30,10))"
   ]
  },
  {
   "cell_type": "code",
   "execution_count": null,
   "id": "8b0acd17-c548-4862-a232-d64abd6f53bd",
   "metadata": {},
   "outputs": [],
   "source": [
    "query = 'Generate an index with label artficial intelligence from 1984-01-02 to 2021-12-31'\n",
    "generate = Generate(query=query, \n",
    "                    type=type, \n",
    "                    vector_data=wsj_tfidf, \n",
    "                    vector_column=vector_column, \n",
    "                    article_data=wsj_art, \n",
    "                    tfidf=tfidf_vectorizer,\n",
    "                    method=method,\n",
    "                    interval=interval)\n",
    "ai = generate.generate_tfidf()\n",
    "ai.plot(figsize=(30,10))"
   ]
  },
  {
   "cell_type": "code",
   "execution_count": null,
   "id": "9c93f6ef-9947-4342-8509-60f54f691b40",
   "metadata": {},
   "outputs": [],
   "source": [
    "query = 'Generate an index with label blockchain from 1984-01-02 to 2021-12-31'\n",
    "generate = Generate(query=query, \n",
    "                    type=type, \n",
    "                    vector_data=wsj_tfidf, \n",
    "                    vector_column=vector_column, \n",
    "                    article_data=wsj_art, \n",
    "                    tfidf=tfidf_vectorizer,\n",
    "                    method=method,\n",
    "                    interval=interval)\n",
    "blockchain = generate.generate_tfidf()\n",
    "blockchain.plot(figsize=(30,10))"
   ]
  },
  {
   "cell_type": "code",
   "execution_count": null,
   "id": "57de5748-beef-4942-a8e3-6bde839b6f00",
   "metadata": {},
   "outputs": [],
   "source": [
    "query = 'Generate an index with label covid from 1984-01-02 to 2021-12-31'\n",
    "generate = Generate(query=query, \n",
    "                    type=type, \n",
    "                    vector_data=wsj_tfidf, \n",
    "                    vector_column=vector_column, \n",
    "                    article_data=wsj_art, \n",
    "                    tfidf=tfidf_vectorizer,\n",
    "                    method=method,\n",
    "                    interval=interval)\n",
    "covid = generate.generate_tfidf()\n",
    "covid.plot(figsize=(30,10))"
   ]
  },
  {
   "cell_type": "code",
   "execution_count": null,
   "id": "acb0b109-3320-4574-8470-60999ec9a900",
   "metadata": {},
   "outputs": [],
   "source": [
    "query = 'Generate an index with label economic recession from 1984-01-02 to 2021-12-31'\n",
    "generate = Generate(query=query, \n",
    "                    type=type, \n",
    "                    vector_data=wsj_tfidf, \n",
    "                    vector_column=vector_column, \n",
    "                    article_data=wsj_art, \n",
    "                    tfidf=tfidf_vectorizer,\n",
    "                    method=method,\n",
    "                    interval=interval)\n",
    "recess = generate.generate_tfidf()\n",
    "recess.plot(figsize=(30,10))"
   ]
  }
 ],
 "metadata": {
  "kernelspec": {
   "display_name": "narrativezoo",
   "language": "python",
   "name": "narrativezoo"
  },
  "language_info": {
   "codemirror_mode": {
    "name": "ipython",
    "version": 3
   },
   "file_extension": ".py",
   "mimetype": "text/x-python",
   "name": "python",
   "nbconvert_exporter": "python",
   "pygments_lexer": "ipython3",
   "version": "3.10.13"
  }
 },
 "nbformat": 4,
 "nbformat_minor": 5
}
