{
 "cells": [
  {
   "cell_type": "markdown",
   "id": "fab7a4de-f103-43ee-b6f9-94b2c3b31cbc",
   "metadata": {},
   "source": [
    "#### Import Packages"
   ]
  },
  {
   "cell_type": "code",
   "execution_count": null,
   "id": "a3917af5-c97c-478f-912e-2877cf5aaa73",
   "metadata": {},
   "outputs": [],
   "source": [
    "import pandas as pd\n",
    "import pickle\n",
    "import json\n",
    "import numpy as np\n",
    "\n",
    "from openai import OpenAI\n",
    "from sklearn.metrics.pairwise import cosine_similarity\n",
    "\n",
    "from utils.system import *\n",
    "from class_data.data import Data\n",
    "from class_generate.gen_tfidf import GenTfidf\n",
    "from class_eval.eval_index import EvalIndex\n",
    "\n",
    "import warnings\n",
    "warnings.filterwarnings('ignore')"
   ]
  },
  {
   "cell_type": "markdown",
   "id": "b05dede8-dd9e-45a8-b78a-b1299130f674",
   "metadata": {},
   "source": [
    "#### Load Data"
   ]
  },
  {
   "cell_type": "code",
   "execution_count": null,
   "id": "b28c366d-fdc1-49af-a536-69eb1b154492",
   "metadata": {},
   "outputs": [],
   "source": [
    "# Load tfidf\n",
    "path = get_root_dir() / 'exec_bow' / 'tfidf.pkl'\n",
    "with open(path, 'rb') as file:\n",
    "    tfidf_vectorizer = pickle.load(file)"
   ]
  },
  {
   "cell_type": "code",
   "execution_count": null,
   "id": "fa0a2d00-8e51-4184-8c35-b94e76748366",
   "metadata": {
    "scrolled": true
   },
   "outputs": [],
   "source": [
    "# Load tfidf data\n",
    "wsj_tfidf = Data(folder_path=get_format_data() / 'tfidf', file_pattern='wsj_tfidf_*')\n",
    "wsj_tfidf = wsj_tfidf.concat_files()"
   ]
  },
  {
   "cell_type": "code",
   "execution_count": null,
   "id": "4a436dd1-119c-44d7-aaf6-1102de956795",
   "metadata": {},
   "outputs": [],
   "source": [
    "# Load articles\n",
    "wsj_art = Data(folder_path=get_format_data() / 'token', file_pattern='wsj_tokens_*')\n",
    "wsj_art = wsj_art.concat_files()"
   ]
  },
  {
   "cell_type": "markdown",
   "id": "521188ad-a32d-41af-abb0-32aa6ba82df0",
   "metadata": {},
   "source": [
    "#### TFIDF Plot"
   ]
  },
  {
   "cell_type": "code",
   "execution_count": null,
   "id": "0e3388c9-95d4-4159-826b-527528a1cb3d",
   "metadata": {},
   "outputs": [],
   "source": [
    "# Params\n",
    "vector_column = 'tfidf'\n",
    "method = 'cos_sim'\n",
    "interval = 'M'"
   ]
  },
  {
   "cell_type": "code",
   "execution_count": null,
   "id": "c6ec8de3-3edc-4fbd-b281-b282fadc9748",
   "metadata": {},
   "outputs": [],
   "source": [
    "query = 'Generate an index with label ESG from 1984-01-02 to 2021-12-31'\n",
    "generate = GenTfidf(query=query, vector_data=wsj_tfidf, vector_column=vector_column, article_data=wsj_art, tfidf=tfidf_vectorizer,method=method,interval=interval, threshold=0.02)\n",
    "esg = generate.generate_tfidf()\n",
    "esg.plot(figsize=(30,10))"
   ]
  }
 ],
 "metadata": {
  "kernelspec": {
   "display_name": "narrativezoo",
   "language": "python",
   "name": "narrativezoo"
  },
  "language_info": {
   "codemirror_mode": {
    "name": "ipython",
    "version": 3
   },
   "file_extension": ".py",
   "mimetype": "text/x-python",
   "name": "python",
   "nbconvert_exporter": "python",
   "pygments_lexer": "ipython3",
   "version": "3.10.13"
  }
 },
 "nbformat": 4,
 "nbformat_minor": 5
}
