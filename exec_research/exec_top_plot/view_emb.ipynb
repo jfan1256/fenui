{
 "cells": [
  {
   "cell_type": "markdown",
   "id": "fab7a4de-f103-43ee-b6f9-94b2c3b31cbc",
   "metadata": {},
   "source": [
    "#### Import Packages"
   ]
  },
  {
   "cell_type": "code",
   "execution_count": 1,
   "id": "a3917af5-c97c-478f-912e-2877cf5aaa73",
   "metadata": {},
   "outputs": [],
   "source": [
    "import pandas as pd\n",
    "import pickle\n",
    "import json\n",
    "import numpy as np\n",
    "import matplotlib.pyplot as plt\n",
    "import seaborn as sns\n",
    "import matplotlib.dates as mdates\n",
    "\n",
    "from openai import OpenAI\n",
    "from sklearn.preprocessing import MinMaxScaler\n",
    "from sklearn.metrics.pairwise import cosine_similarity\n",
    "\n",
    "from utils.system import *\n",
    "from class_data.data import Data\n",
    "from class_generate.gen_emb import GenEmb\n",
    "from class_eval.eval_index import EvalIndex\n",
    "\n",
    "import warnings\n",
    "warnings.filterwarnings('ignore')"
   ]
  },
  {
   "cell_type": "markdown",
   "id": "b05dede8-dd9e-45a8-b78a-b1299130f674",
   "metadata": {},
   "source": [
    "#### Load Data"
   ]
  },
  {
   "cell_type": "code",
   "execution_count": null,
   "id": "74bd73c5-66c7-4468-899e-9efca360a2c9",
   "metadata": {},
   "outputs": [],
   "source": [
    "# Load openai embeddings\n",
    "wsj_openai = Data(folder_path=get_format_data() / 'openai', file_pattern='wsj_emb_openai_*')\n",
    "wsj_openai = wsj_openai.concat_files()"
   ]
  },
  {
   "cell_type": "code",
   "execution_count": null,
   "id": "4a436dd1-119c-44d7-aaf6-1102de956795",
   "metadata": {},
   "outputs": [],
   "source": [
    "# Load articles\n",
    "wsj_art = Data(folder_path=get_format_data() / 'token', file_pattern='wsj_tokens_*')\n",
    "wsj_art = wsj_art.concat_files()"
   ]
  },
  {
   "cell_type": "markdown",
   "id": "506b6242-fef8-49c0-afad-e7a2055f35e3",
   "metadata": {},
   "source": [
    "#### Embedding Plot"
   ]
  },
  {
   "cell_type": "code",
   "execution_count": 5,
   "id": "00582d7d-1949-4f24-baf8-471d89753971",
   "metadata": {},
   "outputs": [],
   "source": [
    "# Params\n",
    "vector_column = 'ada_embedding'\n",
    "interval = 'M'\n",
    "art_col = 'body_txt'\n",
    "eval_col = 'eval'\n",
    "threshold = 0.77"
   ]
  },
  {
   "cell_type": "code",
   "execution_count": null,
   "id": "8d9e0ade-7bd4-4c4d-b70e-b156900e0036",
   "metadata": {},
   "outputs": [],
   "source": [
    "query = 'Generate an index with label ESG from January 1st, 1984, to December 31st, 2021.'\n",
    "generate = GenEmb(query=query, vector_data=wsj_openai,  vector_column=vector_column, article_data=wsj_art,  interval=interval, threshold=threshold)\n",
    "esg = generate.generate_emb()\n",
    "eval_index = EvalIndex(index=esg, label=generate.query['label'], art_col=art_col, eval_col=eval_col, batch_size=1)\n",
    "eval_esg = eval_index.eval_articles()\n",
    "eval_index.count(eval_esg)\n",
    "eval_esg.to_parquet(get_format_data() / 'eval' / 'eval_esg.parquet.brotli', compression='brotli')\n",
    "generate.exec_plot(query, generate.query['label'], esg[['score']], ['ESG'], 'esg_index')"
   ]
  }
 ],
 "metadata": {
  "kernelspec": {
   "display_name": "narrativezoo",
   "language": "python",
   "name": "narrativezoo"
  },
  "language_info": {
   "codemirror_mode": {
    "name": "ipython",
    "version": 3
   },
   "file_extension": ".py",
   "mimetype": "text/x-python",
   "name": "python",
   "nbconvert_exporter": "python",
   "pygments_lexer": "ipython3",
   "version": "3.10.13"
  }
 },
 "nbformat": 4,
 "nbformat_minor": 5
}
