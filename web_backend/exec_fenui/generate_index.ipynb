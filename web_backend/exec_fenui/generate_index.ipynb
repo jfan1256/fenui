{
 "cells": [
  {
   "cell_type": "markdown",
   "id": "691398a9-4e36-4e07-acf3-d1fdff11df30",
   "metadata": {},
   "source": [
    "#### Import Package"
   ]
  },
  {
   "cell_type": "code",
   "execution_count": 1,
   "id": "7f5ffc7e-e7b5-4bea-9309-1119534a8f86",
   "metadata": {},
   "outputs": [],
   "source": [
    "from web_backend.class_fetch.query_fetch import QueryFetch\n",
    "from web_backend.class_generate.generate_index import GenerateIndex\n",
    "from web_backend.class_plot.plot_dash import PlotDash\n",
    "\n",
    "from utils.system import *"
   ]
  },
  {
   "cell_type": "markdown",
   "id": "cdc4bf26-0306-4bc5-9b26-2c9bcbfd44d0",
   "metadata": {},
   "source": [
    "#### User Input"
   ]
  },
  {
   "cell_type": "code",
   "execution_count": 2,
   "id": "60d9ebc5-a4fb-4965-bd8a-b298b44dbd1d",
   "metadata": {},
   "outputs": [],
   "source": [
    "label = \"artifical intelligience\" # User will input a str label\n",
    "start_date = \"2010-01-01\" # User will input a str date\n",
    "end_date = \"2010-01-10\" # User will input a str date\n",
    "transform = \"relu\" # user will input a str transformation ==> list of options: ['relu', 'square relu', 'sigmoid', 'arcsin']"
   ]
  },
  {
   "cell_type": "markdown",
   "id": "82c87653-7b99-4329-ba3b-0d524702cb12",
   "metadata": {},
   "source": [
    "#### Fetch Data"
   ]
  },
  {
   "cell_type": "code",
   "execution_count": 3,
   "id": "2cd8f51b-26ca-48a2-9f85-deda2241b656",
   "metadata": {
    "scrolled": true
   },
   "outputs": [],
   "source": [
    "# Initialize QueryFetch Class\n",
    "query_fetch = QueryFetch(label=label, start_date=start_date, end_date=end_date)"
   ]
  },
  {
   "cell_type": "code",
   "execution_count": 4,
   "id": "87f7c87c-1b0c-41b4-98be-adc843e31fa8",
   "metadata": {
    "scrolled": true
   },
   "outputs": [],
   "source": [
    "# Fetch Data\n",
    "query = query_fetch.query_fetch()"
   ]
  },
  {
   "cell_type": "markdown",
   "id": "28c8b79d-986a-4bd0-8cb1-3e808adbd698",
   "metadata": {},
   "source": [
    "#### Generate Index"
   ]
  },
  {
   "cell_type": "code",
   "execution_count": 5,
   "id": "911ef52d-9e90-441f-b129-0c86507ea3df",
   "metadata": {},
   "outputs": [],
   "source": [
    "# Initialize GenerateIndex Class\n",
    "generate_index = GenerateIndex(query=query, transform=transform)"
   ]
  },
  {
   "cell_type": "code",
   "execution_count": 6,
   "id": "a0f8397c-f1f5-48a9-b94e-5404cf2ff58f",
   "metadata": {
    "scrolled": true
   },
   "outputs": [],
   "source": [
    "# Generate Index\n",
    "gen_index, gen_combine = generate_index.generate_index()"
   ]
  },
  {
   "cell_type": "markdown",
   "id": "30878420-7d6e-4d8b-841e-d826100395df",
   "metadata": {},
   "source": [
    "#### Plot Index"
   ]
  },
  {
   "cell_type": "code",
   "execution_count": 7,
   "id": "f174919d-45b3-4f3f-8be0-920119013bab",
   "metadata": {},
   "outputs": [],
   "source": [
    "# Initialize PlotIndex Class\n",
    "plot_dash = PlotDash(data=gen_combine)"
   ]
  },
  {
   "cell_type": "code",
   "execution_count": 8,
   "id": "6db9ea81-c589-41a9-ac84-646f059932f9",
   "metadata": {},
   "outputs": [
    {
     "data": {
      "text/html": [
       "\n",
       "        <iframe\n",
       "            width=\"100%\"\n",
       "            height=\"650\"\n",
       "            src=\"http://127.0.0.1:8050/\"\n",
       "            frameborder=\"0\"\n",
       "            allowfullscreen\n",
       "            \n",
       "        ></iframe>\n",
       "        "
      ],
      "text/plain": [
       "<IPython.lib.display.IFrame at 0x177d8e350f0>"
      ]
     },
     "metadata": {},
     "output_type": "display_data"
    }
   ],
   "source": [
    "# Plot Index\n",
    "plot_dash.plot_dash()"
   ]
  }
 ],
 "metadata": {
  "kernelspec": {
   "display_name": "narrativezoo",
   "language": "python",
   "name": "narrativezoo"
  },
  "language_info": {
   "codemirror_mode": {
    "name": "ipython",
    "version": 3
   },
   "file_extension": ".py",
   "mimetype": "text/x-python",
   "name": "python",
   "nbconvert_exporter": "python",
   "pygments_lexer": "ipython3",
   "version": "3.10.13"
  }
 },
 "nbformat": 4,
 "nbformat_minor": 5
}
