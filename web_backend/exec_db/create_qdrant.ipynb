{
 "cells": [
  {
   "cell_type": "markdown",
   "id": "f6942e6d-f461-4ec0-ae0d-78892f02c960",
   "metadata": {},
   "source": [
    "#### Import Package"
   ]
  },
  {
   "cell_type": "code",
   "execution_count": null,
   "id": "80f184fe-775a-469b-bb7f-494edb82906f",
   "metadata": {},
   "outputs": [],
   "source": [
    "import time\n",
    "import os\n",
    "import pandas as pd\n",
    "import numpy as np\n",
    "import ray\n",
    "\n",
    "from qdrant_client import QdrantClient\n",
    "from qdrant_client.http import models\n",
    "from qdrant_client.http.models import CollectionStatus\n",
    "from datetime import datetime\n",
    "\n",
    "from utils.system import *\n",
    "from class_data.data import Data"
   ]
  },
  {
   "cell_type": "markdown",
   "id": "1225798d-0929-4035-a928-9b51e2405d03",
   "metadata": {},
   "source": [
    "#### Export Data"
   ]
  },
  {
   "cell_type": "markdown",
   "id": "987fe1cf-c664-4ab3-8cf1-983d690a4002",
   "metadata": {},
   "source": [
    "##### --> Make sure to run format_data.ipynb and get_emb_openai.ipynb (chronologically) to get the data for this\n",
    "##### --> Skip this if the data is already provided "
   ]
  },
  {
   "cell_type": "code",
   "execution_count": null,
   "id": "b321dd3d-2625-4e38-9c5c-4aea628d2c14",
   "metadata": {},
   "outputs": [],
   "source": [
    "# Multiple Articles per Day Open AI Embeddings\n",
    "wsj_multiple_openai = Data(folder_path=get_format_data() / 'openai', file_pattern='wsj_emb_openai_*')\n",
    "wsj_multiple_openai = wsj_multiple_openai.concat_files()\n",
    "print(wsj_multiple_openai.shape)\n",
    "# Multiple Articles per Day Data\n",
    "wsj_multiple = Data(folder_path=get_format_data() / 'token', file_pattern='wsj_tokens_*')\n",
    "wsj_multiple = wsj_multiple.concat_files()\n",
    "print(wsj_multiple.shape)"
   ]
  },
  {
   "cell_type": "code",
   "execution_count": null,
   "id": "7b7e8aab-9343-4aea-ba49-0f98c60b1db3",
   "metadata": {},
   "outputs": [],
   "source": [
    "# Merge Embeddings and Article\n",
    "wsj_combine = pd.concat([wsj_multiple_openai, wsj_multiple], axis=1)"
   ]
  },
  {
   "cell_type": "code",
   "execution_count": null,
   "id": "10bea4e0-1538-4b20-8a25-4cf05acada27",
   "metadata": {},
   "outputs": [],
   "source": [
    "# Set limit to the exact same value used in embedding_similarity.ipynb to align indexes\n",
    "limit = 30\n",
    "count = wsj_combine.groupby(wsj_combine.index)['accession_number'].count()\n",
    "valid_dates_mask = count >= limit\n",
    "wsj_combine = wsj_combine[wsj_combine.index.isin(count[valid_dates_mask].index)]\n",
    "print(wsj_combine.shape)"
   ]
  },
  {
   "cell_type": "code",
   "execution_count": null,
   "id": "92e1d310-cc65-4783-8c4d-af26ea88d30c",
   "metadata": {},
   "outputs": [],
   "source": [
    "# Add IDs\n",
    "wsj_combine = wsj_combine.reset_index()\n",
    "wsj_combine = wsj_combine.rename(columns={'index':'date'})\n",
    "wsj_combine.index.names = ['id']\n",
    "wsj_combine = wsj_combine.reset_index().set_index(['id', 'date'])\n",
    "# Add article count\n",
    "wsj_combine['article_count'] = wsj_combine.groupby(level='date')['body_txt'].transform('count')"
   ]
  },
  {
   "cell_type": "code",
   "execution_count": null,
   "id": "d4f01151-0acf-4e50-a121-4f0e3db90473",
   "metadata": {
    "scrolled": true
   },
   "outputs": [],
   "source": [
    "# Export Data\n",
    "chunks = np.array_split(wsj_combine, 50)\n",
    "for i, df in enumerate(chunks, 1):\n",
    "    print(i)\n",
    "    df.to_parquet(get_format_data() / 'web' / f'wsj_all_{i}.parquet.brotli', compression='brotli')"
   ]
  },
  {
   "cell_type": "markdown",
   "id": "077762c7-7f7b-4c66-9503-55a59abc4cbd",
   "metadata": {},
   "source": [
    "#### Load Data"
   ]
  },
  {
   "cell_type": "code",
   "execution_count": null,
   "id": "c8812a70-9c80-4d7d-b04b-e2be89fec799",
   "metadata": {},
   "outputs": [],
   "source": [
    "# Multiple Articles per Day Open AI Embeddings\n",
    "wsj_combine = Data(folder_path=get_format_data() / 'web', file_pattern='wsj_all_*')\n",
    "wsj_combine = wsj_combine.concat_files()\n",
    "wsj_combine.shape"
   ]
  },
  {
   "cell_type": "markdown",
   "id": "6a40f25a-eb0d-4d50-8cff-cab024b48d5b",
   "metadata": {},
   "source": [
    "#### Qdrant Add Data"
   ]
  },
  {
   "cell_type": "markdown",
   "id": "f17e5275-53c3-4845-9950-717df7814a52",
   "metadata": {},
   "source": [
    "##### NOTE: Persistent does not work for windows\n",
    "##### --> Download Docker for windows here: https://docs.docker.com/desktop/install/windows-install/\n",
    "##### --> Check if installed correctly: docker --version\n",
    "##### --> To start a local server (non-persistent) run this in powershell: docker run -p 6333:6333 qdrant/qdrant:latest\n",
    "##### --> For deployment (persistent), create a directory called quant_storage, cd to the parent directory, and run these commands in powershell: docker pull qdrant/qdrant --> docker run -p 6333:6333 -v ${PWD}/qdrant_storage:/qdrant/storage qdrant/qdrant\n",
    "\r\n"
   ]
  },
  {
   "cell_type": "code",
   "execution_count": null,
   "id": "487a9767-9e54-47b5-87d9-24b81bb11753",
   "metadata": {},
   "outputs": [],
   "source": [
    "def db_add_group(group):\n",
    "    # Create lists for bulk insertion\n",
    "    ids = []\n",
    "    embeddings = []\n",
    "    metadatas = []\n",
    "    for row in group.iterrows():\n",
    "        ids.append(row[0][0])\n",
    "        embeddings.append(row[1]['ada_embedding'].tolist())\n",
    "        metadatas.append({\n",
    "            \"source\": \"wsj openai embedding\", \n",
    "            \"date\": int(time.mktime(row[0][1].timetuple())),\n",
    "            \"headline\": row[1]['headline'],\n",
    "            \"document\": row[1]['body_txt'],\n",
    "            \"n_token\": row[1]['n_tokens'],\n",
    "            \"n_date\": row[1]['article_count'],\n",
    "        })\n",
    "\n",
    "    # Bulk add to collection\n",
    "    client.upsert(\n",
    "        collection_name='wsj_emb',\n",
    "        points=models.Batch(\n",
    "            ids=ids,\n",
    "            vectors=embeddings,\n",
    "            payloads=metadatas\n",
    "        )\n",
    "    )\n",
    "\n",
    "def db_add_all(df, group_size):\n",
    "    # Calculate the total number of groups\n",
    "    total_groups = int(np.ceil(len(df) / group_size))\n",
    "    print(f\"Total groups: {total_groups}\")\n",
    "\n",
    "    for group_idx in range(total_groups):\n",
    "        print(\"-\" * 60)\n",
    "        print(f\"Processing group: {group_idx + 1}/{total_groups}\")\n",
    "\n",
    "        # Create group\n",
    "        group_start = group_idx * group_size\n",
    "        group_end = min(group_start + group_size, len(df))\n",
    "        group = df[group_start:group_end]\n",
    "\n",
    "        # Add group\n",
    "        db_add_group(group)"
   ]
  },
  {
   "cell_type": "markdown",
   "id": "f0302d6d-aec1-4591-82b9-f3d41651eeda",
   "metadata": {},
   "source": [
    "#### Create Qdrant (Server)"
   ]
  },
  {
   "cell_type": "code",
   "execution_count": null,
   "id": "a516df59-4fe5-4cdf-81a9-a289f1c11601",
   "metadata": {
    "scrolled": true
   },
   "outputs": [],
   "source": [
    "# Create Database in server\n",
    "client = QdrantClient(\"http://localhost:6333\")"
   ]
  },
  {
   "cell_type": "code",
   "execution_count": null,
   "id": "f618d947-cc95-4528-8110-91d7810eb5dd",
   "metadata": {
    "scrolled": true
   },
   "outputs": [],
   "source": [
    "# Create collection (This deletes the current collection)\n",
    "client.recreate_collection(\n",
    "    collection_name=\"wsj_emb\",\n",
    "    vectors_config=models.VectorParams(size=len(wsj_combine['ada_embedding'][0].values[0]), distance=models.Distance.COSINE),\n",
    "    shard_number=4,\n",
    ")"
   ]
  },
  {
   "cell_type": "code",
   "execution_count": null,
   "id": "86e9dce3-8918-446f-9694-1658cf33b2b4",
   "metadata": {},
   "outputs": [],
   "source": [
    "start_time = time.time()\n",
    "db_add_all(df=wsj_combine, group_size=850)\n",
    "elasped_time = time.time() - start_time\n",
    "print(f\"Total Time: {elasped_time} seconds\")"
   ]
  },
  {
   "cell_type": "code",
   "execution_count": null,
   "id": "75723ea3-9ec9-4c75-8189-6228a69301a4",
   "metadata": {},
   "outputs": [],
   "source": []
  }
 ],
 "metadata": {
  "kernelspec": {
   "display_name": "narrativezoo",
   "language": "python",
   "name": "narrativezoo"
  },
  "language_info": {
   "codemirror_mode": {
    "name": "ipython",
    "version": 3
   },
   "file_extension": ".py",
   "mimetype": "text/x-python",
   "name": "python",
   "nbconvert_exporter": "python",
   "pygments_lexer": "ipython3",
   "version": "3.10.13"
  }
 },
 "nbformat": 4,
 "nbformat_minor": 5
}
