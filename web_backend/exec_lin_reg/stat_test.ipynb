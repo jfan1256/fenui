{
 "cells": [
  {
   "cell_type": "code",
   "execution_count": null,
   "id": "edbe0d5e-4f8f-4865-8b72-e8587357453f",
   "metadata": {},
   "outputs": [],
   "source": [
    "import pandas as pd\n",
    "import os\n",
    "import glob\n",
    "import re \n",
    "import statsmodels.api as sm\n",
    "import numpy as np\n",
    "import matplotlib.pyplot as plt\n",
    "import tensorflow as tf\n",
    "\n",
    "from sklearn.metrics import mean_squared_error\n",
    "from math import sqrt\n",
    "from pathlib import Path\n",
    "from sklearn.linear_model import Lasso, Ridge, ElasticNet\n",
    "from sklearn.metrics import mean_squared_error\n",
    "from sklearn.model_selection import train_test_split\n",
    "from tensorflow.keras.models import Sequential\n",
    "from tensorflow.keras.layers import Dense\n",
    "from tensorflow.keras.optimizers import Adam\n",
    "from tensorflow.keras.layers import Dropout, BatchNormalization\n",
    "from tensorflow.keras.regularizers import l1_l2\n",
    "from tensorflow.keras.callbacks import EarlyStopping"
   ]
  },
  {
   "cell_type": "markdown",
   "id": "f76a5ce5-d03f-4b7f-9e61-4dc0fa16f4d9",
   "metadata": {},
   "source": [
    "# Load Data"
   ]
  },
  {
   "cell_type": "code",
   "execution_count": null,
   "id": "954ecdca-f79b-4be2-9460-11ca66d84fa7",
   "metadata": {},
   "outputs": [],
   "source": [
    "# Get root directory\n",
    "def get_root_dir() -> Path:\n",
    "    return Path(os.getcwd()).resolve().parent\n",
    "\n",
    "# Get data directory\n",
    "def get_data():\n",
    "    return get_root_dir() / 'data'\n",
    "\n",
    "# Concat all embedding files\n",
    "def concat_files(folder_path, file_pattern):\n",
    "    full_pattern = f'{folder_path}/{file_pattern}'\n",
    "    file_list = glob.glob(full_pattern)\n",
    "    file_list.sort(key=lambda x: int(re.search(r'doc_(\\d+)', x).group(1)))\n",
    "    df_list = [pd.read_parquet(file) for file in file_list]\n",
    "    concatenated_df = pd.concat(df_list, axis=0)\n",
    "    return concatenated_df"
   ]
  },
  {
   "cell_type": "code",
   "execution_count": null,
   "id": "8970e02a-c833-42b2-ae55-bc14735094b9",
   "metadata": {},
   "outputs": [],
   "source": [
    "# US Daily News Index\n",
    "us_news = pd.read_csv(get_data() / 'All_Daily_Policy_Data.csv')"
   ]
  },
  {
   "cell_type": "code",
   "execution_count": null,
   "id": "719c2d63-1290-4877-82cb-25baa7b9698f",
   "metadata": {},
   "outputs": [],
   "source": [
    "# Categorical EPU Data\n",
    "epu_cat = pd.read_excel(get_data() / 'Categorical_EPU_Data.xlsx')"
   ]
  },
  {
   "cell_type": "code",
   "execution_count": null,
   "id": "bb8d8aef-d49c-46cf-8801-227cfb3fe5a3",
   "metadata": {},
   "outputs": [],
   "source": [
    "# Conference Call Embeddings\n",
    "cc_emb = pd.read_parquet(get_data() / 'cc' / 'doc.pq')"
   ]
  },
  {
   "cell_type": "code",
   "execution_count": null,
   "id": "7ae1b08e-2b40-4525-ad8c-dc6befa0a39c",
   "metadata": {},
   "outputs": [],
   "source": [
    "# NYT Embeddings\n",
    "nyt_emb = concat_files(get_data() / 'nyt', 'doc_*')"
   ]
  },
  {
   "cell_type": "code",
   "execution_count": null,
   "id": "ccbb1101-f500-4fbd-842f-32f1dde532e5",
   "metadata": {},
   "outputs": [],
   "source": [
    "# WSJ Embeddings\n",
    "wsj_emb = concat_files(get_data() / 'wsj', 'doc_*')"
   ]
  },
  {
   "cell_type": "markdown",
   "id": "c3828be6-303d-4462-beec-3344dd4ae8f2",
   "metadata": {},
   "source": [
    "# Format Data"
   ]
  },
  {
   "cell_type": "markdown",
   "id": "dfacad16-29a0-49ff-8ac1-db1c6a3f1d86",
   "metadata": {},
   "source": [
    "##### Format data into multindex ('permno', 'date')"
   ]
  },
  {
   "cell_type": "code",
   "execution_count": null,
   "id": "b73294ad-7f13-442a-ac43-e864a2a860c3",
   "metadata": {},
   "outputs": [],
   "source": [
    "# Function to create a multindex ('permno', 'date') for a dataframe with only 'date' index\n",
    "# Parameters: \n",
    "    # Data is the actual dataframe with only 'date' index\n",
    "    # Stock is a list of stocks (i.e., permnos, tickers, etc.)\n",
    "def create_multi_index(data, stock):\n",
    "    factor_values = pd.concat([data] * len(stock), ignore_index=True).values\n",
    "    multi_index = pd.MultiIndex.from_product([stock, data.index])\n",
    "    multi_index_factor = pd.DataFrame(factor_values, columns=data.columns, index=multi_index)\n",
    "    multi_index_factor.index = multi_index_factor.index.set_names(['permno', 'date'])\n",
    "    return multi_index_factor\n",
    "\n",
    "# Function to get stock list (i.e., permnos, tickers, etc.) from a multindex dataframe ('stock', 'date')\n",
    "def get_stock_list(data):\n",
    "    return [stock for stock, df in data.groupby(data.index.names[0], group_keys=False)]"
   ]
  },
  {
   "cell_type": "markdown",
   "id": "97fac5ab-bb6f-4b44-ac48-6249548bd2d6",
   "metadata": {},
   "source": [
    "#### Get Stock List"
   ]
  },
  {
   "cell_type": "code",
   "execution_count": null,
   "id": "93e27ccd-d725-42a2-8aa8-7d13f49e576c",
   "metadata": {},
   "outputs": [],
   "source": [
    "# Get stock list from Conference Call Embeddings:\n",
    "stock_list_cc = get_stock_list(cc_emb)"
   ]
  },
  {
   "cell_type": "markdown",
   "id": "b3d9b54c-faa9-4ae2-9af9-14196d5b2bf8",
   "metadata": {},
   "source": [
    "#### Daily US News Index"
   ]
  },
  {
   "cell_type": "code",
   "execution_count": null,
   "id": "fa554e6e-383e-4398-8de9-6ab24607c932",
   "metadata": {},
   "outputs": [],
   "source": [
    "# View Present Data\n",
    "us_news.head(5)"
   ]
  },
  {
   "cell_type": "code",
   "execution_count": null,
   "id": "d6258f08-8980-4b52-9178-d8471def4569",
   "metadata": {},
   "outputs": [],
   "source": [
    "# Set Date Column\n",
    "us_news['date'] = pd.to_datetime(us_news[['year', 'month', 'day']])\n",
    "us_news = us_news.set_index('date')\n",
    "us_news = us_news[['daily_policy_index']]\n",
    "# Rename column\n",
    "us_news.columns = ['daily_pol']"
   ]
  },
  {
   "cell_type": "code",
   "execution_count": null,
   "id": "d7f16e7b-ede0-4259-af0e-fa9af77b4337",
   "metadata": {},
   "outputs": [],
   "source": [
    "# Create Multindex\n",
    "us_news_multi = create_multi_index(us_news, stock_list_cc)"
   ]
  },
  {
   "cell_type": "code",
   "execution_count": null,
   "id": "1963f9cd-4474-48aa-b1cd-28882655d31c",
   "metadata": {},
   "outputs": [],
   "source": [
    "# View Formatted Data\n",
    "us_news.head(5)"
   ]
  },
  {
   "cell_type": "code",
   "execution_count": null,
   "id": "ef1c646a-e56a-42d8-84c6-1464be7ef2c0",
   "metadata": {},
   "outputs": [],
   "source": [
    "# View Formatted Data\n",
    "us_news_multi.head(5)"
   ]
  },
  {
   "cell_type": "markdown",
   "id": "db774be6-7ad7-4465-a33f-9552c69eab8f",
   "metadata": {},
   "source": [
    "#### Categorical EPU Data"
   ]
  },
  {
   "cell_type": "code",
   "execution_count": null,
   "id": "a2de338e-e25f-4ec7-be98-c55ccdd3839f",
   "metadata": {},
   "outputs": [],
   "source": [
    "# View Present Data\n",
    "epu_cat.head(5)"
   ]
  },
  {
   "cell_type": "code",
   "execution_count": null,
   "id": "a10d14b6-485e-466c-b04f-9f91db82c138",
   "metadata": {},
   "outputs": [],
   "source": [
    "# Rename columns\n",
    "column_names = ['date', 'epu', 'mon_pol', 'fisc_pol', 'tax', 'gov_spend', 'health_care', \n",
    "                'nat_sec', 'ent_prog', 'reg', 'fin_reg', 'trade_pol', 'debt']\n",
    "epu_cat.columns = column_names"
   ]
  },
  {
   "cell_type": "code",
   "execution_count": null,
   "id": "506b2a70-bb16-48f1-8cbe-50d77764dbd9",
   "metadata": {},
   "outputs": [],
   "source": [
    "# View Last Row\n",
    "epu_cat.tail(3)"
   ]
  },
  {
   "cell_type": "code",
   "execution_count": null,
   "id": "4c67b64f-d2cd-4f86-82d7-95e7bb472602",
   "metadata": {},
   "outputs": [],
   "source": [
    "# Remove Last Row\n",
    "epu_cat = epu_cat.iloc[:-1]"
   ]
  },
  {
   "cell_type": "code",
   "execution_count": null,
   "id": "c0124d7c-baa4-4281-847f-718ccdf7ca7e",
   "metadata": {},
   "outputs": [],
   "source": [
    "# Convert date column to pd.datetime\n",
    "epu_cat['date'] = pd.to_datetime(epu_cat['date'])\n",
    "epu_cat = epu_cat.set_index('date')"
   ]
  },
  {
   "cell_type": "code",
   "execution_count": null,
   "id": "569b775d-f84e-47bc-a186-9c9026884a3e",
   "metadata": {},
   "outputs": [],
   "source": [
    "# Create Multindex\n",
    "epu_cat_multi = create_multi_index(epu_cat, stock_list_cc)"
   ]
  },
  {
   "cell_type": "code",
   "execution_count": null,
   "id": "f60cc7be-a3cd-4346-a70a-c825740ca10a",
   "metadata": {},
   "outputs": [],
   "source": [
    "# View Formmated Data\n",
    "epu_cat.head(5)"
   ]
  },
  {
   "cell_type": "code",
   "execution_count": null,
   "id": "c9e54886-004b-4641-a24b-2f7f679379a1",
   "metadata": {},
   "outputs": [],
   "source": [
    "# View Formmated Data\n",
    "epu_cat_multi.head(5)"
   ]
  },
  {
   "cell_type": "markdown",
   "id": "b620596e-527a-4df9-95b4-fd3eb57ad2d6",
   "metadata": {},
   "source": [
    "### Conference Call Embeddings"
   ]
  },
  {
   "cell_type": "code",
   "execution_count": null,
   "id": "754ab790-b6e6-402c-9c93-acb5d143a0d3",
   "metadata": {},
   "outputs": [],
   "source": [
    "# View Present Data\n",
    "cc_emb.head(5)"
   ]
  },
  {
   "cell_type": "code",
   "execution_count": null,
   "id": "4d867cb0-5b26-4f75-9f25-ba8b542a9200",
   "metadata": {},
   "outputs": [],
   "source": [
    "# Set index to (permno)\n",
    "cc_emb = cc_emb.reset_index(level='fid', drop=True).reset_index(level='date')"
   ]
  },
  {
   "cell_type": "code",
   "execution_count": null,
   "id": "93322502-7adb-404b-bc40-9e07bbba4657",
   "metadata": {},
   "outputs": [],
   "source": [
    "# Set date column to pd.datetime\n",
    "cc_emb['date'] = pd.to_datetime(cc_emb['date'])\n",
    "cc_emb['date'] = cc_emb['date'].dt.strftime('%Y-%m-%d')\n",
    "cc_emb['date'] = pd.to_datetime(cc_emb['date'])"
   ]
  },
  {
   "cell_type": "code",
   "execution_count": null,
   "id": "39cd82f0-a57f-437e-b06f-a508ee87089d",
   "metadata": {},
   "outputs": [],
   "source": [
    "# Set index to (permno, date) \n",
    "cc_emb = cc_emb.reset_index().set_index(['permno', 'date']).sort_index(level=['permno', 'date'])"
   ]
  },
  {
   "cell_type": "code",
   "execution_count": null,
   "id": "bb9f329a-99e2-4293-ae95-0705b785e028",
   "metadata": {},
   "outputs": [],
   "source": [
    "# For duplicate (permno, date) indices, assume the most recent date is the correct permno\n",
    "cc_emb = cc_emb.loc[~cc_emb.index.duplicated(keep='last')]"
   ]
  },
  {
   "cell_type": "code",
   "execution_count": null,
   "id": "b197731b-8258-42c8-aef1-eb838db13adf",
   "metadata": {},
   "outputs": [],
   "source": [
    "# View Formmatted Data\n",
    "cc_emb.head(5)"
   ]
  },
  {
   "cell_type": "markdown",
   "id": "44d4733d-925b-4706-8b8e-fbccce104885",
   "metadata": {},
   "source": [
    "### NYT Embeddings"
   ]
  },
  {
   "cell_type": "code",
   "execution_count": null,
   "id": "a843a1ca-c20e-4873-b70d-24a60bcda2c7",
   "metadata": {},
   "outputs": [],
   "source": [
    "# View Present Data \n",
    "nyt_emb.head(5)"
   ]
  },
  {
   "cell_type": "code",
   "execution_count": null,
   "id": "d01622c7-1dbe-4c06-8778-d11be43c47a4",
   "metadata": {},
   "outputs": [],
   "source": [
    "# Set index to date\n",
    "nyt_emb['date'] = pd.to_datetime(nyt_emb['date'])\n",
    "nyt_emb = nyt_emb.set_index('date')"
   ]
  },
  {
   "cell_type": "code",
   "execution_count": null,
   "id": "f47e4007-f833-4ca8-8de8-91633b5367dc",
   "metadata": {},
   "outputs": [],
   "source": [
    "# Remove duplicate indices (keep the most recent date)\n",
    "nyt_emb = nyt_emb.loc[~nyt_emb.index.duplicated(keep='last')]"
   ]
  },
  {
   "cell_type": "code",
   "execution_count": null,
   "id": "e77186f1-4ff6-47f2-9927-309bf1317db8",
   "metadata": {
    "scrolled": true
   },
   "outputs": [],
   "source": [
    "# Embeddings Columns\n",
    "nyt_emb_col = nyt_emb.filter(regex='^c').columns\n",
    "# Calculate the average of the embeddings\n",
    "nyt_emb[nyt_emb_col] = nyt_emb[nyt_emb_col].div(nyt_emb['tcount'], axis=0)"
   ]
  },
  {
   "cell_type": "code",
   "execution_count": null,
   "id": "1d0e4c4b-162f-4e4a-bd85-d63a3fbbed12",
   "metadata": {},
   "outputs": [],
   "source": [
    "# Rename embedding columns from 'c' to 'nyt'\n",
    "rename_dict_nyt = {col: 'nyt' + col[1:] for col in nyt_emb.columns if col.startswith('c')}\n",
    "nyt_emb.rename(columns=rename_dict_nyt, inplace=True)"
   ]
  },
  {
   "cell_type": "code",
   "execution_count": null,
   "id": "8a97b79e-1a30-40ae-a231-61035deb3e3f",
   "metadata": {},
   "outputs": [],
   "source": [
    "# View Formmated Data\n",
    "nyt_emb.head(5)"
   ]
  },
  {
   "cell_type": "markdown",
   "id": "5e84d31b-19cc-4aa5-852f-4c86240dd53f",
   "metadata": {},
   "source": [
    "### WSJ Embeddings"
   ]
  },
  {
   "cell_type": "code",
   "execution_count": null,
   "id": "3146680c-91eb-4ca3-9f56-9dd2732a25b0",
   "metadata": {},
   "outputs": [],
   "source": [
    "# View Present Data \n",
    "wsj_emb.head(5)"
   ]
  },
  {
   "cell_type": "code",
   "execution_count": null,
   "id": "e930aeee-69b2-4f2f-92c4-28711987c107",
   "metadata": {},
   "outputs": [],
   "source": [
    "# Set index to date\n",
    "wsj_emb['date'] = pd.to_datetime(wsj_emb['date'])\n",
    "wsj_emb = wsj_emb.set_index('date')"
   ]
  },
  {
   "cell_type": "code",
   "execution_count": null,
   "id": "68687de5-ab89-4e01-9861-61f884b17e78",
   "metadata": {},
   "outputs": [],
   "source": [
    "# Remove duplicate indices (keep the most recent date)\n",
    "wsj_emb = wsj_emb.loc[~wsj_emb.index.duplicated(keep='last')]"
   ]
  },
  {
   "cell_type": "code",
   "execution_count": null,
   "id": "fe5393fc-8b60-44e3-8c10-4ab3a28a77dc",
   "metadata": {
    "scrolled": true
   },
   "outputs": [],
   "source": [
    "# Embeddings Columns\n",
    "wsj_emb_col = wsj_emb.filter(regex='^c').columns\n",
    "# Calculate the average of the embeddings\n",
    "wsj_emb[wsj_emb_col] = wsj_emb[wsj_emb_col].div(wsj_emb['tcount'], axis=0)"
   ]
  },
  {
   "cell_type": "code",
   "execution_count": null,
   "id": "2bc78e22-66e1-4cf3-a3f4-06e04e988561",
   "metadata": {},
   "outputs": [],
   "source": [
    "# Rename embedding columns from 'c' to 'nyt'\n",
    "rename_dict_wsj = {col: 'wsj' + col[1:] for col in wsj_emb.columns if col.startswith('c')}\n",
    "wsj_emb.rename(columns=rename_dict_wsj, inplace=True)"
   ]
  },
  {
   "cell_type": "code",
   "execution_count": null,
   "id": "398a166f-5a2a-4deb-b898-4cb9fdade311",
   "metadata": {},
   "outputs": [],
   "source": [
    "# View Formmated Data\n",
    "wsj_emb.head(5)"
   ]
  },
  {
   "cell_type": "markdown",
   "id": "bfb9dc36-c4f2-4f76-bb37-9e926c71e713",
   "metadata": {},
   "source": [
    "# Merge Data"
   ]
  },
  {
   "cell_type": "code",
   "execution_count": null,
   "id": "e5a580d8-d5ec-4b3e-b03c-0b2b7fb8edde",
   "metadata": {},
   "outputs": [],
   "source": [
    "# # Merge Conference Call Embeddings with US News Daily Index\n",
    "# all_data = pd.merge(cc_emb, us_news, left_index=True, right_index=True, how='left')\n",
    "# # Create a temporary YYYY-MM index to merge with monthly interval Data\n",
    "# all_data['year_month'] = all_data.index.get_level_values('date').strftime('%Y-%m')\n",
    "# epu_cat['year_month'] = epu_cat.index.get_level_values('date').strftime('%Y-%m')\n",
    "# # Set index to (permno, year_month)\n",
    "# all_data = all_data.reset_index().set_index(['permno', 'year_month'])\n",
    "# epu_cat = epu_cat.reset_index().set_index(['permno', 'year_month'])\n",
    "# # Drop the date column in Categorical EPU Data to prevent merging _x and _y\n",
    "# epu_cat = epu_cat.drop('date', axis=1)\n",
    "# # Merge all_data with Categorical EPU Data\n",
    "# all_data = all_data.merge(epu_cat, left_index=True, right_index=True, how='left')\n",
    "# # Remove temporary YYYY-MM index and reformat to (permno, date) index\n",
    "# all_data = all_data.reset_index().drop('year_month', axis=1).set_index(['permno', 'date'])"
   ]
  },
  {
   "cell_type": "code",
   "execution_count": null,
   "id": "3eb3ad08-8baa-431d-ba0a-cf57b034ecdd",
   "metadata": {},
   "outputs": [],
   "source": [
    "# Merge nyt embeddings with daily EPU\n",
    "nyt_merge = pd.merge(us_news, nyt_emb, left_index=True, right_index=True, how='left').dropna()"
   ]
  },
  {
   "cell_type": "code",
   "execution_count": null,
   "id": "6e0b50ca-df90-4445-86d6-3ba794e37c11",
   "metadata": {},
   "outputs": [],
   "source": [
    "# Merge wsj embeddings with daily EPU\n",
    "wsj_merge = pd.merge(us_news, wsj_emb, left_index=True, right_index=True, how='left').dropna()"
   ]
  },
  {
   "cell_type": "markdown",
   "id": "e6c2759b-fe79-49da-922f-ca7875b06005",
   "metadata": {},
   "source": [
    "# Plotting Data"
   ]
  },
  {
   "cell_type": "code",
   "execution_count": null,
   "id": "529c9393-e690-44da-9fde-62237a3e2072",
   "metadata": {},
   "outputs": [],
   "source": [
    "# Plot scatter\n",
    "def scatter(actual_values, predictions, x_axis, y_axis, scale):\n",
    "    if scale == False:\n",
    "        plt.scatter(actual_values, predictions)\n",
    "        plt.title('Scatter')\n",
    "        plt.xlabel(x_axis)\n",
    "        plt.ylabel(y_axis)\n",
    "        plt.show()\n",
    "        plt.close()\n",
    "    else:\n",
    "        plt.figure(figsize=(8, 8))  \n",
    "        plt.scatter(actual_values, predictions)\n",
    "        # Add labels and title\n",
    "        plt.xlabel(x_axis)\n",
    "        plt.ylabel(y_axis)\n",
    "        plt.title('Scatter Plot with Equal Scale and 45 Degree Line')\n",
    "        # Determine limits for equal scale\n",
    "        combined = np.concatenate([actual_values, predictions])\n",
    "        min_val = combined.min()\n",
    "        max_val = combined.max()\n",
    "        # Set limits for x and y axes\n",
    "        plt.xlim(min_val, max_val)\n",
    "        plt.ylim(min_val, max_val)\n",
    "        # Plot a 45-degree line\n",
    "        plt.plot([min_val, max_val], [min_val, max_val], 'r--')  # Red dashed line\n",
    "        # Set aspect of plot to be equal\n",
    "        plt.gca().set_aspect('equal', adjustable='box')\n",
    "        plt.show()\n",
    "        plt.close()\n",
    "\n",
    "# Plot time-series\n",
    "def time_series(actual_values, predictions):\n",
    "    # Set the figure size\n",
    "    plt.figure(figsize=(40, 10))\n",
    "    plt.plot(actual_values, label='Actual Values')\n",
    "    plt.plot(actual_values.index, predictions, label='Predicted Values')\n",
    "    plt.title('My Combined Plot')\n",
    "    plt.xlabel('Time')\n",
    "    plt.ylabel('Value')\n",
    "    plt.legend()\n",
    "    plt.show()\n",
    "    plt.close()"
   ]
  },
  {
   "cell_type": "markdown",
   "id": "eb1d1e0b-976f-4d20-9d0d-3d93b7b7301a",
   "metadata": {},
   "source": [
    "### NYT"
   ]
  },
  {
   "cell_type": "code",
   "execution_count": null,
   "id": "d7a18a40-1f3f-408f-a6cb-9813c0cc9106",
   "metadata": {},
   "outputs": [],
   "source": [
    "# Plot Mean of embeddings\n",
    "nyt_beta_col = nyt_merge.filter(regex='^nyt').columns\n",
    "nyt_merge[nyt_beta_col].mean().hist(bins=200)"
   ]
  },
  {
   "cell_type": "code",
   "execution_count": null,
   "id": "25a2894f-df98-407a-852a-551f21cac9f7",
   "metadata": {},
   "outputs": [],
   "source": [
    "# Plot STD of embeddings\n",
    "nyt_beta_col = nyt_merge.filter(regex='^nyt').columns\n",
    "nyt_merge[nyt_beta_col].std().hist(bins=200)"
   ]
  },
  {
   "cell_type": "markdown",
   "id": "c4a60418-e698-4b30-989a-00b9bb156e4c",
   "metadata": {},
   "source": [
    "### WSJ"
   ]
  },
  {
   "cell_type": "code",
   "execution_count": null,
   "id": "2e736d70-b56c-461e-99dd-0be5ea213edf",
   "metadata": {},
   "outputs": [],
   "source": [
    "# Plot Mean of embeddings\n",
    "wsj_beta_col = wsj_merge.filter(regex='^wsj').columns\n",
    "wsj_merge[wsj_beta_col].mean().hist(bins=200)"
   ]
  },
  {
   "cell_type": "code",
   "execution_count": null,
   "id": "b2ebb159-8f83-4e3a-996c-d17cfa0440c5",
   "metadata": {},
   "outputs": [],
   "source": [
    "# Plot STD of embeddings\n",
    "wsj_beta_col = wsj_merge.filter(regex='^wsj').columns\n",
    "wsj_merge[wsj_beta_col].std().hist(bins=200)"
   ]
  },
  {
   "cell_type": "markdown",
   "id": "931e9fe8-cc79-4ac2-99bb-26c65de95a7a",
   "metadata": {},
   "source": [
    "# Insample OLS"
   ]
  },
  {
   "cell_type": "code",
   "execution_count": null,
   "id": "2a719d9d-9f23-4ab3-a6a0-946d1479fd60",
   "metadata": {},
   "outputs": [],
   "source": [
    "# Function to run standard OLS\n",
    "def exec_ols(data, beta_cols, y_col):\n",
    "    # Setup LR Data\n",
    "    X = data[beta_cols]\n",
    "    X = sm.add_constant(X)\n",
    "    Y = data[y_col]\n",
    "    # Run LR\n",
    "    model = sm.OLS(Y, X).fit()\n",
    "    # Print out the statistics\n",
    "    predictions = model.predict(X)\n",
    "    # Calculate SSE (Sum of Squared Errors)\n",
    "    SSE = np.sum((Y - predictions) ** 2)\n",
    "    # Calculate TSS (Total Sum of Squares) without centering around the mean\n",
    "    TSS = np.sum(Y ** 2)\n",
    "    # Calculate custom R2\n",
    "    MyR2 = 1 - (SSE / TSS)\n",
    "    # Print out custom R2\n",
    "    print(\"Custom R-squared:\", MyR2)\n",
    "    scatter(Y, predictions, 'Actual Value', 'Predicted Value', True)\n",
    "    time_series(Y, predictions)\n",
    "    return model, Y, predictions"
   ]
  },
  {
   "cell_type": "markdown",
   "id": "cf45a534-69fa-4c74-b6bd-ae460196cf1a",
   "metadata": {},
   "source": [
    "### NYT"
   ]
  },
  {
   "cell_type": "code",
   "execution_count": null,
   "id": "626decfe-3e5e-4e69-90c6-20f831007385",
   "metadata": {},
   "outputs": [],
   "source": [
    "# View Data\n",
    "nyt_merge.head(5)"
   ]
  },
  {
   "cell_type": "code",
   "execution_count": null,
   "id": "32696145-d308-413e-a0c1-209348a9e6c2",
   "metadata": {},
   "outputs": [],
   "source": [
    "# Get Beta Columns\n",
    "nyt_beta_col = nyt_merge.filter(regex='^nyt').columns"
   ]
  },
  {
   "cell_type": "code",
   "execution_count": null,
   "id": "b0139f1a-4e09-4dca-8ae8-543020d572d2",
   "metadata": {},
   "outputs": [],
   "source": [
    "# Run Regression\n",
    "nyt_standard_model, Y, predictions = exec_ols(data=nyt_merge, beta_cols=nyt_beta_col, y_col='daily_pol')"
   ]
  },
  {
   "cell_type": "markdown",
   "id": "e9bce4db-8fe0-4235-a56f-da4b9cbe034b",
   "metadata": {},
   "source": [
    "#### Aggregate by Month"
   ]
  },
  {
   "cell_type": "code",
   "execution_count": null,
   "id": "8b630999-4b32-44ec-bc03-8643087a838f",
   "metadata": {},
   "outputs": [],
   "source": [
    "y_month = Y.to_frame()\n",
    "pred_month = predictions.to_frame()\n",
    "y_month = y_month.resample('M').mean()\n",
    "pred_month = pred_month.resample('M').mean()"
   ]
  },
  {
   "cell_type": "code",
   "execution_count": null,
   "id": "832dab37-5d37-41d4-a8af-62ecd82baf31",
   "metadata": {},
   "outputs": [],
   "source": [
    "# Calculate SSE (Sum of Squared Errors)\n",
    "SSE = np.sum((y_month.values - pred_month.values) ** 2)\n",
    "# Calculate TSS (Total Sum of Squares) without centering around the mean\n",
    "TSS = np.sum(y_month.values ** 2)\n",
    "# Calculate custom R2\n",
    "MyR2 = 1 - (SSE / TSS)\n",
    "# Print out custom R2\n",
    "print(\"Custom R-squared:\", MyR2)"
   ]
  },
  {
   "cell_type": "code",
   "execution_count": null,
   "id": "8a0a1ea9-2fff-4f02-a860-9a49e1023e0a",
   "metadata": {},
   "outputs": [],
   "source": [
    "scatter(y_month, pred_month, 'Actual Value', 'Predicted Value', True)\n",
    "time_series(y_month, pred_month)"
   ]
  },
  {
   "cell_type": "markdown",
   "id": "5857579a-721b-49da-8cc1-a9d5ede8bf4b",
   "metadata": {},
   "source": [
    "### WSJ"
   ]
  },
  {
   "cell_type": "code",
   "execution_count": null,
   "id": "67dfba40-d5e0-423b-8200-ab147eac229c",
   "metadata": {},
   "outputs": [],
   "source": [
    "# View Data\n",
    "wsj_merge.head(5)"
   ]
  },
  {
   "cell_type": "code",
   "execution_count": null,
   "id": "817b9e2a-826f-478a-91cf-1b25b2debaae",
   "metadata": {},
   "outputs": [],
   "source": [
    "# Get Beta Columns\n",
    "wsj_beta_col = wsj_merge.filter(regex='^wsj').columns"
   ]
  },
  {
   "cell_type": "code",
   "execution_count": null,
   "id": "b12b832e-f7bc-4ed3-ab1f-14b313f78417",
   "metadata": {},
   "outputs": [],
   "source": [
    "wsj_standard_model, Y, predictions = exec_ols(data=wsj_merge, beta_cols=wsj_beta_col, y_col='daily_pol')"
   ]
  },
  {
   "cell_type": "markdown",
   "id": "91de3ec0-64e8-4562-9ed3-aa14d2e84d42",
   "metadata": {},
   "source": [
    "#### Aggregate by Month"
   ]
  },
  {
   "cell_type": "code",
   "execution_count": null,
   "id": "a878e7ff-ae3a-4961-883b-9024eb9cc410",
   "metadata": {},
   "outputs": [],
   "source": [
    "y_month = Y.to_frame()\n",
    "pred_month = predictions.to_frame()\n",
    "y_month = y_month.resample('M').mean()\n",
    "pred_month = pred_month.resample('M').mean()"
   ]
  },
  {
   "cell_type": "code",
   "execution_count": null,
   "id": "831efcb2-8392-4411-9146-5f9a232258ef",
   "metadata": {},
   "outputs": [],
   "source": [
    "# Calculate SSE (Sum of Squared Errors)\n",
    "SSE = np.sum((y_month.values - pred_month.values) ** 2)\n",
    "# Calculate TSS (Total Sum of Squares) without centering around the mean\n",
    "TSS = np.sum(y_month.values ** 2)\n",
    "# Calculate custom R2\n",
    "MyR2 = 1 - (SSE / TSS)\n",
    "# Print out custom R2\n",
    "print(\"Custom R-squared:\", MyR2)"
   ]
  },
  {
   "cell_type": "code",
   "execution_count": null,
   "id": "d1ff8553-23d1-4c17-b2a2-97f03b78d492",
   "metadata": {},
   "outputs": [],
   "source": [
    "scatter(y_month, pred_month, 'Actual Value', 'Predicted Value', True)\n",
    "time_series(y_month, pred_month)"
   ]
  },
  {
   "cell_type": "markdown",
   "id": "88f97f86-212d-4042-87b4-402c5dfa4ee2",
   "metadata": {},
   "source": [
    "# Split OLS (Train/Test)"
   ]
  },
  {
   "cell_type": "code",
   "execution_count": null,
   "id": "b80529ab-987e-470f-84be-1022cfb656e8",
   "metadata": {},
   "outputs": [],
   "source": [
    "# Execute predictions and calculate R^2\n",
    "def exec_ols_test(model, data, beta_cols, y_col):\n",
    "    X_test = data[beta_cols]\n",
    "    X_test = sm.add_constant(X_test)\n",
    "    predictions = model.predict(X_test)\n",
    "    actual_values = data[y_col]\n",
    "    mse = mean_squared_error(actual_values, predictions)\n",
    "    rmse = sqrt(mse)\n",
    "    # R-squared\n",
    "    ss_residual = sum((actual_values - predictions) ** 2)\n",
    "    ss_total = sum((actual_values - actual_values.mean()) ** 2)\n",
    "    r_squared = 1 - (ss_residual / ss_total)\n",
    "    # Custom R-squared\n",
    "    # Calculate SSE (Sum of Squared Errors)\n",
    "    SSE = np.sum((actual_values - predictions) ** 2)\n",
    "    # Calculate TSS (Total Sum of Squares) without centering around the mean\n",
    "    TSS = np.sum(actual_values ** 2)\n",
    "    # Calculate custom R2\n",
    "    MyR2 = 1 - (SSE / TSS)\n",
    "    # Print out custom R2\n",
    "    print(\"Custom R-squared:\", MyR2)\n",
    "    print(\"R-squared:\", r_squared)\n",
    "    print(\"Mean Squared Error:\", mse)\n",
    "    print(\"Root Mean Squared Error:\", rmse)\n",
    "    # Plot graphs\n",
    "    scatter(actual_values, predictions, 'Actual Value', 'Predicted Value', True)\n",
    "    time_series(actual_values, predictions)\n",
    "    return predictions"
   ]
  },
  {
   "cell_type": "markdown",
   "id": "30051eba-31ba-4db0-9908-17eed5c1dc0e",
   "metadata": {},
   "source": [
    "### NYT"
   ]
  },
  {
   "cell_type": "code",
   "execution_count": null,
   "id": "d3b71693-544c-4f0a-a654-862447f00f96",
   "metadata": {},
   "outputs": [],
   "source": [
    "# Get Beta Columns\n",
    "nyt_beta_col = nyt_merge.filter(regex='^nyt').columns"
   ]
  },
  {
   "cell_type": "code",
   "execution_count": null,
   "id": "7417c355-139d-4d0d-8d05-a1fe919e7154",
   "metadata": {},
   "outputs": [],
   "source": [
    "# Split data into Train and Test\n",
    "split = 0.5\n",
    "nyt_train = nyt_merge.iloc[:int(len(nyt_merge)*split)]\n",
    "nyt_test = nyt_merge.iloc[int(len(nyt_merge)*split):]"
   ]
  },
  {
   "cell_type": "code",
   "execution_count": null,
   "id": "2f3481f3-d940-45ae-88d8-b53b21648079",
   "metadata": {},
   "outputs": [],
   "source": [
    "# Run Regression\n",
    "nyt_train_model = exec_ols(data=nyt_train, beta_cols=nyt_beta_col, y_col='daily_pol')"
   ]
  },
  {
   "cell_type": "code",
   "execution_count": null,
   "id": "dc3fb03d-2cce-4f18-831c-b46869dab820",
   "metadata": {},
   "outputs": [],
   "source": [
    "nyt_pred = exec_ols_test(model=nyt_train_model, data=nyt_test, beta_cols=nyt_beta_col, y_col='daily_pol')"
   ]
  },
  {
   "cell_type": "markdown",
   "id": "a3348d22-af68-4d54-abbb-8f98da51942d",
   "metadata": {},
   "source": [
    "### WSJ"
   ]
  },
  {
   "cell_type": "code",
   "execution_count": null,
   "id": "826b779d-e3af-4e13-9119-17e8326d93c1",
   "metadata": {},
   "outputs": [],
   "source": [
    "# Get Beta Columns\n",
    "wsj_beta_col = wsj_merge.filter(regex='^wsj').columns"
   ]
  },
  {
   "cell_type": "code",
   "execution_count": null,
   "id": "f8685d40-b9ee-4d96-afac-22af61a0ae2d",
   "metadata": {},
   "outputs": [],
   "source": [
    "# Split data into Train and Test\n",
    "split = 0.5\n",
    "wsj_train = wsj_merge.iloc[:int(len(wsj_merge)*split)]\n",
    "wsj_test = wsj_merge.iloc[int(len(wsj_merge)*split):]"
   ]
  },
  {
   "cell_type": "code",
   "execution_count": null,
   "id": "aacf4f4e-977b-416b-bb36-7d2ba77ccf2f",
   "metadata": {},
   "outputs": [],
   "source": [
    "# Run Regression\n",
    "wsj_train_model = exec_ols(data=wsj_train, beta_cols=wsj_beta_col, y_col='daily_pol')"
   ]
  },
  {
   "cell_type": "code",
   "execution_count": null,
   "id": "eb1a26ed-c41b-4060-bca5-c0ca51a6d759",
   "metadata": {},
   "outputs": [],
   "source": [
    "wsj_pred = exec_ols_test(model=wsj_train_model, data=wsj_test, beta_cols=wsj_beta_col, y_col='daily_pol')"
   ]
  },
  {
   "cell_type": "markdown",
   "id": "b83c2c79-f5f5-4389-b582-60573476a7f9",
   "metadata": {},
   "source": [
    "# L1 Split OLS (Train/Test)"
   ]
  },
  {
   "cell_type": "code",
   "execution_count": null,
   "id": "5adda6aa-6d97-470f-9ce8-2b54321cf33f",
   "metadata": {},
   "outputs": [],
   "source": [
    "# Function to run standard OLS\n",
    "def exec_l1_ols(data, beta_cols, y_col, lasso_alpha, split):\n",
    "    # Setup LR Data\n",
    "    X = data[beta_cols]\n",
    "    Y = data[y_col]\n",
    "    X_train = X.iloc[:int(len(data)*split)]\n",
    "    X_test = X.iloc[int(len(data)*split):]\n",
    "    Y_train = Y.iloc[:int(len(data)*split)]\n",
    "    Y_test = Y.iloc[int(len(data)*split):] \n",
    "    # Run LR\n",
    "    lasso = Lasso(alpha=lasso_alpha)\n",
    "    lasso.fit(X_train, Y_train)\n",
    "    r_squared = lasso.score(X_test, Y_test)\n",
    "    # Make predictions\n",
    "    predictions = lasso.predict(X_test)\n",
    "    # Calculate Mean Squared Error\n",
    "    mse = mean_squared_error(Y_test, predictions)\n",
    "    rmse = np.sqrt(mse)\n",
    "    # Custom R-squared\n",
    "    # Calculate SSE (Sum of Squared Errors)\n",
    "    SSE = np.sum((Y_test - predictions) ** 2)\n",
    "    # Calculate TSS (Total Sum of Squares) without centering around the mean\n",
    "    TSS = np.sum(Y_test ** 2)\n",
    "    # Calculate custom R2\n",
    "    MyR2 = 1 - (SSE / TSS)\n",
    "    # Print out custom R2\n",
    "    print(\"Custom R-squared:\", MyR2)\n",
    "    print(\"R-squared:\", r_squared)\n",
    "    print(\"Mean Squared Error:\", mse)\n",
    "    print(\"Root Mean Squared Error:\", rmse)\n",
    "    # Plot graphs\n",
    "    scatter(Y_test, predictions, 'Actual Value', 'Predicted Value', True)\n",
    "    time_series(Y_test, predictions)\n",
    "    return MyR2, Y_test, predictions"
   ]
  },
  {
   "cell_type": "markdown",
   "id": "386eaa66-e4ef-4129-8bdb-709518614574",
   "metadata": {},
   "source": [
    "### NYT"
   ]
  },
  {
   "cell_type": "code",
   "execution_count": null,
   "id": "add33400-6f26-461b-a49b-6e3cd4f7494e",
   "metadata": {},
   "outputs": [],
   "source": [
    "# Get Beta Columns\n",
    "nyt_beta_col = nyt_merge.filter(regex='^nyt').columns"
   ]
  },
  {
   "cell_type": "code",
   "execution_count": null,
   "id": "99ed48f2-c042-4056-ad44-1a2afaaf8bff",
   "metadata": {
    "scrolled": true
   },
   "outputs": [],
   "source": [
    "# Run Regression\n",
    "grid = [0]\n",
    "i = 1\n",
    "while max(grid)<=15:\n",
    "    grid.append(0.5*i)\n",
    "    i+=1\n",
    "value_collect = []\n",
    "r2_collect = []\n",
    "for value in grid:\n",
    "    print('-'*60)\n",
    "    print(value)\n",
    "    r2, Y, predictions = exec_l1_ols(data=nyt_merge, beta_cols=nyt_beta_col, y_col='daily_pol', lasso_alpha=value, split=0.5)\n",
    "    value_collect.append(value)\n",
    "    r2_collect.append(r2)"
   ]
  },
  {
   "cell_type": "code",
   "execution_count": null,
   "id": "5e8a5fe4-5483-4ad1-9947-5201227fee56",
   "metadata": {},
   "outputs": [],
   "source": [
    "# Plot Distribution\n",
    "scatter(value_collect, r2_collect, 'alpha', 'R2', False)"
   ]
  },
  {
   "cell_type": "markdown",
   "id": "553632e9-fed9-4cad-82be-86498dea0bff",
   "metadata": {},
   "source": [
    "### WSJ"
   ]
  },
  {
   "cell_type": "code",
   "execution_count": null,
   "id": "8dea14f6-d8a8-4597-863f-5b3b96ae93f6",
   "metadata": {},
   "outputs": [],
   "source": [
    "# Get Beta Columns\n",
    "wsj_beta_col = wsj_merge.filter(regex='^wsj').columns"
   ]
  },
  {
   "cell_type": "code",
   "execution_count": null,
   "id": "eed95000-de80-4c4c-8770-695ee1a81689",
   "metadata": {
    "scrolled": true
   },
   "outputs": [],
   "source": [
    "# Run Regression\n",
    "grid = [0]\n",
    "i = 1\n",
    "while max(grid)<=15:\n",
    "    grid.append(0.5*i)\n",
    "    i+=1\n",
    "value_collect = []\n",
    "r2_collect = []\n",
    "for value in grid:\n",
    "    print('-'*60)\n",
    "    print(value)\n",
    "    r2, Y, predictions = exec_l1_ols(data=wsj_merge, beta_cols=wsj_beta_col, y_col='daily_pol', lasso_alpha=value, split=0.5)\n",
    "    value_collect.append(value)\n",
    "    r2_collect.append(r2)"
   ]
  },
  {
   "cell_type": "code",
   "execution_count": null,
   "id": "aa937f99-7ab7-43fc-a531-5c6443b8e4aa",
   "metadata": {},
   "outputs": [],
   "source": [
    "# Plot Distribution\n",
    "scatter(value_collect, r2_collect, 'alpha', 'R2', False)"
   ]
  },
  {
   "cell_type": "markdown",
   "id": "25ded071-aafb-475a-ab87-1b039ebb4530",
   "metadata": {},
   "source": [
    "# L2 Split OLS (Train/Test)"
   ]
  },
  {
   "cell_type": "code",
   "execution_count": null,
   "id": "8f71704a-199f-4bf7-a367-127336915550",
   "metadata": {},
   "outputs": [],
   "source": [
    "# Function to run standard OLS\n",
    "def exec_l2_ols(data, beta_cols, y_col, ridge_alpha, split):\n",
    "    # Setup LR Data\n",
    "    X = data[beta_cols]\n",
    "    Y = data[y_col]\n",
    "    X_train = X.iloc[:int(len(data)*split)]\n",
    "    X_test = X.iloc[int(len(data)*split):]\n",
    "    Y_train = Y.iloc[:int(len(data)*split)]\n",
    "    Y_test = Y.iloc[int(len(data)*split):] \n",
    "    # Run LR\n",
    "    ridge = Ridge(alpha=ridge_alpha)\n",
    "    ridge.fit(X_train, Y_train)\n",
    "    r_squared = ridge.score(X_test, Y_test)\n",
    "    # Make predictions\n",
    "    predictions = ridge.predict(X_test)\n",
    "    # Calculate Mean Squared Error\n",
    "    mse = mean_squared_error(Y_test, predictions)\n",
    "    rmse = np.sqrt(mse)\n",
    "    # Custom R-squared\n",
    "    # Calculate SSE (Sum of Squared Errors)\n",
    "    SSE = np.sum((Y_test - predictions) ** 2)\n",
    "    # Calculate TSS (Total Sum of Squares) without centering around the mean\n",
    "    TSS = np.sum(Y_test ** 2)\n",
    "    # Calculate custom R2\n",
    "    MyR2 = 1 - (SSE / TSS)\n",
    "    # Print out custom R2\n",
    "    print(\"Custom R-squared:\", MyR2)\n",
    "    print(\"R-squared:\", r_squared)\n",
    "    print(\"Mean Squared Error:\", mse)\n",
    "    print(\"Root Mean Squared Error:\", rmse)\n",
    "    # Plot graphs\n",
    "    scatter(Y_test, predictions, 'Actual Value', 'Predicted Value', True)\n",
    "    time_series(Y_test, predictions)\n",
    "    return MyR2, Y_test, predictions"
   ]
  },
  {
   "cell_type": "markdown",
   "id": "6b974d6a-e1d7-4c41-9937-919befc0b90d",
   "metadata": {},
   "source": [
    "### NYT"
   ]
  },
  {
   "cell_type": "code",
   "execution_count": null,
   "id": "c7afebdb-84b7-4a24-8672-9e2ab9ad59b5",
   "metadata": {},
   "outputs": [],
   "source": [
    "# Get Beta Columns\n",
    "nyt_beta_col = nyt_merge.filter(regex='^nyt').columns"
   ]
  },
  {
   "cell_type": "code",
   "execution_count": null,
   "id": "004e3549-04d4-4c70-b096-7f173281cf6b",
   "metadata": {
    "scrolled": true
   },
   "outputs": [],
   "source": [
    "# Run Regression\n",
    "grid = [0]\n",
    "i = 1\n",
    "while max(grid)<=30:\n",
    "    grid.append(0.5*i)\n",
    "    i+=1\n",
    "value_collect = []\n",
    "r2_collect = []\n",
    "for value in grid:\n",
    "    print('-'*60)\n",
    "    print(value)\n",
    "    r2, Y, predictions = exec_l2_ols(data=nyt_merge, beta_cols=nyt_beta_col, y_col='daily_pol', ridge_alpha=value, split=0.5)\n",
    "    value_collect.append(value)\n",
    "    r2_collect.append(r2)"
   ]
  },
  {
   "cell_type": "code",
   "execution_count": null,
   "id": "76cd6a34-9827-4c34-b3a3-d17fbf89d45c",
   "metadata": {},
   "outputs": [],
   "source": [
    "# Plot Distribution\n",
    "scatter(value_collect, r2_collect, 'alpha', 'R2', False)"
   ]
  },
  {
   "cell_type": "markdown",
   "id": "d2120e9a-7c03-47e1-a399-69e26be40ff1",
   "metadata": {},
   "source": [
    "### WSJ"
   ]
  },
  {
   "cell_type": "code",
   "execution_count": null,
   "id": "0f36c93a-167c-4deb-ab52-12bd4bd45ea7",
   "metadata": {},
   "outputs": [],
   "source": [
    "# Get Beta Columns\n",
    "wsj_beta_col = wsj_merge.filter(regex='^wsj').columns"
   ]
  },
  {
   "cell_type": "code",
   "execution_count": null,
   "id": "65e512f4-f214-4327-82e2-023ae02915fd",
   "metadata": {
    "scrolled": true
   },
   "outputs": [],
   "source": [
    "# Run Regression\n",
    "grid = [0]\n",
    "i = 1\n",
    "while max(grid)<=30:\n",
    "    grid.append(0.5*i)\n",
    "    i+=1\n",
    "value_collect = []\n",
    "r2_collect = []\n",
    "for value in grid:\n",
    "    print('-'*60)\n",
    "    print(value)\n",
    "    r2, Y, predictions = exec_l2_ols(data=wsj_merge, beta_cols=wsj_beta_col, y_col='daily_pol', ridge_alpha=value, split=0.5)\n",
    "    value_collect.append(value)\n",
    "    r2_collect.append(r2)"
   ]
  },
  {
   "cell_type": "code",
   "execution_count": null,
   "id": "3a11894f-8aaf-47b6-a66a-724b9be7f416",
   "metadata": {},
   "outputs": [],
   "source": [
    "# Plot Distribution\n",
    "scatter(value_collect, r2_collect, 'alpha', 'R2', False)"
   ]
  },
  {
   "cell_type": "markdown",
   "id": "5b499eea-edd1-4fa0-a67f-027b23445897",
   "metadata": {},
   "source": [
    "#### Aggregate by Month"
   ]
  },
  {
   "cell_type": "markdown",
   "id": "0214a579-a0fa-4577-9f46-2f02a9c876c6",
   "metadata": {},
   "source": [
    "##### Daily to Month"
   ]
  },
  {
   "cell_type": "code",
   "execution_count": null,
   "id": "bc871d27-4270-44bb-92b8-5a2e27685f39",
   "metadata": {},
   "outputs": [],
   "source": [
    "r2, Y, predictions = exec_l2_ols(data=wsj_merge, beta_cols=wsj_beta_col, y_col='daily_pol', ridge_alpha=0.5, split=0.5)"
   ]
  },
  {
   "cell_type": "code",
   "execution_count": null,
   "id": "d49346dd-1d41-4fd7-af02-7e8dd73e5463",
   "metadata": {},
   "outputs": [],
   "source": [
    "y_month = Y.to_frame()\n",
    "pred_month = pd.DataFrame({'predictions':predictions}, index=Y.index)\n",
    "y_month = y_month.resample('M').mean()\n",
    "pred_month = pred_month.resample('M').mean()"
   ]
  },
  {
   "cell_type": "code",
   "execution_count": null,
   "id": "89a97e8a-1223-4188-805f-1105e568f43c",
   "metadata": {},
   "outputs": [],
   "source": [
    "# Calculate SSE (Sum of Squared Errors)\n",
    "SSE = np.sum((y_month.values - pred_month.values) ** 2)\n",
    "# Calculate TSS (Total Sum of Squares) without centering around the mean\n",
    "TSS = np.sum((y_month.values)** 2)\n",
    "# Calculate custom R2\n",
    "MyR2 = 1 - (SSE / TSS)\n",
    "# Print out custom R2\n",
    "print(\"Custom R-squared:\", MyR2)"
   ]
  },
  {
   "cell_type": "code",
   "execution_count": null,
   "id": "34d960e3-009e-4280-97c0-ae8672b60a2e",
   "metadata": {},
   "outputs": [],
   "source": [
    "scatter(y_month, pred_month, 'Actual Value', 'Predicted Value', True)\n",
    "time_series(y_month, pred_month)"
   ]
  },
  {
   "cell_type": "markdown",
   "id": "ff7ee1a5-92c0-41dc-ab24-f27e3a420ff2",
   "metadata": {},
   "source": [
    "##### Month"
   ]
  },
  {
   "cell_type": "code",
   "execution_count": null,
   "id": "7c5a6ac7-02d9-4054-8482-02715b710711",
   "metadata": {},
   "outputs": [],
   "source": [
    "wsj_merge_month = wsj_merge.resample('M').mean()"
   ]
  },
  {
   "cell_type": "code",
   "execution_count": null,
   "id": "942c3cd6-a2a1-4c88-b83f-9ae6a8014368",
   "metadata": {},
   "outputs": [],
   "source": [
    "r2, Y, predictions = exec_l2_ols(data=wsj_merge_month, beta_cols=wsj_beta_col, y_col='daily_pol', ridge_alpha=0.5, split=0.5)"
   ]
  },
  {
   "cell_type": "markdown",
   "id": "e4f7472b-1837-4bb3-9829-cd8b94aabf63",
   "metadata": {},
   "source": [
    "# Elastic Net OLS (Train/Test)"
   ]
  },
  {
   "cell_type": "code",
   "execution_count": null,
   "id": "c21cb95c-8434-49e2-a50f-479012a5d74e",
   "metadata": {},
   "outputs": [],
   "source": [
    "# Function to run standard OLS\n",
    "def exec_en_ols(data, beta_cols, y_col, en_alpha, l1_ratio, split):\n",
    "    # Setup LR Data\n",
    "    X = data[beta_cols]\n",
    "    Y = data[y_col]\n",
    "    X_train = X.iloc[:int(len(nyt_merge)*split)]\n",
    "    X_test = X.iloc[int(len(nyt_merge)*split):]\n",
    "    Y_train = Y.iloc[:int(len(nyt_merge)*split)]\n",
    "    Y_test = Y.iloc[int(len(nyt_merge)*split):] \n",
    "    # Run LR\n",
    "    elastic_net = ElasticNet(alpha=en_alpha, l1_ratio=l1_ratio)\n",
    "    elastic_net.fit(X_train, Y_train)\n",
    "    r_squared = elastic_net.score(X_test, Y_test)\n",
    "    # Make predictions\n",
    "    predictions = elastic_net.predict(X_test)\n",
    "    # Calculate Mean Squared Error\n",
    "    mse = mean_squared_error(Y_test, predictions)\n",
    "    rmse = np.sqrt(mse)\n",
    "    # Custom R-squared\n",
    "    # Calculate SSE (Sum of Squared Errors)\n",
    "    SSE = np.sum((Y_test - predictions) ** 2)\n",
    "    # Calculate TSS (Total Sum of Squares) without centering around the mean\n",
    "    TSS = np.sum(Y_test ** 2)\n",
    "    # Calculate custom R2\n",
    "    MyR2 = 1 - (SSE / TSS)\n",
    "    print(\"Custom R-squared:\", MyR2)\n",
    "    print(\"R-squared:\", r_squared)\n",
    "    print(\"Mean Squared Error:\", mse)\n",
    "    print(\"Root Mean Squared Error:\", rmse)\n",
    "    # Plot graphs\n",
    "    scatter(Y_test, predictions, 'Actual Value', 'Predicted Value', True)\n",
    "    time_series(Y_test, predictions)\n",
    "    return MyR2"
   ]
  },
  {
   "cell_type": "markdown",
   "id": "c25b062f-43e3-414e-9556-5b450473b1c2",
   "metadata": {},
   "source": [
    "### NYT"
   ]
  },
  {
   "cell_type": "code",
   "execution_count": null,
   "id": "ac67f4f3-f9a6-4226-ac14-87620b242dab",
   "metadata": {},
   "outputs": [],
   "source": [
    "# Get Beta Columns\n",
    "nyt_beta_col = nyt_merge.filter(regex='^nyt').columns"
   ]
  },
  {
   "cell_type": "code",
   "execution_count": null,
   "id": "63ce7eb2-02d4-4f1f-8022-840890596e7d",
   "metadata": {
    "scrolled": true
   },
   "outputs": [],
   "source": [
    "# Run Regression\n",
    "alpha_values = [0.05, 0.10, 0.25, 0.50, 1.0, 2.0, 5.0, 10.0]\n",
    "l1_ratio_values = [0.05, 0.1, 0.3, 0.5, 0.7, 0.9]\n",
    "grid = [(alpha, l1_ratio) for alpha in alpha_values for l1_ratio in l1_ratio_values]\n",
    "for value in grid:\n",
    "    print(f\"Alpha {value[0]:^10} | l1_ratio{value[1]:^10}\")\n",
    "    r_squared = exec_en_ols(data=nyt_merge, beta_cols=nyt_beta_col, y_col='daily_pol', en_alpha=value[0], l1_ratio=value[1], split=0.5)"
   ]
  },
  {
   "cell_type": "markdown",
   "id": "65a13bdd-0ffe-47f7-ab23-9efcfde8f4c4",
   "metadata": {},
   "source": [
    "### WSJ"
   ]
  },
  {
   "cell_type": "code",
   "execution_count": null,
   "id": "014f902d-31f0-4aa4-b247-abcebd3e5a78",
   "metadata": {},
   "outputs": [],
   "source": [
    "# Get Beta Columns\n",
    "wsj_beta_col = wsj_merge.filter(regex='^wsj').columns"
   ]
  },
  {
   "cell_type": "code",
   "execution_count": null,
   "id": "daff71d4-c247-496d-97db-9f20eca1b3dd",
   "metadata": {
    "scrolled": true
   },
   "outputs": [],
   "source": [
    "# Run Regression\n",
    "alpha_values = [0.05, 0.10, 0.25, 0.50, 1.0, 2.0, 5.0, 10.0]\n",
    "l1_ratio_values = [0.05, 0.1, 0.3, 0.5, 0.7, 0.9]\n",
    "grid = [(alpha, l1_ratio) for alpha in alpha_values for l1_ratio in l1_ratio_values]\n",
    "for value in grid:\n",
    "    print(f\"Alpha {value[0]:^10} | l1_ratio{value[1]:^10}\")\n",
    "    r_squared = exec_en_ols(data=wsj_merge, beta_cols=wsj_beta_col, y_col='daily_pol', en_alpha=value[0], l1_ratio=value[1], split=0.5)"
   ]
  },
  {
   "cell_type": "markdown",
   "id": "28bbe0fa-7189-48e5-bc4d-7e14cbb35303",
   "metadata": {},
   "source": [
    "# Detrending Y-Value"
   ]
  },
  {
   "cell_type": "code",
   "execution_count": null,
   "id": "18ef37a7-f780-4e25-9abc-8a7929c98383",
   "metadata": {},
   "outputs": [],
   "source": [
    "nyt_merge_detrend = nyt_merge.copy(deep=True)"
   ]
  },
  {
   "cell_type": "code",
   "execution_count": null,
   "id": "7db92b08-ea8a-416e-bb2a-46f377c06f00",
   "metadata": {},
   "outputs": [],
   "source": [
    "# Get Beta Columns\n",
    "nyt_beta_col = nyt_merge_detrend.filter(regex='^nyt').columns"
   ]
  },
  {
   "cell_type": "code",
   "execution_count": null,
   "id": "f7bd05bf-43c8-4210-9d3c-d87738dae305",
   "metadata": {},
   "outputs": [],
   "source": [
    "# Detrend on a rolling 5 day basis\n",
    "nyt_merge_detrend['daily_pol_5'] = nyt_merge_detrend['daily_pol'] - nyt_merge_detrend['daily_pol'].rolling(5).mean()\n",
    "# Detrend on a rolling 5 day basis\n",
    "nyt_merge_detrend['daily_pol_60'] = nyt_merge_detrend['daily_pol'] - nyt_merge_detrend['daily_pol'].rolling(60).mean()"
   ]
  },
  {
   "cell_type": "code",
   "execution_count": null,
   "id": "a78d17fa-30dd-4b39-8033-6efb6ae87cd9",
   "metadata": {},
   "outputs": [],
   "source": [
    "nyt_merge_detrend = nyt_merge_detrend.dropna()"
   ]
  },
  {
   "cell_type": "code",
   "execution_count": null,
   "id": "e7f58396-cb03-4adc-8721-3252fa9eebdc",
   "metadata": {
    "scrolled": true
   },
   "outputs": [],
   "source": [
    "# Run Regression\n",
    "grid = [0]\n",
    "i = 1\n",
    "while max(grid)<=30:\n",
    "    grid.append(0.5*i)\n",
    "    i+=1\n",
    "value_collect = []\n",
    "r2_collect = []\n",
    "for value in grid:\n",
    "    print('-'*60)\n",
    "    print(value)\n",
    "    r2 = exec_l2_ols(data=nyt_merge_detrend, beta_cols=nyt_beta_col, y_col='daily_pol_60', ridge_alpha=value, split=0.5)\n",
    "    value_collect.append(value)\n",
    "    r2_collect.append(r2)"
   ]
  },
  {
   "cell_type": "code",
   "execution_count": null,
   "id": "ff7a725d-2acb-4fc7-b49c-7299a87aee47",
   "metadata": {},
   "outputs": [],
   "source": [
    "# Plot Distribution\n",
    "scatter(value_collect, r2_collect, 'alpha', 'R2', False)"
   ]
  },
  {
   "cell_type": "markdown",
   "id": "0b37c43f-9f99-4fef-81f9-456429e5ccd8",
   "metadata": {},
   "source": [
    "# Detrending X-Value and Y-Value"
   ]
  },
  {
   "cell_type": "code",
   "execution_count": null,
   "id": "4e39a172-dcf8-4a74-9b4b-a63797d8efd1",
   "metadata": {},
   "outputs": [],
   "source": [
    "nyt_merge_detrend = nyt_merge.copy(deep=True)"
   ]
  },
  {
   "cell_type": "code",
   "execution_count": null,
   "id": "365c863c-c046-4c42-a19f-47105302c0f2",
   "metadata": {},
   "outputs": [],
   "source": [
    "# Get Beta Columns\n",
    "nyt_beta_col = nyt_merge_detrend.filter(regex='^nyt').columns"
   ]
  },
  {
   "cell_type": "code",
   "execution_count": null,
   "id": "63c40d98-fe63-402d-953b-ade9d6e8c8fb",
   "metadata": {},
   "outputs": [],
   "source": [
    "# Detrend on a rolling 5 day basis\n",
    "nyt_merge_detrend['daily_pol_5'] = nyt_merge_detrend['daily_pol'] - nyt_merge_detrend['daily_pol'].rolling(5).mean()\n",
    "# Detrend on a rolling 5 day basis\n",
    "nyt_merge_detrend['daily_pol_60'] = nyt_merge_detrend['daily_pol'] - nyt_merge_detrend['daily_pol'].rolling(60).mean()"
   ]
  },
  {
   "cell_type": "code",
   "execution_count": null,
   "id": "2aeefa69-070f-4f06-b0b4-29632e4784df",
   "metadata": {},
   "outputs": [],
   "source": [
    "for col in nyt_beta_col:\n",
    "    nyt_merge_detrend[col] = nyt_merge_detrend[col] - nyt_merge_detrend[col].rolling(5).mean()"
   ]
  },
  {
   "cell_type": "code",
   "execution_count": null,
   "id": "eaa0ac2b-01e0-49c5-8b0d-10d6d422f494",
   "metadata": {},
   "outputs": [],
   "source": [
    "nyt_merge_detrend = nyt_merge_detrend.dropna()"
   ]
  },
  {
   "cell_type": "code",
   "execution_count": null,
   "id": "1f404429-f604-4e71-88aa-917c0c077fa6",
   "metadata": {
    "scrolled": true
   },
   "outputs": [],
   "source": [
    "# Run Regression\n",
    "grid = [0]\n",
    "i = 1\n",
    "while max(grid)<=30:\n",
    "    grid.append(0.5*i)\n",
    "    i+=1\n",
    "value_collect = []\n",
    "r2_collect = []\n",
    "for value in grid:\n",
    "    print('-'*60)\n",
    "    print(value)\n",
    "    r2 = exec_l2_ols(data=nyt_merge_detrend, beta_cols=nyt_beta_col, y_col='daily_pol_5', ridge_alpha=value, split=0.5)\n",
    "    value_collect.append(value)\n",
    "    r2_collect.append(r2)"
   ]
  },
  {
   "cell_type": "code",
   "execution_count": null,
   "id": "a2101c8f-4f62-4d62-b0cb-c465a7b8a309",
   "metadata": {},
   "outputs": [],
   "source": [
    "# Plot Distribution\n",
    "scatter(value_collect, r2_collect, 'alpha', 'R2', False)"
   ]
  },
  {
   "cell_type": "markdown",
   "id": "9e7a5398-444e-49ec-b278-9d1d949e224f",
   "metadata": {},
   "source": [
    "# Standard Neural Network"
   ]
  },
  {
   "cell_type": "code",
   "execution_count": null,
   "id": "48ab9a3c-8018-4563-9ef1-92dbc7de2008",
   "metadata": {},
   "outputs": [],
   "source": [
    "def exec_standard_nn_test(data, beta_cols, y_col, epochs, batch_size, split):\n",
    "    # Setup LR Data\n",
    "    X = data[beta_cols]\n",
    "    Y = data[y_col]\n",
    "    X_train = X.iloc[:int(len(nyt_merge)*split)]\n",
    "    X_test = X.iloc[int(len(nyt_merge)*split):]\n",
    "    Y_train = Y.iloc[:int(len(nyt_merge)*split)]\n",
    "    Y_test = Y.iloc[int(len(nyt_merge)*split):] \n",
    "\n",
    "    #NN Model\n",
    "    nn_model = Sequential([\n",
    "        Dense(64, activation='relu', input_shape=(len(beta_cols),)),\n",
    "        Dense(32, activation='relu'),\n",
    "        Dense(32, activation='relu'),\n",
    "        Dense(1)\n",
    "    ])\n",
    "    \n",
    "    nn_model.compile(optimizer=Adam(), loss='mean_squared_error')\n",
    "    nn_model.fit(X_train, Y_train, epochs, batch_size)\n",
    "    \n",
    "    predictions = nn_model.predict(X_test)\n",
    "\n",
    "    # Calculate metrics\n",
    "    mse = mean_squared_error(Y_test, predictions)\n",
    "    rmse = sqrt(mse)\n",
    "\n",
    "    # R-squared\n",
    "    ss_residual = np.sum((Y_test - predictions.flatten()) ** 2)\n",
    "    ss_total = np.sum((Y_test - np.mean(Y_test)) ** 2)\n",
    "    r_squared = 1 - (ss_residual / ss_total)\n",
    "    ss_total = np.sum((Y_test) ** 2)\n",
    "    cr_squared = 1 - (ss_residual / ss_total)\n",
    "\n",
    "    # Print out metrics\n",
    "    print(\"Custom R-squared:\", cr_squared)\n",
    "    print(\"R-squared:\", r_squared)\n",
    "    print(\"Mean Squared Error:\", mse)\n",
    "    print(\"Root Mean Squared Error:\", rmse)\n",
    "    \n",
    "    # Plot graphs\n",
    "    scatter(Y_test.values, predictions.flatten(), 'Actual Value', 'Predicted Value', True)\n",
    "    time_series(Y_test, predictions)\n",
    "    return Y_test, predictions"
   ]
  },
  {
   "cell_type": "markdown",
   "id": "cdb853ee-85bf-46eb-ac7a-9899b2485ca0",
   "metadata": {},
   "source": [
    "## WSJ"
   ]
  },
  {
   "cell_type": "code",
   "execution_count": null,
   "id": "992b3ea8-b837-4c56-a0e3-98736a4e9e37",
   "metadata": {},
   "outputs": [],
   "source": [
    "# Get Beta Columns\n",
    "wsj_beta_col = wsj_merge.filter(regex='^wsj').columns"
   ]
  },
  {
   "cell_type": "code",
   "execution_count": null,
   "id": "9664dba3-c6b7-4c80-b083-39c1b180a7b5",
   "metadata": {
    "scrolled": true
   },
   "outputs": [],
   "source": [
    "# Execute the test function with the neural network\n",
    "Y, predictions = exec_standard_nn_test(wsj_merge, wsj_beta_col, 'daily_pol', 10, 32, 0.5)"
   ]
  },
  {
   "cell_type": "markdown",
   "id": "9e79ce5f-20eb-48bd-8687-f6508ebf282e",
   "metadata": {},
   "source": [
    "# L1, L2, Early Stopping, Dropout, BatchNormalization Neural Network"
   ]
  },
  {
   "cell_type": "code",
   "execution_count": null,
   "id": "6c4603f7-b1ca-43f5-bbc5-b1417aff2745",
   "metadata": {},
   "outputs": [],
   "source": [
    "def exec_standard_nn_test(data, beta_cols, y_col, epochs, batch_size, split, val):\n",
    "    # Setup LR Data\n",
    "    X = data[beta_cols]\n",
    "    Y = data[y_col]\n",
    "    X_train = X.iloc[:int(len(nyt_merge)*split)]\n",
    "    X_test = X.iloc[int(len(nyt_merge)*split):]\n",
    "    Y_train = Y.iloc[:int(len(nyt_merge)*split)] \n",
    "    Y_test = Y.iloc[int(len(nyt_merge)*split):] \n",
    "    \n",
    "    # X_train = X_train.iloc[:int(len(X_train)*val)]\n",
    "    # Y_train = Y_train.iloc[:int(len(Y_train)*val)]\n",
    "    # X_val = X_train.iloc[:int(len(X_train)*val):]\n",
    "    # Y_val = X_train.iloc[:int(len(Y_train)*val):]\n",
    "\n",
    "\n",
    "    #NN Model\n",
    "    nn_model = Sequential([\n",
    "        Dense(128, activation='relu', input_shape=(len(beta_cols),), kernel_regularizer=l1_l2(l1=0, l2=1e-4)),\n",
    "        Dropout(0.3),\n",
    "        BatchNormalization(),\n",
    "        Dense(64, activation='relu', kernel_regularizer=l1_l2(l1=0, l2=1e-4)),\n",
    "        Dropout(0.3),\n",
    "        Dense(1)\n",
    "    ])\n",
    "\n",
    "    #NN Model\n",
    "    nn_model = Sequential([\n",
    "        Dense(128, activation='relu', input_shape=(len(beta_cols),), kernel_regularizer=l1_l2(l1=0, l2=1e-2)),\n",
    "        Dense(64, activation='relu', kernel_regularizer=l1_l2(l1=0, l2=1e-2)),\n",
    "        Dropout(0.5),\n",
    "        Dense(1)\n",
    "    ])\n",
    "    \n",
    "    nn_model.compile(optimizer=Adam(learning_rate=0.001), loss='mean_squared_error')\n",
    "    \n",
    "    # Implement Early Stopping\n",
    "    early_stopping = EarlyStopping(monitor='val_loss', patience=20, restore_best_weights=True)\n",
    "    # nn_model.fit(X_train, Y_train, epochs=epochs, batch_size=batch_size, validation_data=(X_val, Y_val), callbacks=[early_stopping])\n",
    "    nn_model.fit(X_train, Y_train, epochs=epochs, batch_size=batch_size)\n",
    "    \n",
    "    predictions = nn_model.predict(X_test)\n",
    "\n",
    "    # Calculate metrics\n",
    "    mse = mean_squared_error(Y_test, predictions)\n",
    "    rmse = sqrt(mse)\n",
    "\n",
    "    # R-squared\n",
    "    ss_residual = np.sum((Y_test - predictions.flatten()) ** 2)\n",
    "    ss_total = np.sum((Y_test - np.mean(Y_test)) ** 2)\n",
    "    r_squared = 1 - (ss_residual / ss_total)\n",
    "    ss_total = np.sum((Y_test) ** 2)\n",
    "    cr_squared = 1 - (ss_residual / ss_total)\n",
    "\n",
    "    # Print out metrics\n",
    "    print(\"Custom R-squared:\", cr_squared)\n",
    "    print(\"R-squared:\", r_squared)\n",
    "    print(\"Mean Squared Error:\", mse)\n",
    "    print(\"Root Mean Squared Error:\", rmse)\n",
    "    \n",
    "    # Plot graphs\n",
    "    scatter(Y_test.values, predictions.flatten(), 'Actual Value', 'Predicted Value', True)\n",
    "    time_series(Y_test, predictions)\n",
    "    return Y_test, predictions"
   ]
  },
  {
   "cell_type": "markdown",
   "id": "af206487-e5b1-4362-930f-10f131168803",
   "metadata": {},
   "source": [
    "## WSJ"
   ]
  },
  {
   "cell_type": "code",
   "execution_count": null,
   "id": "7a420f4d-9f67-407d-b2cb-30f4633ad741",
   "metadata": {},
   "outputs": [],
   "source": [
    "# Get Beta Columns\n",
    "wsj_beta_col = wsj_merge.filter(regex='^wsj').columns"
   ]
  },
  {
   "cell_type": "code",
   "execution_count": null,
   "id": "4df7f5d4-4bd2-4389-acf4-5a3f50637d8b",
   "metadata": {
    "scrolled": true
   },
   "outputs": [],
   "source": [
    "# Execute the test function with the neural network\n",
    "Y, predictions = exec_standard_nn_test(wsj_merge, wsj_beta_col, 'daily_pol', 32, 32, 0.6, 0.8)"
   ]
  }
 ],
 "metadata": {
  "kernelspec": {
   "display_name": "narrativezoo",
   "language": "python",
   "name": "narrativezoo"
  },
  "language_info": {
   "codemirror_mode": {
    "name": "ipython",
    "version": 3
   },
   "file_extension": ".py",
   "mimetype": "text/x-python",
   "name": "python",
   "nbconvert_exporter": "python",
   "pygments_lexer": "ipython3",
   "version": "3.10.13"
  }
 },
 "nbformat": 4,
 "nbformat_minor": 5
}
